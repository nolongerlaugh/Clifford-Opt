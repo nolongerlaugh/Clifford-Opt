{
 "cells": [
  {
   "cell_type": "code",
   "execution_count": 1,
   "id": "6bbae72d",
   "metadata": {},
   "outputs": [],
   "source": [
    "import os\n",
    "from tqdm import tqdm\n",
    "from time import time\n",
    "import pandas as pd\n",
    "from qiskit.visualization import circuit_drawer\n",
    "from qiskit import QuantumCircuit, Aer, transpile, QuantumRegister, ClassicalRegister\n",
    "from qiskit.providers.aer import AerSimulator\n",
    "from qiskit.quantum_info import StabilizerState, Pauli, DensityMatrix, Statevector, Operator\n",
    "from qiskit.quantum_info.operators.symplectic.clifford import Clifford\n",
    "from qiskit.circuit.quantumcircuitdata import CircuitInstruction\n",
    "from qiskit.circuit.operation import Operation\n",
    "from qiskit_aer import aerbackend, aerprovider\n",
    "from qiskit.providers.aer.noise import NoiseModel, depolarizing_error, QuantumError, pauli_error\n",
    "import matplotlib.pyplot as plt\n",
    "import sys\n",
    "import numpy as np\n",
    "from qiskit.quantum_info import state_fidelity\n",
    "np.random.seed(239)\n",
    "import seaborn as sns\n",
    "directory_path='QASMBench/small/'"
   ]
  },
  {
   "cell_type": "code",
   "execution_count": 2,
   "id": "fd94ec70",
   "metadata": {},
   "outputs": [],
   "source": [
    "native_gates = ['rz', 'cz', 'rx', 'ry']"
   ]
  },
  {
   "cell_type": "code",
   "execution_count": 3,
   "id": "5c8d306d",
   "metadata": {},
   "outputs": [],
   "source": [
    "def remove_conditions(circuit : QuantumCircuit):\n",
    "    circ = QuantumCircuit(*circuit.cregs, *circuit.qregs)\n",
    "    circ.name = circuit.name\n",
    "    for instr, qargs, cargs in circuit.data:\n",
    "        if (instr.condition is None):\n",
    "            circ.append(instr, qargs, cargs)\n",
    "    return circ"
   ]
  },
  {
   "cell_type": "code",
   "execution_count": 4,
   "id": "ec9d1453",
   "metadata": {},
   "outputs": [],
   "source": [
    "def round_to_pi2(angle):\n",
    "    normalized_angle = angle % (2 * np.pi)\n",
    "    rounded_angle = round(normalized_angle / (np.pi / 2)) * (np.pi / 2)\n",
    "    return rounded_angle\n",
    "\n",
    "def round_angles(circuit):\n",
    "    new_circuit = QuantumCircuit(*circuit.qregs, *circuit.cregs)\n",
    "    angle = 0\n",
    "    for instr, qargs, cargs in circuit.data:\n",
    "        if (instr.name == 'rz'):\n",
    "            angle = round_to_pi2(instr.params[0])\n",
    "            new_circuit.rz(angle, qargs)\n",
    "        elif(instr.name == 'rx'):\n",
    "            angle = round_to_pi2(instr.params[0])\n",
    "            new_circuit.rx(angle, qargs)\n",
    "        elif(instr.name == 'ry'):\n",
    "            angle = round_to_pi2(instr.params[0])\n",
    "            new_circuit.ry(angle, qargs)\n",
    "        else:\n",
    "            new_circuit.append(instr, qargs, cargs)\n",
    "    return new_circuit"
   ]
  },
  {
   "cell_type": "code",
   "execution_count": 5,
   "id": "2679f57b",
   "metadata": {},
   "outputs": [],
   "source": [
    "def get_duration_prob(name, params, T2=2000, T_RX=100, T_RZ=30, T_CZ=15): #mks\n",
    "    if (name == 'rx' or name == 'ry'):\n",
    "        theta = params[0] % (2 * np.pi)\n",
    "        return theta / np.pi * 5, 1 - np.exp(-theta / T_RX / np.pi)\n",
    "    if (name == 'rz'):\n",
    "        theta = params[0] % (2 * np.pi)\n",
    "        return theta / np.pi * 0.5, 1 - np.exp(-theta / T_RZ / np.pi)\n",
    "    if (name == 'cz'):\n",
    "        return 2, 1 - np.exp(-2. / T_CZ)\n",
    "    if (name == 'id'):\n",
    "        t = params[0]\n",
    "        return t, 1 - np.exp(-t/T2)\n",
    "    return None\n",
    "\n",
    "def make_native_circuit(t_circ : QuantumCircuit, opt_level=0, T2=2000, T_RX=100, T_RZ=30, T_CZ=15) -> (QuantumCircuit, dict):\n",
    "    circuit = transpile(t_circ, basis_gates=native_gates, optimization_level=opt_level)\n",
    "    time = 0.0 #mks\n",
    "    new_circuit = QuantumCircuit(*circuit.qregs, *circuit.cregs)\n",
    "    new_circuit.name = t_circ.name\n",
    "    data = []\n",
    "    num_instr = 0\n",
    "    times = np.zeros(circuit.num_qubits)\n",
    "    for instr, qargs, cargs in circuit.data:\n",
    "        if (instr.name in native_gates):\n",
    "            for qarg in qargs:\n",
    "                index = circuit.find_bit(qarg).index     \n",
    "                # id gate:\n",
    "                if times[index] != time:\n",
    "                    new_circuit.id(qarg)\n",
    "                    duration_id, prob_id = get_duration_prob('id', [time - times[index]], T2=T2)\n",
    "                    data.append(prob_id)\n",
    "                    times[index] = time\n",
    "            # gate:\n",
    "            duration, prob = get_duration_prob(instr.name, instr.params, T2=T2, T_RX=T_RX, T_RZ=T_RZ, T_CZ=T_CZ)\n",
    "            new_circuit.append(instr, qargs, cargs)\n",
    "            data.append(prob)\n",
    "            time = time + duration\n",
    "            for qarg in qargs:\n",
    "                times[index] = time\n",
    "    for qreg in new_circuit.qregs:\n",
    "        for qarg in qreg:\n",
    "            index = new_circuit.find_bit(qarg).index\n",
    "            if times[index] != time:\n",
    "                new_circuit.id(qarg)\n",
    "                duration, prob = get_duration_prob('id', [time - times[index]], T2=T2)\n",
    "                data.append(prob)        \n",
    "    return new_circuit, data"
   ]
  },
  {
   "cell_type": "code",
   "execution_count": 6,
   "id": "c2de035d",
   "metadata": {},
   "outputs": [],
   "source": [
    "paths = []\n",
    "for root, dirs, files in os.walk(directory_path):\n",
    "    for dir_name in dirs:\n",
    "        qasm_file_path = os.path.join(directory_path, dir_name, f\"{dir_name}.qasm\")\n",
    "        number_at_end = int(''.join(filter(str.isdigit, dir_name)))\n",
    "        if os.path.exists(qasm_file_path) and number_at_end <= 7:\n",
    "            paths.append(qasm_file_path)\n",
    "def noisy_circuit(circuit, data):\n",
    "    new_circuit = QuantumCircuit(*circuit.qregs, *circuit.cregs)\n",
    "    assert(len(circuit.data) == len(data))\n",
    "    for i, (instr, qargs, cargs) in enumerate(circuit.data):\n",
    "        prob_error = data[i]\n",
    "        choice = np.random.choice(['Z', 'I'], p=[prob_error, 1 - prob_error])\n",
    "        new_circuit.append(instr, qargs, cargs)\n",
    "        for qubit in qargs:\n",
    "            if (choice == 'Z'):\n",
    "                new_circuit.z(qubit)\n",
    "    return new_circuit"
   ]
  },
  {
   "cell_type": "code",
   "execution_count": 7,
   "id": "5ad363a6",
   "metadata": {},
   "outputs": [],
   "source": [
    "def make_clifford_data(circ : QuantumCircuit, data : list = None, round_angle : bool =False):\n",
    "    if not round_angle or not data:\n",
    "        c, data = make_native_circuit(round_angles(circ), opt_level=0)\n",
    "    else:\n",
    "        c = circ\n",
    "    new_circuit = QuantumCircuit(*c.qregs, *c.cregs)\n",
    "    new_data = []\n",
    "    for i, (instr, qargs, cargs) in enumerate(c.data):\n",
    "        if (instr.name == 'rz'):\n",
    "            angle = instr.params[0]\n",
    "            if (angle == np.pi / 2):\n",
    "                new_circuit.s(qargs)\n",
    "            elif (angle == np.pi):\n",
    "                new_circuit.z(qargs)\n",
    "            elif (angle == 3 * np.pi / 2):\n",
    "                new_circuit.s(qargs)\n",
    "                new_circuit.z(qargs)\n",
    "                new_data.append(0)\n",
    "            else:\n",
    "                new_circuit.id(qargs)\n",
    "        elif (instr.name == 'rx'):\n",
    "            angle = instr.params[0]\n",
    "            if (angle == np.pi / 2):\n",
    "                new_circuit.h(qargs)\n",
    "                new_circuit.s(qargs)\n",
    "                new_circuit.h(qargs)\n",
    "                new_data.append(0)\n",
    "                new_data.append(0)\n",
    "            elif (angle == np.pi):\n",
    "                new_circuit.x(qargs)\n",
    "            elif (angle == 3 * np.pi / 2):\n",
    "                new_circuit.h(qargs)\n",
    "                new_circuit.s(qargs)\n",
    "                new_circuit.h(qargs)\n",
    "                new_circuit.x(qargs)\n",
    "                new_data.append(0)\n",
    "                new_data.append(0)\n",
    "                new_data.append(0)\n",
    "            else:\n",
    "                new_circuit.id(qargs)\n",
    "        elif (instr.name == 'ry'):\n",
    "            angle = instr.params[0]\n",
    "            if (angle == np.pi / 2):\n",
    "                new_circuit.sdg(qargs)\n",
    "                new_circuit.h(qargs)\n",
    "                new_circuit.s(qargs)\n",
    "                new_circuit.h(qargs)\n",
    "                new_circuit.s(qargs)\n",
    "                new_data.append(0)\n",
    "                new_data.append(0)\n",
    "                new_data.append(0)\n",
    "                new_data.append(0)\n",
    "            elif (angle == np.pi):\n",
    "                new_circuit.y(qargs)\n",
    "            elif (angle == 3 * np.pi / 2):\n",
    "                new_circuit.sdg(qargs)\n",
    "                new_circuit.h(qargs)\n",
    "                new_circuit.s(qargs)\n",
    "                new_circuit.h(qargs)\n",
    "                new_circuit.s(qargs)\n",
    "                new_circuit.y(qargs)\n",
    "                new_data.append(0)\n",
    "                new_data.append(0)\n",
    "                new_data.append(0)\n",
    "                new_data.append(0)\n",
    "                new_data.append(0)\n",
    "            else:\n",
    "                new_circuit.id(qargs)\n",
    "        else:\n",
    "            new_circuit.append(instr, qargs, cargs)\n",
    "        new_data.append(data[i])\n",
    "    return new_circuit, new_data"
   ]
  },
  {
   "cell_type": "code",
   "execution_count": 35,
   "id": "e9b9e4cf",
   "metadata": {},
   "outputs": [],
   "source": [
    "def make_clifford(circ : QuantumCircuit, round_angle : bool =False) -> Clifford:\n",
    "    if not round_angle:\n",
    "        transpile_circuit = round_angles(circ)\n",
    "    else:\n",
    "        transpile_circuit = circ\n",
    "    new_circuit = QuantumCircuit(*transpile_circuit.qregs, *transpile_circuit.cregs)\n",
    "    for instr, qargs, cargs in transpile_circuit.data:\n",
    "        if (instr.name == 'rz'):\n",
    "            angle = instr.params[0]\n",
    "            if (angle == np.pi / 2):\n",
    "                new_circuit.s(qargs)\n",
    "            elif (angle == np.pi):\n",
    "                new_circuit.z(qargs)\n",
    "            elif (angle == 3 * np.pi / 2):\n",
    "                new_circuit.s(qargs)\n",
    "                new_circuit.z(qargs)\n",
    "        elif (instr.name == 'rx'):\n",
    "            angle = instr.params[0]\n",
    "            if (angle == np.pi / 2):\n",
    "                new_circuit.h(qargs)\n",
    "                new_circuit.s(qargs)\n",
    "                new_circuit.h(qargs)\n",
    "            elif (angle == np.pi):\n",
    "                new_circuit.x(qargs)\n",
    "            elif (angle == 3 * np.pi / 2):\n",
    "                new_circuit.h(qargs)\n",
    "                new_circuit.s(qargs)\n",
    "                new_circuit.h(qargs)\n",
    "                new_circuit.x(qargs)\n",
    "        elif (instr.name == 'ry'):\n",
    "            angle = instr.params[0]\n",
    "            if (angle == np.pi / 2):\n",
    "                new_circuit.sdg(qargs)\n",
    "                new_circuit.h(qargs)\n",
    "                new_circuit.s(qargs)\n",
    "                new_circuit.h(qargs)\n",
    "                new_circuit.s(qargs)\n",
    "            elif (angle == np.pi):\n",
    "                new_circuit.y(qargs)\n",
    "            elif (angle == 3 * np.pi / 2):\n",
    "                new_circuit.sdg(qargs)\n",
    "                new_circuit.h(qargs)\n",
    "                new_circuit.s(qargs)\n",
    "                new_circuit.h(qargs)\n",
    "                new_circuit.s(qargs)\n",
    "                new_circuit.y(qargs)\n",
    "        else:\n",
    "            new_circuit.append(instr, qargs, cargs)\n",
    "    new_circuit.save_clifford()\n",
    "    aer = AerSimulator(method='stabilizer')\n",
    "    result = aer.run(new_circuit, shots=1).result().data()['clifford']\n",
    "    return result, new_circuit"
   ]
  },
  {
   "cell_type": "code",
   "execution_count": 9,
   "id": "e6ce69c8",
   "metadata": {},
   "outputs": [
    {
     "name": "stdout",
     "output_type": "stream",
     "text": [
      "0 qft_n4.qasm\n",
      "1 fredkin_n3.qasm\n",
      "2 dnn_n2.qasm\n",
      "3 qec_sm_n5.qasm\n",
      "4 deutsch_n2.qasm\n",
      "5 bell_n4.qasm\n",
      "6 teleportation_n3.qasm\n",
      "7 shor_n5.qasm\n",
      "8 wstate_n3.qasm\n",
      "9 vqe_uccsd_n4.qasm\n",
      "10 lpn_n5.qasm\n",
      "11 sat_n7.qasm\n",
      "12 hhl_n7.qasm\n",
      "13 qrng_n4.qasm\n",
      "14 qaoa_n6.qasm\n",
      "15 pea_n5.qasm\n",
      "16 toffoli_n3.qasm\n",
      "17 inverseqft_n4.qasm\n",
      "18 variational_n4.qasm\n",
      "19 linearsolver_n3.qasm\n",
      "20 grover_n2.qasm\n",
      "21 basis_change_n3.qasm\n",
      "22 adder_n4.qasm\n",
      "23 vqe_n4.qasm\n",
      "24 basis_trotter_n4.qasm\n",
      "25 simon_n6.qasm\n",
      "26 quantumwalks_n2.qasm\n",
      "27 vqe_uccsd_n6.qasm\n",
      "28 cat_state_n4.qasm\n",
      "29 qaoa_n3.qasm\n",
      "30 iswap_n2.qasm\n",
      "31 qec_en_n5.qasm\n",
      "32 ipea_n2.qasm\n"
     ]
    }
   ],
   "source": [
    "circuits = []\n",
    "for i, path in enumerate(paths):\n",
    "    \n",
    "    filename = path.split('/')[-1]\n",
    "    print(i, filename)\n",
    "    sys.stdout.flush()\n",
    "    circuit = QuantumCircuit.from_qasm_file(path)\n",
    "    circuit.name = filename[:-5]\n",
    "    circuit = remove_conditions(circuit)\n",
    "    circuit.remove_final_measurements()\n",
    "    #circuit = round_angles(circuit)\n",
    "    circuits.append(make_native_circuit(circuit, opt_level=2))"
   ]
  },
  {
   "cell_type": "code",
   "execution_count": 10,
   "id": "19e22cc6",
   "metadata": {},
   "outputs": [],
   "source": [
    "def fidelity_clifford_long(clifford1 : Clifford, clifford2 : Clifford) -> complex:\n",
    "    d = 2 ** clifford1.num_qubits\n",
    "    initial_state = np.zeros(d)\n",
    "    initial_state[0] = 1\n",
    "    initial_state = initial_state.reshape(d, 1)\n",
    "    state1 = clifford1.to_matrix() @ initial_state\n",
    "    state2 = clifford2.to_matrix() @ initial_state\n",
    "    return state_fidelity(state1, state2)"
   ]
  },
  {
   "cell_type": "code",
   "execution_count": 11,
   "id": "a2bcb830",
   "metadata": {},
   "outputs": [
    {
     "data": {
      "text/plain": [
       "' '"
      ]
     },
     "execution_count": 11,
     "metadata": {},
     "output_type": "execute_result"
    }
   ],
   "source": [
    "#to plot circuits\n",
    "#plt.figure(figsize=(100, 5))\n",
    "# circ, d = make_native_circuit(round_angles(circuits[12][0]), opt_level=0)\n",
    "# n_circ = noisy_circuit(circ, d)\n",
    "# fig, axs = plt.subplots(3, 1, figsize=(100, 8), gridspec_kw={'hspace': 0.001})\n",
    "# circuit_drawer(circuits[12][0], output='mpl', style='iqp', ax=axs[0], scale=2, fold=len(circuits[12][0].data))\n",
    "# circuit_drawer(circ, output='mpl', style='clifford', ax=axs[1], scale=2, fold=len(circuits[12][0].data))\n",
    "# circuit_drawer(n_circ, output='mpl', style='clifford', ax=axs[2], scale=2, fold=len(n_circ.data))\n",
    "# plt.savefig('circ12.pdf')\n"
   ]
  },
  {
   "cell_type": "code",
   "execution_count": 73,
   "id": "a8d09f7e",
   "metadata": {},
   "outputs": [],
   "source": [
    "#to check (measuring -> measure = True)\n",
    "def fidelity_density_matrix(circuit :QuantumCircuit, T2=2000, T_RX=100, T_RZ=30, T_CZ=15, measure=True):\n",
    "    circ, d = make_native_circuit(circuit, opt_level=0, T2=T2, T_RX=T_RX, T_RZ=T_RZ, T_CZ=T_CZ)\n",
    "    noiseless_circ = circ.copy()\n",
    "    noiseless_circ.save_density_matrix()\n",
    "    g = AerSimulator(method='density_matrix')\n",
    "    rho1 = np.array(g.run(noiseless_circ, shots=1, noise_model=None, optimization_level=0).result().data()['density_matrix'])\n",
    "    \n",
    "\n",
    "    rho2 = np.zeros_like(rho1)\n",
    "    rho2[0, 0] = 1\n",
    "    for i, (instr, qargs, cargs) in enumerate(circ.data):\n",
    "        qc = QuantumCircuit(*circ.qregs, *circ.cregs)\n",
    "        qc.append(instr, qargs, cargs)\n",
    "        U = Operator(qc).to_matrix()\n",
    "        qc = QuantumCircuit(*circ.qregs, *circ.cregs)\n",
    "        qc.z(qargs)\n",
    "        Z = Operator(qc).to_matrix()\n",
    "        rho2 = U @ rho2 @ U.T.conj()\n",
    "        prob = d[i]\n",
    "        #rho2 = (1 - prob) * rho2 + prob * np.eye(2 ** circ.num_qubits) / (2 ** circ.num_qubits)\n",
    "        rho2 = (1 - prob) * rho2 + prob * Z @ rho2 @ Z\n",
    "    if measure:\n",
    "        return state_fidelity(np.diag(rho1.diagonal()), np.diag(rho2.diagonal()))\n",
    "    else:\n",
    "        return state_fidelity(rho1, rho2)"
   ]
  },
  {
   "cell_type": "code",
   "execution_count": 71,
   "id": "849a7265",
   "metadata": {},
   "outputs": [],
   "source": [
    "#to check 2 \n",
    "def fidelity_long_shots_2(circuit : QuantumCircuit, shots=1000):\n",
    "    circ, d = make_native_circuit(circuit)\n",
    "    noiseless_circ = circ.copy()\n",
    "    noiseless_circ.save_statevector()\n",
    "    g = AerSimulator(method='statevector')\n",
    "    phi1 = np.array(g.run(noiseless_circ, shots=1, noise_model=None, optimization_level=0).result().get_statevector(noiseless_circ))\n",
    "    fs = []\n",
    "    for _ in tqdm(range(shots)):\n",
    "        noisy_circ = noisy_circuit(circ, d)\n",
    "        noisy_circ.save_statevector()\n",
    "        phi2 = np.array(g.run(noisy_circ, shots=1, noise_model=None, optimization_level=0).result().get_statevector(noisy_circ))\n",
    "        fs.append(state_fidelity(phi1, phi2))\n",
    "\n",
    "    return np.mean(fs)"
   ]
  },
  {
   "cell_type": "code",
   "execution_count": 15,
   "id": "8a862b34",
   "metadata": {},
   "outputs": [],
   "source": [
    "def clifford_simulate(circ :  QuantumCircuit) -> Clifford:\n",
    "    circuit = circ.copy()\n",
    "    circuit.save_clifford()\n",
    "    aer = AerSimulator(method='stabilizer')\n",
    "    result = aer.run(circuit, shots=1).result().data()['clifford']\n",
    "    return result"
   ]
  },
  {
   "cell_type": "code",
   "execution_count": 54,
   "id": "a952be7b",
   "metadata": {},
   "outputs": [],
   "source": [
    "def fidelity(circuit : QuantumCircuit, shots=1000):\n",
    "    circ, d = make_native_circuit(round_angles(circuit), opt_level=0)\n",
    "    clifford1, c = make_clifford(circ, round_angle=True)\n",
    "    fs = []\n",
    "    clifford2 = 0\n",
    "    r = 2 ** clifford1.num_qubits\n",
    "    initial_state = np.zeros(r)\n",
    "    initial_state[0] = 1\n",
    "    initial_state = initial_state.reshape(r, 1)\n",
    "    state1 = clifford1.to_matrix() @ initial_state\n",
    "    for _ in tqdm(range(shots)):\n",
    "    #for _ in range(shots):\n",
    "        noisy = noisy_circuit(circ, d)\n",
    "        clifford2, c = make_clifford(noisy, round_angle=True)\n",
    "        state2 = clifford2.to_matrix() @ initial_state\n",
    "        fs.append(state_fidelity(state1, state2))\n",
    "    return np.mean(fs)"
   ]
  },
  {
   "cell_type": "code",
   "execution_count": 55,
   "id": "717c85c7",
   "metadata": {},
   "outputs": [],
   "source": [
    "def fidelity2(circuit : QuantumCircuit, shots=1000):\n",
    "    circ, d = make_clifford_data(circuit)\n",
    "    clifford1 = clifford_simulate(circ)\n",
    "    fs = []\n",
    "    clifford2 = 0\n",
    "    noisies = []\n",
    "    for _ in tqdm(range(shots)):\n",
    "    #for _ in range(shots):\n",
    "        noisy = noisy_circuit(circ, d)\n",
    "        noisy.save_clifford()\n",
    "        noisies.append(noisy)\n",
    "    g = AerSimulator(method='stabilizer')\n",
    "    result = g.run(noisies, shots=1).result()#.data()['clifford']\n",
    "    d = 2 ** clifford1.num_qubits\n",
    "    initial_state = np.zeros(d)\n",
    "    initial_state[0] = 1\n",
    "    initial_state = initial_state.reshape(d, 1)\n",
    "    state1 = clifford1.to_matrix() @ initial_state\n",
    "    for i in tqdm(range(shots)):\n",
    "        clifford2 = result.data(i)['clifford']\n",
    "        state2 = clifford2.to_matrix() @ initial_state\n",
    "        fs.append(state_fidelity(state1, state2))\n",
    "    return np.mean(fs)"
   ]
  },
  {
   "cell_type": "code",
   "execution_count": 40,
   "id": "e000adee",
   "metadata": {},
   "outputs": [],
   "source": [
    "from collections import defaultdict"
   ]
  },
  {
   "cell_type": "code",
   "execution_count": 78,
   "id": "f3dc25fe",
   "metadata": {},
   "outputs": [],
   "source": [
    "def fidelity_measuring(circuit : QuantumCircuit, shots=1000):\n",
    "    c, d = make_clifford_data(circuit)\n",
    "    c.measure_all()\n",
    "    g = AerSimulator(method='stabilizer')\n",
    "    result1 = dict(g.run(c, noise_model=None, shots=shots).result().data())['counts']\n",
    "    noisies = []\n",
    "    result2 = defaultdict(int)\n",
    "    c.remove_final_measurements()\n",
    "    for _ in tqdm(range(shots)):\n",
    "        noisy = noisy_circuit(c, d)\n",
    "        noisy.measure_all()\n",
    "        noisies.append(noisy)\n",
    "    results = g.run(noisies, noise_model=None, shots=1).result()\n",
    "    for i in range(shots):\n",
    "        res = list(results.data(i)['counts'])[0]\n",
    "        result2[res] += 1\n",
    "    df = pd.DataFrame([result1, result2]).T\n",
    "    df = df.fillna(0).astype(int)\n",
    "    np.sum(np.sqrt(df[0] * df[1]))/shots\n",
    "    return (np.sum(np.sqrt(df[0] * df[1])) / shots) ** 2"
   ]
  },
  {
   "cell_type": "code",
   "execution_count": 56,
   "id": "78a066ff",
   "metadata": {},
   "outputs": [
    {
     "name": "stderr",
     "output_type": "stream",
     "text": [
      "100%|██████████████████████████████████████████████████████████████████████████████████████████████████████| 1000/1000 [01:30<00:00, 11.03it/s]\n"
     ]
    },
    {
     "data": {
      "text/plain": [
       "90.77504920959473"
      ]
     },
     "execution_count": 56,
     "metadata": {},
     "output_type": "execute_result"
    }
   ],
   "source": [
    "t = time()\n",
    "fidelity(round_angles(circuits[12][0]))\n",
    "time() - t"
   ]
  },
  {
   "cell_type": "code",
   "execution_count": 57,
   "id": "3e437b92",
   "metadata": {},
   "outputs": [
    {
     "name": "stderr",
     "output_type": "stream",
     "text": [
      "100%|██████████████████████████████████████████████████████████████████████████████████████████████████████| 1000/1000 [00:22<00:00, 44.92it/s]\n",
      "100%|██████████████████████████████████████████████████████████████████████████████████████████████████████| 1000/1000 [00:31<00:00, 32.04it/s]\n"
     ]
    },
    {
     "data": {
      "text/plain": [
       "62.58219885826111"
      ]
     },
     "execution_count": 57,
     "metadata": {},
     "output_type": "execute_result"
    }
   ],
   "source": [
    "t = time()\n",
    "fidelity2(round_angles(circuits[12][0]))\n",
    "time() - t"
   ]
  },
  {
   "cell_type": "code",
   "execution_count": 66,
   "id": "15db2264",
   "metadata": {},
   "outputs": [
    {
     "name": "stderr",
     "output_type": "stream",
     "text": [
      "100%|██████████████████████████████████████████████████████████████████████████████████████████████████████| 1000/1000 [00:20<00:00, 48.48it/s]\n",
      "100%|█████████████████████████████████████████████████████████████████████████████████████████████████| 1000/1000 [00:00<00:00, 1193258.61it/s]\n"
     ]
    },
    {
     "data": {
      "text/plain": [
       "28.95241904258728"
      ]
     },
     "execution_count": 66,
     "metadata": {},
     "output_type": "execute_result"
    }
   ],
   "source": [
    "t = time()\n",
    "f = fidelity_measuring(round_angles(circuits[12][0]))\n",
    "time() - t"
   ]
  },
  {
   "cell_type": "code",
   "execution_count": 79,
   "id": "50031bb6",
   "metadata": {},
   "outputs": [
    {
     "name": "stderr",
     "output_type": "stream",
     "text": [
      "100%|█████████████████████████████████████████████████████████████████████████████████████████████████████| 1000/1000 [00:01<00:00, 756.09it/s]\n"
     ]
    },
    {
     "name": "stdout",
     "output_type": "stream",
     "text": [
      "{'circuit': 'qft_n4', 'fidelity_clifford': 0.9908762494398029, 'fidelity_original': 0.9999999999999996}\n"
     ]
    },
    {
     "name": "stderr",
     "output_type": "stream",
     "text": [
      "100%|█████████████████████████████████████████████████████████████████████████████████████████████████████| 1000/1000 [00:01<00:00, 782.96it/s]\n"
     ]
    },
    {
     "name": "stdout",
     "output_type": "stream",
     "text": [
      "{'circuit': 'fredkin_n3', 'fidelity_clifford': 0.49300000000000005, 'fidelity_original': 0.39106405550761647}\n"
     ]
    },
    {
     "name": "stderr",
     "output_type": "stream",
     "text": [
      "100%|█████████████████████████████████████████████████████████████████████████████████████████████████████| 1000/1000 [00:08<00:00, 120.33it/s]\n"
     ]
    },
    {
     "name": "stdout",
     "output_type": "stream",
     "text": [
      "{'circuit': 'dnn_n2', 'fidelity_clifford': 0.9989345554470347, 'fidelity_original': 0.8639664379803735}\n"
     ]
    },
    {
     "name": "stderr",
     "output_type": "stream",
     "text": [
      "100%|████████████████████████████████████████████████████████████████████████████████████████████████████| 1000/1000 [00:00<00:00, 1519.25it/s]\n"
     ]
    },
    {
     "name": "stdout",
     "output_type": "stream",
     "text": [
      "{'circuit': 'qec_sm_n5', 'fidelity_clifford': 0.708, 'fidelity_original': 0.5977697568146965}\n"
     ]
    },
    {
     "name": "stderr",
     "output_type": "stream",
     "text": [
      "100%|████████████████████████████████████████████████████████████████████████████████████████████████████| 1000/1000 [00:00<00:00, 2701.53it/s]\n"
     ]
    },
    {
     "name": "stdout",
     "output_type": "stream",
     "text": [
      "{'circuit': 'deutsch_n2', 'fidelity_clifford': 0.8835426350048214, 'fidelity_original': 0.8614973460222624}\n"
     ]
    },
    {
     "name": "stderr",
     "output_type": "stream",
     "text": [
      "100%|█████████████████████████████████████████████████████████████████████████████████████████████████████| 1000/1000 [00:01<00:00, 562.34it/s]\n"
     ]
    },
    {
     "name": "stdout",
     "output_type": "stream",
     "text": [
      "{'circuit': 'bell_n4', 'fidelity_clifford': 0.5731606984561499, 'fidelity_original': 0.8924242507246247}\n"
     ]
    },
    {
     "name": "stderr",
     "output_type": "stream",
     "text": [
      "100%|████████████████████████████████████████████████████████████████████████████████████████████████████| 1000/1000 [00:00<00:00, 1936.99it/s]\n"
     ]
    },
    {
     "name": "stdout",
     "output_type": "stream",
     "text": [
      "{'circuit': 'teleportation_n3', 'fidelity_clifford': 0.858113745331296, 'fidelity_original': 0.9614945039644334}\n"
     ]
    },
    {
     "name": "stderr",
     "output_type": "stream",
     "text": [
      "100%|█████████████████████████████████████████████████████████████████████████████████████████████████████| 1000/1000 [00:03<00:00, 257.82it/s]\n"
     ]
    },
    {
     "name": "stdout",
     "output_type": "stream",
     "text": [
      "{'circuit': 'shor_n5', 'fidelity_clifford': 0.4089017277280061, 'fidelity_original': 0.1876423780842681}\n"
     ]
    },
    {
     "name": "stderr",
     "output_type": "stream",
     "text": [
      "100%|█████████████████████████████████████████████████████████████████████████████████████████████████████| 1000/1000 [00:01<00:00, 974.60it/s]\n"
     ]
    },
    {
     "name": "stdout",
     "output_type": "stream",
     "text": [
      "{'circuit': 'wstate_n3', 'fidelity_clifford': 0.9997691666947234, 'fidelity_original': 0.5754651480864622}\n"
     ]
    },
    {
     "name": "stderr",
     "output_type": "stream",
     "text": [
      "100%|██████████████████████████████████████████████████████████████████████████████████████████████████████| 1000/1000 [00:12<00:00, 82.33it/s]\n"
     ]
    },
    {
     "name": "stdout",
     "output_type": "stream",
     "text": [
      "{'circuit': 'vqe_uccsd_n4', 'fidelity_clifford': 0.25061713030738375, 'fidelity_original': 0.3932136604077383}\n"
     ]
    },
    {
     "name": "stderr",
     "output_type": "stream",
     "text": [
      "100%|████████████████████████████████████████████████████████████████████████████████████████████████████| 1000/1000 [00:00<00:00, 1552.60it/s]\n"
     ]
    },
    {
     "name": "stdout",
     "output_type": "stream",
     "text": [
      "{'circuit': 'lpn_n5', 'fidelity_clifford': 0.7469946054890377, 'fidelity_original': 0.7370431218829469}\n"
     ]
    },
    {
     "name": "stderr",
     "output_type": "stream",
     "text": [
      "100%|█████████████████████████████████████████████████████████████████████████████████████████████████████| 1000/1000 [00:06<00:00, 158.42it/s]\n"
     ]
    },
    {
     "name": "stdout",
     "output_type": "stream",
     "text": [
      "{'circuit': 'sat_n7', 'fidelity_clifford': 0.4800419510608801, 'fidelity_original': 0.07246306984790904}\n"
     ]
    },
    {
     "name": "stderr",
     "output_type": "stream",
     "text": [
      "100%|██████████████████████████████████████████████████████████████████████████████████████████████████████| 1000/1000 [00:20<00:00, 48.04it/s]\n"
     ]
    },
    {
     "name": "stdout",
     "output_type": "stream",
     "text": [
      "{'circuit': 'hhl_n7', 'fidelity_clifford': 0.11871041607725456, 'fidelity_original': 0.03540532150908307}\n"
     ]
    },
    {
     "name": "stderr",
     "output_type": "stream",
     "text": [
      "100%|████████████████████████████████████████████████████████████████████████████████████████████████████| 1000/1000 [00:00<00:00, 1732.17it/s]\n"
     ]
    },
    {
     "name": "stdout",
     "output_type": "stream",
     "text": [
      "{'circuit': 'qrng_n4', 'fidelity_clifford': 0.9885715270578909, 'fidelity_original': 0.9999999999999998}\n"
     ]
    },
    {
     "name": "stderr",
     "output_type": "stream",
     "text": [
      "100%|██████████████████████████████████████████████████████████████████████████████████████████████████████| 1000/1000 [00:10<00:00, 94.15it/s]\n"
     ]
    },
    {
     "name": "stdout",
     "output_type": "stream",
     "text": [
      "{'circuit': 'qaoa_n6', 'fidelity_clifford': 0.9634210973090078, 'fidelity_original': 0.9061042732924427}\n"
     ]
    },
    {
     "name": "stderr",
     "output_type": "stream",
     "text": [
      "100%|█████████████████████████████████████████████████████████████████████████████████████████████████████| 1000/1000 [00:04<00:00, 225.33it/s]\n"
     ]
    },
    {
     "name": "stdout",
     "output_type": "stream",
     "text": [
      "{'circuit': 'pea_n5', 'fidelity_clifford': 0.19555559999918165, 'fidelity_original': 0.05270148069116053}\n"
     ]
    },
    {
     "name": "stderr",
     "output_type": "stream",
     "text": [
      "100%|████████████████████████████████████████████████████████████████████████████████████████████████████| 1000/1000 [00:00<00:00, 1258.56it/s]\n"
     ]
    },
    {
     "name": "stdout",
     "output_type": "stream",
     "text": [
      "{'circuit': 'toffoli_n3', 'fidelity_clifford': 0.7960000000000002, 'fidelity_original': 0.585475931786248}\n"
     ]
    },
    {
     "name": "stderr",
     "output_type": "stream",
     "text": [
      "100%|████████████████████████████████████████████████████████████████████████████████████████████████████| 1000/1000 [00:00<00:00, 1034.33it/s]\n"
     ]
    },
    {
     "name": "stdout",
     "output_type": "stream",
     "text": [
      "{'circuit': 'inverseqft_n4', 'fidelity_clifford': 0.9380000000000001, 'fidelity_original': 0.9419543197774449}\n"
     ]
    },
    {
     "name": "stderr",
     "output_type": "stream",
     "text": [
      "100%|█████████████████████████████████████████████████████████████████████████████████████████████████████| 1000/1000 [00:02<00:00, 389.30it/s]\n"
     ]
    },
    {
     "name": "stdout",
     "output_type": "stream",
     "text": [
      "{'circuit': 'variational_n4', 'fidelity_clifford': 0.29300000000000004, 'fidelity_original': 0.377861527669024}\n"
     ]
    },
    {
     "name": "stderr",
     "output_type": "stream",
     "text": [
      "100%|█████████████████████████████████████████████████████████████████████████████████████████████████████| 1000/1000 [00:01<00:00, 968.10it/s]\n"
     ]
    },
    {
     "name": "stdout",
     "output_type": "stream",
     "text": [
      "{'circuit': 'linearsolver_n3', 'fidelity_clifford': 0.5199999999999999, 'fidelity_original': 0.6675204425182433}\n"
     ]
    },
    {
     "name": "stderr",
     "output_type": "stream",
     "text": [
      "100%|████████████████████████████████████████████████████████████████████████████████████████████████████| 1000/1000 [00:00<00:00, 1390.47it/s]\n"
     ]
    },
    {
     "name": "stdout",
     "output_type": "stream",
     "text": [
      "{'circuit': 'grover_n2', 'fidelity_clifford': 0.706, 'fidelity_original': 0.7186563021219056}\n"
     ]
    },
    {
     "name": "stderr",
     "output_type": "stream",
     "text": [
      "100%|█████████████████████████████████████████████████████████████████████████████████████████████████████| 1000/1000 [00:02<00:00, 498.34it/s]\n"
     ]
    },
    {
     "name": "stdout",
     "output_type": "stream",
     "text": [
      "{'circuit': 'basis_change_n3', 'fidelity_clifford': 0.317, 'fidelity_original': 0.24817658409519283}\n"
     ]
    },
    {
     "name": "stderr",
     "output_type": "stream",
     "text": [
      "100%|█████████████████████████████████████████████████████████████████████████████████████████████████████| 1000/1000 [00:02<00:00, 488.95it/s]\n"
     ]
    },
    {
     "name": "stdout",
     "output_type": "stream",
     "text": [
      "{'circuit': 'adder_n4', 'fidelity_clifford': 0.4695219125574892, 'fidelity_original': 0.26212470962667134}\n"
     ]
    },
    {
     "name": "stderr",
     "output_type": "stream",
     "text": [
      "100%|█████████████████████████████████████████████████████████████████████████████████████████████████████| 1000/1000 [00:02<00:00, 413.21it/s]\n"
     ]
    },
    {
     "name": "stdout",
     "output_type": "stream",
     "text": [
      "{'circuit': 'vqe_n4', 'fidelity_clifford': 0.9920695224033078, 'fidelity_original': 0.8461734599402964}\n"
     ]
    },
    {
     "name": "stderr",
     "output_type": "stream",
     "text": [
      "100%|██████████████████████████████████████████████████████████████████████████████████████████████████████| 1000/1000 [01:38<00:00, 10.14it/s]\n"
     ]
    },
    {
     "name": "stdout",
     "output_type": "stream",
     "text": [
      "{'circuit': 'basis_trotter_n4', 'fidelity_clifford': 0.067, 'fidelity_original': 0.06250002962237237}\n"
     ]
    },
    {
     "name": "stderr",
     "output_type": "stream",
     "text": [
      "100%|█████████████████████████████████████████████████████████████████████████████████████████████████████| 1000/1000 [00:02<00:00, 457.84it/s]\n"
     ]
    },
    {
     "name": "stdout",
     "output_type": "stream",
     "text": [
      "{'circuit': 'simon_n6', 'fidelity_clifford': 0.37164474119823526, 'fidelity_original': 0.529663124622572}\n"
     ]
    },
    {
     "name": "stderr",
     "output_type": "stream",
     "text": [
      "100%|████████████████████████████████████████████████████████████████████████████████████████████████████| 1000/1000 [00:00<00:00, 1121.24it/s]\n"
     ]
    },
    {
     "name": "stdout",
     "output_type": "stream",
     "text": [
      "{'circuit': 'quantumwalks_n2', 'fidelity_clifford': 0.7447822816190907, 'fidelity_original': 0.6657662230914415}\n"
     ]
    },
    {
     "name": "stderr",
     "output_type": "stream",
     "text": [
      "100%|██████████████████████████████████████████████████████████████████████████████████████████████████████| 1000/1000 [02:06<00:00,  7.93it/s]\n"
     ]
    },
    {
     "name": "stdout",
     "output_type": "stream",
     "text": [
      "{'circuit': 'vqe_uccsd_n6', 'fidelity_clifford': 0.5162178333387005, 'fidelity_original': 0.4305812880931189}\n"
     ]
    },
    {
     "name": "stderr",
     "output_type": "stream",
     "text": [
      "100%|████████████████████████████████████████████████████████████████████████████████████████████████████| 1000/1000 [00:00<00:00, 1054.13it/s]\n"
     ]
    },
    {
     "name": "stdout",
     "output_type": "stream",
     "text": [
      "{'circuit': 'cat_state_n4', 'fidelity_clifford': 0.6129710874418843, 'fidelity_original': 0.6450606722580624}\n"
     ]
    },
    {
     "name": "stderr",
     "output_type": "stream",
     "text": [
      "100%|████████████████████████████████████████████████████████████████████████████████████████████████████| 1000/1000 [00:00<00:00, 1213.65it/s]\n"
     ]
    },
    {
     "name": "stdout",
     "output_type": "stream",
     "text": [
      "{'circuit': 'qaoa_n3', 'fidelity_clifford': 0.9972339653388418, 'fidelity_original': 0.9620671661597635}\n"
     ]
    },
    {
     "name": "stderr",
     "output_type": "stream",
     "text": [
      "100%|████████████████████████████████████████████████████████████████████████████████████████████████████| 1000/1000 [00:00<00:00, 1484.24it/s]\n"
     ]
    },
    {
     "name": "stdout",
     "output_type": "stream",
     "text": [
      "{'circuit': 'iswap_n2', 'fidelity_clifford': 0.703, 'fidelity_original': 0.7100490734194926}\n"
     ]
    },
    {
     "name": "stderr",
     "output_type": "stream",
     "text": [
      "100%|█████████████████████████████████████████████████████████████████████████████████████████████████████| 1000/1000 [00:01<00:00, 657.29it/s]\n"
     ]
    },
    {
     "name": "stdout",
     "output_type": "stream",
     "text": [
      "{'circuit': 'qec_en_n5', 'fidelity_clifford': 0.48899999999999993, 'fidelity_original': 0.26948616025509664}\n"
     ]
    },
    {
     "name": "stderr",
     "output_type": "stream",
     "text": [
      "100%|█████████████████████████████████████████████████████████████████████████████████████████████████████| 1000/1000 [00:03<00:00, 303.04it/s]\n"
     ]
    },
    {
     "name": "stdout",
     "output_type": "stream",
     "text": [
      "{'circuit': 'ipea_n2', 'fidelity_clifford': 0.5029747766354519, 'fidelity_original': 0.48121693288009026}\n"
     ]
    }
   ],
   "source": [
    "fidelities = []\n",
    "for circuit, d in circuits:\n",
    "    fidelities.append({\n",
    "        'circuit' : circuit.name,\n",
    "        'fidelity_clifford' : fidelity_measuring(circuit),\n",
    "        'fidelity_original' : fidelity_density_matrix(circuit, measure=True)\n",
    "    })\n",
    "    print(fidelities[-1])"
   ]
  },
  {
   "cell_type": "code",
   "execution_count": 80,
   "id": "a7273567",
   "metadata": {},
   "outputs": [
    {
     "data": {
      "image/png": "[encoded data removed]",
      "text/plain": [
       "<Figure size 720x432 with 1 Axes>"
      ]
     },
     "metadata": {
      "needs_background": "light"
     },
     "output_type": "display_data"
    }
   ],
   "source": [
    "df = pd.DataFrame(fidelities)\n",
    "plt.figure(figsize=(10, 6))\n",
    "sns.barplot(data=df.melt('circuit', var_name='Type', value_name='Fidelity'), x='circuit', y='Fidelity', hue='Type')\n",
    "plt.title('Fidelity')\n",
    "plt.xticks(rotation=90)\n",
    "plt.show()"
   ]
  },
  {
   "cell_type": "code",
   "execution_count": null,
   "id": "8d5c67bc",
   "metadata": {},
   "outputs": [],
   "source": []
  }
 ],
 "metadata": {
  "hide_input": false,
  "kernelspec": {
   "display_name": "Python 3 (ipykernel)",
   "language": "python",
   "name": "python3"
  },
  "language_info": {
   "codemirror_mode": {
    "name": "ipython",
    "version": 3
   },
   "file_extension": ".py",
   "mimetype": "text/x-python",
   "name": "python",
   "nbconvert_exporter": "python",
   "pygments_lexer": "ipython3",
   "version": "3.9.6"
  }
 },
 "nbformat": 4,
 "nbformat_minor": 5
}
