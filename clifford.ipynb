{
 "cells": [
  {
   "cell_type": "code",
   "execution_count": 1,
   "id": "6bbae72d",
   "metadata": {},
   "outputs": [],
   "source": [
    "import os\n",
    "from tqdm import tqdm\n",
    "from time import time\n",
    "import pandas as pd\n",
    "from qiskit.visualization import circuit_drawer\n",
    "from qiskit import QuantumCircuit, Aer, transpile, QuantumRegister, ClassicalRegister\n",
    "from qiskit.providers.aer import AerSimulator\n",
    "from qiskit.quantum_info import StabilizerState, Pauli, DensityMatrix, Statevector, Operator\n",
    "from qiskit.quantum_info.operators.symplectic.clifford import Clifford\n",
    "from qiskit.circuit.quantumcircuitdata import CircuitInstruction\n",
    "from qiskit.circuit.operation import Operation\n",
    "from qiskit_aer import aerbackend, aerprovider\n",
    "from qiskit.providers.aer.noise import NoiseModel, depolarizing_error, QuantumError, pauli_error\n",
    "import matplotlib.pyplot as plt\n",
    "import sys\n",
    "import random\n",
    "import numpy as np\n",
    "from collections import defaultdict\n",
    "from qiskit.quantum_info import state_fidelity\n",
    "np.random.seed(239)\n",
    "import seaborn as sns\n",
    "directory_path='QASMBench/'"
   ]
  },
  {
   "cell_type": "code",
   "execution_count": 2,
   "id": "fd94ec70",
   "metadata": {},
   "outputs": [],
   "source": [
    "native_gates = ['rz', 'cz', 'rx']"
   ]
  },
  {
   "cell_type": "code",
   "execution_count": 3,
   "id": "5c8d306d",
   "metadata": {},
   "outputs": [],
   "source": [
    "def remove_conditions(circuit : QuantumCircuit):\n",
    "    circ = QuantumCircuit(*circuit.cregs, *circuit.qregs)\n",
    "    circ.name = circuit.name\n",
    "    for instr, qargs, cargs in circuit.data:\n",
    "        if (instr.condition is None):\n",
    "            circ.append(instr, qargs, cargs)\n",
    "    return circ"
   ]
  },
  {
   "cell_type": "code",
   "execution_count": 4,
   "id": "87af2019",
   "metadata": {},
   "outputs": [],
   "source": [
    "def normalize_angle(angle):\n",
    "    normalized_angle = angle % (2 * np.pi)\n",
    "    if normalized_angle < 0:\n",
    "        normalized_angle += 2 * np.pi   \n",
    "    return normalized_angle"
   ]
  },
  {
   "cell_type": "code",
   "execution_count": 26,
   "id": "ec9d1453",
   "metadata": {},
   "outputs": [],
   "source": [
    "def round_to_pi2(angle):\n",
    "    normalized_angle = normalize_angle(angle)\n",
    "    rounded_angle = int(normalized_angle // (np.pi / 2)) * (np.pi / 2)\n",
    "    return rounded_angle\n",
    "\n",
    "def round_angles(circuit):\n",
    "    new_circuit = QuantumCircuit(*circuit.qregs, *circuit.cregs)\n",
    "    angle = 0\n",
    "    for instr, qargs, cargs in circuit.data:\n",
    "        if (instr.name == 'rz'):\n",
    "            angle = round_to_pi2(instr.params[0])\n",
    "            new_circuit.rz(angle, qargs) if angle else 0\n",
    "        elif(instr.name == 'rx'):\n",
    "            angle = round_to_pi2(instr.params[0])\n",
    "            new_circuit.rx(angle, qargs) if angle else 0\n",
    "        elif(instr.name == 'ry'):\n",
    "            angle = round_to_pi2(instr.params[0])\n",
    "            new_circuit.ry(angle, qargs) if angle else 0\n",
    "        else:\n",
    "            new_circuit.append(instr, qargs, cargs)\n",
    "    return new_circuit"
   ]
  },
  {
   "cell_type": "code",
   "execution_count": 6,
   "id": "2679f57b",
   "metadata": {},
   "outputs": [],
   "source": [
    "def get_duration_prob(name, params, T2=2000, T_RX=100, T_RZ=30, T_CZ=15): #mks\n",
    "    if (name == 'rx' or name == 'ry'):\n",
    "        theta = params[0] % (2 * np.pi)\n",
    "        return theta / np.pi * 5, 1 - np.exp(-theta / T_RX / np.pi)\n",
    "    if (name == 'rz'):\n",
    "        theta = params[0] % (2 * np.pi)\n",
    "        return theta / np.pi * 0.5, 1 - np.exp(-theta / T_RZ / np.pi)\n",
    "    if (name == 'cz'):\n",
    "        return 2, 1 - np.exp(-2. / T_CZ)\n",
    "    if (name == 'id'):\n",
    "        if len(params):\n",
    "            t = params[0]\n",
    "            return t, 1 - np.exp(-t/T2)\n",
    "        return 0, 1\n",
    "    return None\n",
    "\n",
    "def make_native_circuit(t_circ : QuantumCircuit, opt_level=0, T2=2000, T_RX=100, T_RZ=30, T_CZ=15) -> (QuantumCircuit, dict):\n",
    "    circuit = transpile(t_circ, basis_gates=native_gates, optimization_level=opt_level)\n",
    "    time = 0.0 #mks\n",
    "    new_circuit = QuantumCircuit(*circuit.qregs, *circuit.cregs)\n",
    "    new_circuit.name = t_circ.name\n",
    "    data = []\n",
    "    num_instr = 0\n",
    "    times = np.zeros(circuit.num_qubits)\n",
    "    for instr, qargs, cargs in circuit.data:\n",
    "        if (instr.name in native_gates):\n",
    "            for qarg in qargs:\n",
    "                index = circuit.find_bit(qarg).index     \n",
    "                # id gate:\n",
    "                if times[index] != time:\n",
    "                    new_circuit.id(qarg)\n",
    "                    duration_id, prob_id = get_duration_prob('id', [time - times[index]], T2=T2)\n",
    "                    data.append(prob_id)\n",
    "                    times[index] = time\n",
    "            # gate:\n",
    "            duration, prob = get_duration_prob(instr.name, instr.params, T2=T2, T_RX=T_RX, T_RZ=T_RZ, T_CZ=T_CZ)\n",
    "            new_circuit.append(instr, qargs, cargs)\n",
    "            data.append(prob)\n",
    "            time = time + duration\n",
    "            for qarg in qargs:\n",
    "                times[index] = time\n",
    "    for qreg in new_circuit.qregs:\n",
    "        for qarg in qreg:\n",
    "            index = new_circuit.find_bit(qarg).index\n",
    "            if times[index] != time:\n",
    "                new_circuit.id(qarg)\n",
    "                duration, prob = get_duration_prob('id', [time - times[index]], T2=T2)\n",
    "                data.append(prob)        \n",
    "    return new_circuit, data"
   ]
  },
  {
   "cell_type": "code",
   "execution_count": null,
   "id": "90f7d333",
   "metadata": {},
   "outputs": [],
   "source": []
  },
  {
   "cell_type": "code",
   "execution_count": 7,
   "id": "c2de035d",
   "metadata": {},
   "outputs": [],
   "source": [
    "def noisy_circuit(circuit, data):\n",
    "    new_circuit = QuantumCircuit(*circuit.qregs, *circuit.cregs)\n",
    "    assert(len(circuit.data) == len(data))\n",
    "    for i, (instr, qargs, cargs) in enumerate(circuit.data):\n",
    "        prob_error = data[i]\n",
    "        choice = np.random.choice(['Z', 'I'], p=[prob_error, 1 - prob_error])\n",
    "        new_circuit.append(instr, qargs, cargs)\n",
    "        if (choice == 'Z'):\n",
    "            new_circuit.z(qargs)\n",
    "    return new_circuit"
   ]
  },
  {
   "cell_type": "code",
   "execution_count": 8,
   "id": "5ad363a6",
   "metadata": {},
   "outputs": [],
   "source": [
    "def make_clifford_data(circ : QuantumCircuit, data : list = None, round_angle : bool =False):\n",
    "    if not round_angle or not data:\n",
    "        c, data = make_native_circuit(round_angles(circ), opt_level=0)\n",
    "    else:\n",
    "        c = circ\n",
    "    new_circuit = QuantumCircuit(*c.qregs, *c.cregs)\n",
    "    new_data = []\n",
    "    for i, (instr, qargs, cargs) in enumerate(c.data):\n",
    "        if (instr.name == 'rz'):\n",
    "            angle = instr.params[0]\n",
    "            if (angle == np.pi / 2):\n",
    "                new_circuit.s(qargs)\n",
    "                new_data.append(data[i])\n",
    "            elif (angle == np.pi):\n",
    "                new_circuit.z(qargs)\n",
    "                new_data.append(data[i])\n",
    "            elif (angle == 3 * np.pi / 2):\n",
    "                new_circuit.s(qargs)\n",
    "                new_circuit.z(qargs)\n",
    "                new_data.append(0)\n",
    "                new_data.append(data[i])\n",
    "        elif (instr.name == 'rx'):\n",
    "            angle = instr.params[0]\n",
    "            if (angle == np.pi / 2):\n",
    "                new_circuit.h(qargs)\n",
    "                new_circuit.s(qargs)\n",
    "                new_circuit.h(qargs)\n",
    "                new_data.append(0)\n",
    "                new_data.append(0)\n",
    "                new_data.append(data[i])\n",
    "            elif (angle == np.pi):\n",
    "                new_circuit.x(qargs)\n",
    "                new_data.append(data[i])\n",
    "            elif (angle == 3 * np.pi / 2):\n",
    "                new_circuit.h(qargs)\n",
    "                new_circuit.s(qargs)\n",
    "                new_circuit.h(qargs)\n",
    "                new_circuit.x(qargs)\n",
    "                new_data.append(0)\n",
    "                new_data.append(0)\n",
    "                new_data.append(0)\n",
    "                new_data.append(data[i])\n",
    "        elif (instr.name == 'ry'):\n",
    "            angle = instr.params[0]\n",
    "            if (angle == np.pi / 2):\n",
    "                new_circuit.sdg(qargs)\n",
    "                new_circuit.h(qargs)\n",
    "                new_circuit.s(qargs)\n",
    "                new_circuit.h(qargs)\n",
    "                new_circuit.s(qargs)\n",
    "                new_data.append(0)\n",
    "                new_data.append(0)\n",
    "                new_data.append(0)\n",
    "                new_data.append(0)\n",
    "                new_data.append(data[i])\n",
    "            elif (angle == np.pi):\n",
    "                new_circuit.y(qargs)\n",
    "                new_data.append(data[i])\n",
    "            elif (angle == 3 * np.pi / 2):\n",
    "                new_circuit.sdg(qargs)\n",
    "                new_circuit.h(qargs)\n",
    "                new_circuit.s(qargs)\n",
    "                new_circuit.h(qargs)\n",
    "                new_circuit.s(qargs)\n",
    "                new_circuit.y(qargs)\n",
    "                new_data.append(0)\n",
    "                new_data.append(0)\n",
    "                new_data.append(0)\n",
    "                new_data.append(0)\n",
    "                new_data.append(0)\n",
    "                new_data.append(data[i])\n",
    "        else:\n",
    "            new_circuit.append(instr, qargs, cargs)\n",
    "            new_data.append(data[i])\n",
    "    return new_circuit, new_data"
   ]
  },
  {
   "cell_type": "code",
   "execution_count": 9,
   "id": "e9b9e4cf",
   "metadata": {},
   "outputs": [],
   "source": [
    "def make_clifford(circ : QuantumCircuit, round_angle : bool =False) -> Clifford:\n",
    "    if not round_angle:\n",
    "        transpile_circuit = round_angles(circ)\n",
    "    else:\n",
    "        transpile_circuit = circ\n",
    "    new_circuit = QuantumCircuit(*transpile_circuit.qregs, *transpile_circuit.cregs)\n",
    "    close = lambda a, b : np.abs(a - b) < 1e-6\n",
    "    for instr, qargs, cargs in transpile_circuit.data:\n",
    "        if (instr.name == 'rz'):\n",
    "            angle = instr.params[0]\n",
    "            if (angle == np.pi / 2):\n",
    "                new_circuit.s(qargs)\n",
    "            elif (angle == np.pi):\n",
    "                new_circuit.z(qargs)\n",
    "            elif (angle == 3 * np.pi / 2):\n",
    "                new_circuit.s(qargs)\n",
    "                new_circuit.z(qargs)\n",
    "        elif (instr.name == 'rx'):\n",
    "            angle = instr.params[0]\n",
    "            if (angle == np.pi / 2):\n",
    "                new_circuit.h(qargs)\n",
    "                new_circuit.s(qargs)\n",
    "                new_circuit.h(qargs)\n",
    "            elif (angle == np.pi):\n",
    "                new_circuit.x(qargs)\n",
    "            elif (angle == 3 * np.pi / 2):\n",
    "                new_circuit.h(qargs)\n",
    "                new_circuit.s(qargs)\n",
    "                new_circuit.h(qargs)\n",
    "                new_circuit.x(qargs)\n",
    "        elif (instr.name == 'ry'):\n",
    "            angle = instr.params[0]\n",
    "            if (angle == np.pi / 2):\n",
    "                new_circuit.sdg(qargs)\n",
    "                new_circuit.h(qargs)\n",
    "                new_circuit.s(qargs)\n",
    "                new_circuit.h(qargs)\n",
    "                new_circuit.s(qargs)\n",
    "            elif (angle == np.pi):\n",
    "                new_circuit.y(qargs)\n",
    "            elif (angle == 3 * np.pi / 2):\n",
    "                new_circuit.sdg(qargs)\n",
    "                new_circuit.h(qargs)\n",
    "                new_circuit.s(qargs)\n",
    "                new_circuit.h(qargs)\n",
    "                new_circuit.s(qargs)\n",
    "                new_circuit.y(qargs)\n",
    "        else:\n",
    "            new_circuit.append(instr, qargs, cargs)\n",
    "    new_circuit.save_clifford()\n",
    "    aer = AerSimulator(method='stabilizer')\n",
    "    result = aer.run(new_circuit, shots=1).result().data()['clifford']\n",
    "    return result, new_circuit"
   ]
  },
  {
   "cell_type": "code",
   "execution_count": 10,
   "id": "8a8779e8",
   "metadata": {},
   "outputs": [],
   "source": [
    "paths = []\n",
    "for root, dirs, files in os.walk(directory_path):\n",
    "    for dir_name in dirs:\n",
    "        qasm_file_path = os.path.join(directory_path, dir_name, f\"{dir_name}.qasm\")\n",
    "        number_at_end = int(''.join(filter(str.isdigit, dir_name)))\n",
    "        if os.path.exists(qasm_file_path) and number_at_end <= 7:\n",
    "            paths.append(qasm_file_path)"
   ]
  },
  {
   "cell_type": "code",
   "execution_count": 11,
   "id": "e6ce69c8",
   "metadata": {},
   "outputs": [],
   "source": [
    "data_circuits = []\n",
    "circuits = []\n",
    "for i, path in enumerate(paths):    \n",
    "    filename = path.split('/')[-1]\n",
    "    sys.stdout.flush()\n",
    "    circuit = QuantumCircuit.from_qasm_file(path)\n",
    "    circuit.name = filename[:-5]\n",
    "    circuit = remove_conditions(circuit)\n",
    "    circuit.remove_final_measurements()\n",
    "    circuit2 = transpile(circuit, optimization_level=0, basis_gates=native_gates)\n",
    "    circuit2.name = circuit.name\n",
    "    circuits.append(circuit2)\n",
    "    data_circuits.append(make_native_circuit(circuit, opt_level=0))"
   ]
  },
  {
   "cell_type": "code",
   "execution_count": 12,
   "id": "14097aae",
   "metadata": {},
   "outputs": [
    {
     "data": {
      "text/plain": [
       "'qft_n4'"
      ]
     },
     "execution_count": 12,
     "metadata": {},
     "output_type": "execute_result"
    }
   ],
   "source": [
    "circuits[0].name"
   ]
  },
  {
   "cell_type": "code",
   "execution_count": 39,
   "id": "1b7912d7",
   "metadata": {},
   "outputs": [],
   "source": [
    "noise_model = aerbackend.NoiseModel()\n",
    "p_gate1 = 0.005\n",
    "error_gate1 = pauli_error([('Z',p_gate1), ('I', 1 - p_gate1)])\n",
    "error_gate2 = error_gate1.tensor(error_gate1)\n",
    "noise_model.add_all_qubit_quantum_error(error_gate1, [\"rx\", \"rz\"])\n",
    "noise_model.add_all_qubit_quantum_error(error_gate2, [\"cz\"])\n",
    "d = noise_model.to_dict()"
   ]
  },
  {
   "cell_type": "code",
   "execution_count": 46,
   "id": "cdd2a54d",
   "metadata": {},
   "outputs": [
    {
     "data": {
      "text/plain": [
       "0.9900249999999999"
      ]
     },
     "execution_count": 46,
     "metadata": {},
     "output_type": "execute_result"
    }
   ],
   "source": [
    "1 - p_gate1**2 - 2* p_gate1*(1-p_gate1)"
   ]
  },
  {
   "cell_type": "code",
   "execution_count": 40,
   "id": "bff0f41b",
   "metadata": {},
   "outputs": [
    {
     "data": {
      "text/plain": [
       "[{'type': 'qerror',\n",
       "  'id': '7030887b95804fafa574a81e25e24db6',\n",
       "  'operations': ['rx'],\n",
       "  'instructions': [[{'name': 'z', 'qubits': [0]}],\n",
       "   [{'name': 'id', 'qubits': [0]}]],\n",
       "  'probabilities': [0.005, 0.995]},\n",
       " {'type': 'qerror',\n",
       "  'id': '7030887b95804fafa574a81e25e24db6',\n",
       "  'operations': ['rz'],\n",
       "  'instructions': [[{'name': 'z', 'qubits': [0]}],\n",
       "   [{'name': 'id', 'qubits': [0]}]],\n",
       "  'probabilities': [0.005, 0.995]},\n",
       " {'type': 'qerror',\n",
       "  'id': '7015865de9f34103a83a005b33d60829',\n",
       "  'operations': ['cz'],\n",
       "  'instructions': [[{'name': 'z', 'qubits': [0]},\n",
       "    {'name': 'z', 'qubits': [1]}],\n",
       "   [{'name': 'id', 'qubits': [0]}, {'name': 'z', 'qubits': [1]}],\n",
       "   [{'name': 'z', 'qubits': [0]}, {'name': 'id', 'qubits': [1]}],\n",
       "   [{'name': 'id', 'qubits': [0]}, {'name': 'id', 'qubits': [1]}]],\n",
       "  'probabilities': [2.5e-05, 0.004975, 0.004975, 0.990025]}]"
      ]
     },
     "execution_count": 40,
     "metadata": {},
     "output_type": "execute_result"
    }
   ],
   "source": [
    "d['errors']"
   ]
  },
  {
   "cell_type": "code",
   "execution_count": 13,
   "id": "19e22cc6",
   "metadata": {},
   "outputs": [],
   "source": [
    "def fidelity_clifford_long(clifford1 : Clifford, clifford2 : Clifford) -> complex:\n",
    "    d = 2 ** clifford1.num_qubits\n",
    "    initial_state = np.zeros(d)\n",
    "    initial_state[0] = 1\n",
    "    initial_state = initial_state.reshape(d, 1)\n",
    "    state1 = clifford1.to_matrix() @ initial_state\n",
    "    state2 = clifford2.to_matrix() @ initial_state\n",
    "    return state_fidelity(state1, state2)"
   ]
  },
  {
   "cell_type": "code",
   "execution_count": 14,
   "id": "a2bcb830",
   "metadata": {},
   "outputs": [],
   "source": [
    "#to plot circuits\n",
    "#plt.figure(figsize=(100, 5))\n",
    "# circ, d = make_native_circuit(round_angles(circuits[12][0]), opt_level=0)\n",
    "# n_circ = noisy_circuit(circ, d)\n",
    "# fig, axs = plt.subplots(3, 1, figsize=(100, 8), gridspec_kw={'hspace': 0.001})\n",
    "# circuit_drawer(circuits[12][0], output='mpl', style='iqp', ax=axs[0], scale=2, fold=len(circuits[12][0].data))\n",
    "# circuit_drawer(circ, output='mpl', style='clifford', ax=axs[1], scale=2, fold=len(circuits[12][0].data))\n",
    "# circuit_drawer(n_circ, output='mpl', style='clifford', ax=axs[2], scale=2, fold=len(n_circ.data))\n",
    "# plt.savefig('circ12.pdf')\n"
   ]
  },
  {
   "cell_type": "code",
   "execution_count": 15,
   "id": "a8d09f7e",
   "metadata": {},
   "outputs": [],
   "source": [
    "#to check (measuring -> measure = True)\n",
    "def fidelity_density_matrix_orig(circuit :QuantumCircuit, T2=2000, T_RX=100, T_RZ=30, T_CZ=15, measure=True):\n",
    "    circ, d = make_native_circuit(circuit, opt_level=0, T2=T2, T_RX=T_RX, T_RZ=T_RZ, T_CZ=T_CZ)\n",
    "    noiseless_circ = circ.copy()\n",
    "    noiseless_circ.save_density_matrix()\n",
    "    g = AerSimulator(method='density_matrix')\n",
    "    rho1 = np.array(g.run(noiseless_circ, shots=1, noise_model=None, optimization_level=0).result().data()['density_matrix'])\n",
    "    \n",
    "\n",
    "    rho2 = np.zeros_like(rho1)\n",
    "    rho2[0, 0] = 1\n",
    "    for i, (instr, qargs, cargs) in enumerate(circ.data):\n",
    "        qc = QuantumCircuit(*circ.qregs, *circ.cregs)\n",
    "        qc.append(instr, qargs, cargs)\n",
    "        U = Operator(qc).to_matrix()\n",
    "        qc = QuantumCircuit(*circ.qregs, *circ.cregs)\n",
    "        qc.z(qargs)\n",
    "        Z = Operator(qc).to_matrix()\n",
    "        rho2 = U @ rho2 @ U.T.conj()\n",
    "        prob = d[i]\n",
    "        #rho2 = (1 - prob) * rho2 + prob * np.eye(2 ** circ.num_qubits) / (2 ** circ.num_qubits)\n",
    "        rho2 = (1 - prob) * rho2 + prob * Z @ rho2 @ Z\n",
    "    if measure:\n",
    "        return state_fidelity(np.diag(rho1.diagonal()), np.diag(rho2.diagonal()))\n",
    "    else:\n",
    "        return state_fidelity(rho1, rho2)"
   ]
  },
  {
   "cell_type": "code",
   "execution_count": 16,
   "id": "b8d33578",
   "metadata": {},
   "outputs": [],
   "source": [
    "def fidelity_density_matrix_clifford(circuit :QuantumCircuit, T2=2000, T_RX=100, T_RZ=30, T_CZ=15, measure=True):\n",
    "    circ, d = make_clifford_data(circuit)\n",
    "    noiseless_circ = circ.copy()\n",
    "    noiseless_circ.save_density_matrix()\n",
    "    g = AerSimulator(method='density_matrix')\n",
    "    rho1 = np.array(g.run(noiseless_circ, shots=1, noise_model=None, optimization_level=0).result().data()['density_matrix'])\n",
    "    \n",
    "\n",
    "    rho2 = np.zeros_like(rho1)\n",
    "    rho2[0, 0] = 1\n",
    "    for i, (instr, qargs, cargs) in enumerate(circ.data):\n",
    "        qc = QuantumCircuit(*circ.qregs, *circ.cregs)\n",
    "        qc.append(instr, qargs, cargs)\n",
    "        U = Operator(qc).to_matrix()\n",
    "        qc = QuantumCircuit(*circ.qregs, *circ.cregs)\n",
    "        qc.z(qargs)\n",
    "        Z = Operator(qc).to_matrix()\n",
    "        rho2 = U @ rho2 @ U.T.conj()\n",
    "        prob = d[i]\n",
    "        #rho2 = (1 - prob) * rho2 + prob * np.eye(2 ** circ.num_qubits) / (2 ** circ.num_qubits)\n",
    "        rho2 = (1 - prob) * rho2 + prob * Z @ rho2 @ Z\n",
    "    if measure:\n",
    "        return state_fidelity(np.diag(np.abs(rho1.diagonal())), np.diag(np.abs(rho2.diagonal())))\n",
    "    else:\n",
    "        return state_fidelity(rho1, rho2)"
   ]
  },
  {
   "cell_type": "code",
   "execution_count": null,
   "id": "2ab5ad48",
   "metadata": {},
   "outputs": [],
   "source": []
  },
  {
   "cell_type": "code",
   "execution_count": 27,
   "id": "f3dc25fe",
   "metadata": {},
   "outputs": [],
   "source": [
    "def fidelity_measuring(circuit : QuantumCircuit, shots=1000):\n",
    "    t = time()\n",
    "    #c, d = make_clifford_data(round_angles(circuit))\n",
    "    c, d = make_native_circuit(round_angles(circuit))\n",
    "    print(\"MAKE_DATA:\", time() - t)\n",
    "    t1 = time() - t\n",
    "    noiseless = c.copy()\n",
    "    noiseless.measure_all()\n",
    "    g = AerSimulator(method='stabilizer')\n",
    "    t = time()\n",
    "    result1 = dict(g.run(noiseless, noise_model=None, shots=shots, optimization_level=0).result().data())['counts']\n",
    "    print(\"NOISELESS:\", time() - t)\n",
    "    sys.stdout.flush()\n",
    "    t2 = time() - t\n",
    "    noisies = []\n",
    "    result2 = defaultdict(int)\n",
    "    #for _ in tqdm(range(shots)):\n",
    "    t = time()\n",
    "    for _ in range(shots):\n",
    "        noisy = noisy_circuit(c, d)\n",
    "        noisy.measure_all()\n",
    "        noisies.append(noisy)\n",
    "    print(\"NOISY CIRCUIT:\", time() - t)\n",
    "    t4 = time() - t\n",
    "    #noise_model = aerbackend.NoiseModel()\n",
    "    #p_gate1 = 0.005\n",
    "    #error_gate1 = pauli_error([('Z',p_gate1), ('I', 1 - p_gate1)])\n",
    "    #error_gate2 = error_gate1.tensor(error_gate1)\n",
    "    #noise_model.add_all_qubit_quantum_error(error_gate1, [\"rx\", \"rz\"])\n",
    "    #noise_model.add_all_qubit_quantum_error(error_gate2, [\"cz\"])\n",
    "    t = time()\n",
    "    results = g.run(noisies, noise_model=None, shots=1, optimization_level=0).result()\n",
    "    #result2 = dict(g.run(noiseless, noise_model=noise_model, shots=shots, optimization_level=0).result().data())['counts']\n",
    "    print(\"NOISY\", shots, \":\", time() - t)\n",
    "    t3 = time() - t\n",
    "    for i in range(shots):\n",
    "        res = list(results.data(i)['counts'])[0]\n",
    "        result2[res] += results.data(i)['counts'][res]\n",
    "    df = pd.DataFrame([result1, result2]).T\n",
    "    df = df.fillna(0).astype(int)\n",
    "    state1 = np.array(np.sqrt(df[0] / shots))\n",
    "    state2 = np.array(np.sqrt(df[1] / shots))\n",
    "    return state_fidelity(state1, state2), t2, t3\n",
    "    #return (np.sum(np.sqrt(df[0] * df[1])) / shots) ** 2"
   ]
  },
  {
   "cell_type": "code",
   "execution_count": 28,
   "id": "b5ee82ec",
   "metadata": {},
   "outputs": [],
   "source": [
    "def circuit_test(d = 500, n = 5):\n",
    "    res = QuantumCircuit(n)\n",
    "    for _ in range(d):\n",
    "        for k in range(n - 1):\n",
    "            res.cx(k, k + 1)\n",
    "            res.rx(np.pi * 9 / 8, k)\n",
    "            res.rx(np.pi / 9, k + 1)\n",
    "    return res"
   ]
  },
  {
   "cell_type": "code",
   "execution_count": 30,
   "id": "c0fd6dca",
   "metadata": {},
   "outputs": [
    {
     "name": "stdout",
     "output_type": "stream",
     "text": [
      "MAKE_DATA: 0.6258912086486816\n",
      "NOISELESS: 0.22950983047485352\n",
      "NOISY CIRCUIT: 15.340909957885742\n",
      "NOISY 32 : 7.492256164550781\n"
     ]
    },
    {
     "data": {
      "text/plain": [
       "(0.03125000000000001, 0.22986912727355957, 7.492337226867676)"
      ]
     },
     "execution_count": 30,
     "metadata": {},
     "output_type": "execute_result"
    }
   ],
   "source": [
    "c = circuit_test(500, 9)\n",
    "fidelity_measuring(c, shots=32)"
   ]
  },
  {
   "cell_type": "code",
   "execution_count": 103,
   "id": "19e47e23",
   "metadata": {},
   "outputs": [
    {
     "data": {
      "text/plain": [
       "3.141592653589793"
      ]
     },
     "execution_count": 103,
     "metadata": {},
     "output_type": "execute_result"
    }
   ],
   "source": [
    "np.pi"
   ]
  },
  {
   "cell_type": "code",
   "execution_count": 32,
   "id": "5b8a0db8",
   "metadata": {},
   "outputs": [],
   "source": [
    "fs2 = []"
   ]
  },
  {
   "cell_type": "code",
   "execution_count": 33,
   "id": "13d751dd",
   "metadata": {},
   "outputs": [
    {
     "name": "stdout",
     "output_type": "stream",
     "text": [
      "------N:  1 -----\n",
      "MAKE_DATA: 0.00506901741027832\n",
      "NOISELESS: 0.002160787582397461\n",
      "NOISY CIRCUIT: 0.0033540725708007812\n",
      "NOISY 32 : 0.005012989044189453\n",
      "------N:  2 -----\n",
      "MAKE_DATA: 0.07296490669250488\n",
      "NOISELESS: 0.02896714210510254\n",
      "NOISY CIRCUIT: 1.8928680419921875\n",
      "NOISY 32 : 0.9181580543518066\n",
      "------N:  3 -----\n",
      "MAKE_DATA: 0.13141202926635742\n",
      "NOISELESS: 0.05735421180725098\n",
      "NOISY CIRCUIT: 3.945404291152954\n",
      "NOISY 32 : 1.801285743713379\n",
      "------N:  4 -----\n",
      "MAKE_DATA: 0.197343111038208\n",
      "NOISELESS: 0.09001803398132324\n",
      "NOISY CIRCUIT: 5.762141227722168\n",
      "NOISY 32 : 2.8235769271850586\n",
      "------N:  5 -----\n",
      "MAKE_DATA: 0.31447410583496094\n",
      "NOISELESS: 0.11329412460327148\n",
      "NOISY CIRCUIT: 8.137017726898193\n",
      "NOISY 32 : 3.7525391578674316\n",
      "------N:  6 -----\n",
      "MAKE_DATA: 0.33103227615356445\n",
      "NOISELESS: 0.1433851718902588\n",
      "NOISY CIRCUIT: 9.68446159362793\n",
      "NOISY 32 : 4.720247745513916\n",
      "------N:  7 -----\n",
      "MAKE_DATA: 0.3971672058105469\n",
      "NOISELESS: 0.17548203468322754\n",
      "NOISY CIRCUIT: 11.586826086044312\n",
      "NOISY 32 : 5.692098140716553\n",
      "------N:  8 -----\n",
      "MAKE_DATA: 0.5717482566833496\n",
      "NOISELESS: 0.20009589195251465\n",
      "NOISY CIRCUIT: 13.598225831985474\n",
      "NOISY 32 : 6.581682920455933\n",
      "------N:  9 -----\n",
      "MAKE_DATA: 0.5315136909484863\n",
      "NOISELESS: 0.2311232089996338\n",
      "NOISY CIRCUIT: 15.407948017120361\n",
      "NOISY 32 : 7.714117050170898\n"
     ]
    }
   ],
   "source": [
    "for n in range(1, 10):\n",
    "    shots = 32\n",
    "    print(\"------N: \", n, \"-----\")\n",
    "    c = circuit_test(500, n)\n",
    "    fs2.append(fidelity_measuring(c, shots))"
   ]
  },
  {
   "cell_type": "code",
   "execution_count": 516,
   "id": "5725fba5",
   "metadata": {},
   "outputs": [
    {
     "data": {
      "text/plain": [
       "(0.53125, 0.09954714775085449, 0.02834606170654297, 0.8792240619659424)"
      ]
     },
     "execution_count": 516,
     "metadata": {},
     "output_type": "execute_result"
    }
   ],
   "source": [
    "fs2[1]"
   ]
  },
  {
   "cell_type": "code",
   "execution_count": 517,
   "id": "9503e5d5",
   "metadata": {},
   "outputs": [],
   "source": [
    "make_datas = [f[1] for f in fs2]\n",
    "noisy_circuit = [0.003002166748046875, 1.958348035812378, 4.578641176223755, 7.105705261230469, 9.62247085571289, 11.920506238937378, 14.44860315322876, 16.75915813446045, 18.804713010787964]\n",
    "noisy_32 = [f[-1] for f in fs2]\n",
    "ns = np.arange(1, 10)"
   ]
  },
  {
   "cell_type": "code",
   "execution_count": 518,
   "id": "f8c59648",
   "metadata": {},
   "outputs": [
    {
     "data": {
      "text/plain": [
       "<matplotlib.legend.Legend at 0x291880370>"
      ]
     },
     "execution_count": 518,
     "metadata": {},
     "output_type": "execute_result"
    },
    {
     "data": {
      "image/png": "[encoded data removed]",
      "text/plain": [
       "<Figure size 432x288 with 1 Axes>"
      ]
     },
     "metadata": {
      "needs_background": "light"
     },
     "output_type": "display_data"
    }
   ],
   "source": [
    "plt.plot(ns, noisy_32, label = 'exec')\n",
    "plt.plot(ns, noisy_circuit, label = 'make')\n",
    "plt.legend()"
   ]
  },
  {
   "cell_type": "code",
   "execution_count": 482,
   "id": "1fe3e74f",
   "metadata": {},
   "outputs": [],
   "source": [
    "c = circuit_test(100, 5)"
   ]
  },
  {
   "cell_type": "code",
   "execution_count": 490,
   "id": "5c0bb949",
   "metadata": {},
   "outputs": [
    {
     "name": "stdout",
     "output_type": "stream",
     "text": [
      "------SHOTS:  1 -----\n",
      "MAKE_DATA: 0.3853001594543457\n",
      "NOISELESS: 0.12189984321594238\n",
      "NOISY 1 : 0.12358331680297852\n",
      "------SHOTS:  2 -----\n",
      "MAKE_DATA: 0.3541378974914551\n",
      "NOISELESS: 0.12212991714477539\n",
      "NOISY 2 : 0.24852204322814941\n",
      "------SHOTS:  4 -----\n",
      "MAKE_DATA: 0.3556840419769287\n",
      "NOISELESS: 0.12139892578125\n",
      "NOISY 4 : 0.49673962593078613\n",
      "------SHOTS:  8 -----\n",
      "MAKE_DATA: 0.356475830078125\n",
      "NOISELESS: 0.12178421020507812\n",
      "NOISY 8 : 1.0428826808929443\n",
      "------SHOTS:  16 -----\n",
      "MAKE_DATA: 0.35869526863098145\n",
      "NOISELESS: 0.12502217292785645\n",
      "NOISY 16 : 1.9934160709381104\n",
      "------SHOTS:  32 -----\n",
      "MAKE_DATA: 0.3567931652069092\n",
      "NOISELESS: 0.12160706520080566\n",
      "NOISY 32 : 3.9503772258758545\n",
      "------SHOTS:  64 -----\n",
      "MAKE_DATA: 0.3575599193572998\n",
      "NOISELESS: 0.12172389030456543\n",
      "NOISY 64 : 7.9190897941589355\n",
      "------SHOTS:  128 -----\n",
      "MAKE_DATA: 0.3719978332519531\n",
      "NOISELESS: 0.12352776527404785\n",
      "NOISY 128 : 15.733317136764526\n",
      "------SHOTS:  256 -----\n",
      "MAKE_DATA: 0.35533595085144043\n",
      "NOISELESS: 0.12300276756286621\n",
      "NOISY 256 : 32.5281400680542\n",
      "------SHOTS:  512 -----\n",
      "MAKE_DATA: 0.3600780963897705\n",
      "NOISELESS: 0.12344169616699219\n",
      "NOISY 512 : 67.55398607254028\n",
      "------SHOTS:  1024 -----\n",
      "MAKE_DATA: 0.38544726371765137\n",
      "NOISELESS: 0.13058996200561523\n"
     ]
    },
    {
     "ename": "KeyboardInterrupt",
     "evalue": "",
     "output_type": "error",
     "traceback": [
      "\u001b[0;31m---------------------------------------------------------------------------\u001b[0m",
      "\u001b[0;31mKeyboardInterrupt\u001b[0m                         Traceback (most recent call last)",
      "Cell \u001b[0;32mIn[490], line 5\u001b[0m\n\u001b[1;32m      3\u001b[0m \u001b[38;5;28;01mwhile\u001b[39;00m shots \u001b[38;5;241m<\u001b[39m \u001b[38;5;241m15000\u001b[39m:\n\u001b[1;32m      4\u001b[0m     \u001b[38;5;28mprint\u001b[39m(\u001b[38;5;124m\"\u001b[39m\u001b[38;5;124m------SHOTS: \u001b[39m\u001b[38;5;124m\"\u001b[39m, shots, \u001b[38;5;124m\"\u001b[39m\u001b[38;5;124m-----\u001b[39m\u001b[38;5;124m\"\u001b[39m)\n\u001b[0;32m----> 5\u001b[0m     fs\u001b[38;5;241m.\u001b[39mappend(\u001b[43mfidelity_measuring\u001b[49m\u001b[43m(\u001b[49m\u001b[43mc\u001b[49m\u001b[43m,\u001b[49m\u001b[43m \u001b[49m\u001b[43mshots\u001b[49m\u001b[43m)\u001b[49m)\n\u001b[1;32m      6\u001b[0m     shots \u001b[38;5;241m*\u001b[39m\u001b[38;5;241m=\u001b[39m \u001b[38;5;241m2\u001b[39m\n\u001b[1;32m      7\u001b[0m     shots \u001b[38;5;241m=\u001b[39m \u001b[38;5;28mint\u001b[39m(shots)\n",
      "Cell \u001b[0;32mIn[480], line 15\u001b[0m, in \u001b[0;36mfidelity_measuring\u001b[0;34m(circuit, shots)\u001b[0m\n\u001b[1;32m     13\u001b[0m \u001b[38;5;66;03m#for _ in tqdm(range(shots)):\u001b[39;00m\n\u001b[1;32m     14\u001b[0m \u001b[38;5;28;01mfor\u001b[39;00m _ \u001b[38;5;129;01min\u001b[39;00m \u001b[38;5;28mrange\u001b[39m(shots):\n\u001b[0;32m---> 15\u001b[0m     noisy \u001b[38;5;241m=\u001b[39m \u001b[43mnoisy_circuit\u001b[49m\u001b[43m(\u001b[49m\u001b[43mc\u001b[49m\u001b[43m,\u001b[49m\u001b[43m \u001b[49m\u001b[43md\u001b[49m\u001b[43m)\u001b[49m\n\u001b[1;32m     16\u001b[0m     noisy\u001b[38;5;241m.\u001b[39mmeasure_all()\n\u001b[1;32m     17\u001b[0m     noisies\u001b[38;5;241m.\u001b[39mappend(noisy)\n",
      "Cell \u001b[0;32mIn[6], line 7\u001b[0m, in \u001b[0;36mnoisy_circuit\u001b[0;34m(circuit, data)\u001b[0m\n\u001b[1;32m      5\u001b[0m prob_error \u001b[38;5;241m=\u001b[39m data[i]\n\u001b[1;32m      6\u001b[0m choice \u001b[38;5;241m=\u001b[39m np\u001b[38;5;241m.\u001b[39mrandom\u001b[38;5;241m.\u001b[39mchoice([\u001b[38;5;124m'\u001b[39m\u001b[38;5;124mZ\u001b[39m\u001b[38;5;124m'\u001b[39m, \u001b[38;5;124m'\u001b[39m\u001b[38;5;124mI\u001b[39m\u001b[38;5;124m'\u001b[39m], p\u001b[38;5;241m=\u001b[39m[prob_error, \u001b[38;5;241m1\u001b[39m \u001b[38;5;241m-\u001b[39m prob_error])\n\u001b[0;32m----> 7\u001b[0m \u001b[43mnew_circuit\u001b[49m\u001b[38;5;241;43m.\u001b[39;49m\u001b[43mappend\u001b[49m\u001b[43m(\u001b[49m\u001b[43minstr\u001b[49m\u001b[43m,\u001b[49m\u001b[43m \u001b[49m\u001b[43mqargs\u001b[49m\u001b[43m,\u001b[49m\u001b[43m \u001b[49m\u001b[43mcargs\u001b[49m\u001b[43m)\u001b[49m\n\u001b[1;32m      8\u001b[0m \u001b[38;5;28;01mif\u001b[39;00m (choice \u001b[38;5;241m==\u001b[39m \u001b[38;5;124m'\u001b[39m\u001b[38;5;124mZ\u001b[39m\u001b[38;5;124m'\u001b[39m):\n\u001b[1;32m      9\u001b[0m     new_circuit\u001b[38;5;241m.\u001b[39mz(qargs)\n",
      "File \u001b[0;32m/opt/homebrew/lib/python3.9/site-packages/qiskit/circuit/quantumcircuit.py:1269\u001b[0m, in \u001b[0;36mQuantumCircuit.append\u001b[0;34m(self, instruction, qargs, cargs)\u001b[0m\n\u001b[1;32m   1267\u001b[0m \u001b[38;5;66;03m# Make copy of parameterized gate instances\u001b[39;00m\n\u001b[1;32m   1268\u001b[0m \u001b[38;5;28;01mif\u001b[39;00m \u001b[38;5;28mhasattr\u001b[39m(operation, \u001b[38;5;124m\"\u001b[39m\u001b[38;5;124mparams\u001b[39m\u001b[38;5;124m\"\u001b[39m):\n\u001b[0;32m-> 1269\u001b[0m     is_parameter \u001b[38;5;241m=\u001b[39m \u001b[38;5;28;43many\u001b[39;49m\u001b[43m(\u001b[49m\u001b[38;5;28;43misinstance\u001b[39;49m\u001b[43m(\u001b[49m\u001b[43mparam\u001b[49m\u001b[43m,\u001b[49m\u001b[43m \u001b[49m\u001b[43mParameter\u001b[49m\u001b[43m)\u001b[49m\u001b[43m \u001b[49m\u001b[38;5;28;43;01mfor\u001b[39;49;00m\u001b[43m \u001b[49m\u001b[43mparam\u001b[49m\u001b[43m \u001b[49m\u001b[38;5;129;43;01min\u001b[39;49;00m\u001b[43m \u001b[49m\u001b[43moperation\u001b[49m\u001b[38;5;241;43m.\u001b[39;49m\u001b[43mparams\u001b[49m\u001b[43m)\u001b[49m\n\u001b[1;32m   1270\u001b[0m     \u001b[38;5;28;01mif\u001b[39;00m is_parameter:\n\u001b[1;32m   1271\u001b[0m         operation \u001b[38;5;241m=\u001b[39m copy\u001b[38;5;241m.\u001b[39mdeepcopy(operation)\n",
      "\u001b[0;31mKeyboardInterrupt\u001b[0m: "
     ]
    }
   ],
   "source": [
    "shots = 1\n",
    "fs = []\n",
    "while shots < 15000:\n",
    "    print(\"------SHOTS: \", shots, \"-----\")\n",
    "    fs.append(fidelity_measuring(c, shots))\n",
    "    shots *= 2\n",
    "    shots = int(shots)"
   ]
  },
  {
   "cell_type": "code",
   "execution_count": 473,
   "id": "849a7265",
   "metadata": {},
   "outputs": [
    {
     "name": "stdout",
     "output_type": "stream",
     "text": [
      "MAKE_DATA: 0.11986017227172852\n",
      "NOISELES: 0.018975257873535156\n"
     ]
    },
    {
     "name": "stderr",
     "output_type": "stream",
     "text": [
      "100%|██████████████████████████████████████████████████████████████████████████████████████████████████████| 1000/1000 [00:39<00:00, 25.27it/s]\n"
     ]
    },
    {
     "name": "stdout",
     "output_type": "stream",
     "text": [
      "NOISY SHOTS: 15.561654090881348\n"
     ]
    },
    {
     "data": {
      "text/plain": [
       "0.21306230322865663"
      ]
     },
     "execution_count": 473,
     "metadata": {},
     "output_type": "execute_result"
    }
   ],
   "source": [
    "fidelity_measuring(circuits[12])"
   ]
  },
  {
   "cell_type": "code",
   "execution_count": 46,
   "id": "8a862b34",
   "metadata": {},
   "outputs": [],
   "source": [
    "def clifford_simulate(circ :  QuantumCircuit) -> Clifford:\n",
    "    circuit = circ.copy()\n",
    "    circuit.save_clifford()\n",
    "    aer = AerSimulator(method='stabilizer')\n",
    "    result = aer.run(circuit, shots=1).result().data()['clifford']\n",
    "    return result"
   ]
  },
  {
   "cell_type": "code",
   "execution_count": 47,
   "id": "a952be7b",
   "metadata": {},
   "outputs": [],
   "source": [
    "def fidelity(circuit : QuantumCircuit, shots=1000):\n",
    "    circ, d = make_native_circuit(round_angles(circuit), opt_level=0)\n",
    "    clifford1, c = make_clifford(circ, round_angle=True)\n",
    "    fs = []\n",
    "    clifford2 = 0\n",
    "    r = 2 ** clifford1.num_qubits\n",
    "    initial_state = np.zeros(r)\n",
    "    initial_state[0] = 1\n",
    "    initial_state = initial_state.reshape(r, 1)\n",
    "    state1 = clifford1.to_matrix() @ initial_state\n",
    "    state_all = np.zeros_like(state1)\n",
    "    for _ in tqdm(range(shots)):\n",
    "    #for _ in range(shots):\n",
    "        noisy = noisy_circuit(circ, d)\n",
    "        clifford2, c = make_clifford(noisy, round_angle=True)\n",
    "        state2 = clifford2.to_matrix() @ initial_state\n",
    "        state_all += np.abs(state2)**2\n",
    "        #fs.append(state_fidelity(state1, state2))\n",
    "    state_all = np.sqrt(state_all / shots)\n",
    "    #return np.mean(fs), \n",
    "    return state_fidelity(state_all, np.abs(state1))"
   ]
  },
  {
   "cell_type": "code",
   "execution_count": 48,
   "id": "717c85c7",
   "metadata": {},
   "outputs": [],
   "source": [
    "def fidelity2(circuit : QuantumCircuit, shots=1000):\n",
    "    circ, d = make_clifford_data(circuit)\n",
    "    clifford1 = clifford_simulate(circ)\n",
    "    fs = []\n",
    "    clifford2 = 0\n",
    "    noisies = []\n",
    "    for _ in tqdm(range(shots)):\n",
    "    #for _ in range(shots):\n",
    "        noisy = noisy_circuit(circ, d)\n",
    "        noisy.save_clifford()\n",
    "        noisies.append(noisy)\n",
    "    g = AerSimulator(method='stabilizer')\n",
    "    result = g.run(noisies, shots=1).result()#.data()['clifford']\n",
    "    d = 2 ** clifford1.num_qubits\n",
    "    initial_state = np.zeros(d)\n",
    "    initial_state[0] = 1\n",
    "    initial_state = initial_state.reshape(d, 1)\n",
    "    state1 = clifford1.to_matrix() @ initial_state\n",
    "    state_all = np.zeros_like(state1)\n",
    "    for i in tqdm(range(shots)):\n",
    "        clifford2 = result.data(i)['clifford']\n",
    "        state2 = clifford2.to_matrix() @ initial_state\n",
    "        state_all += np.abs(state2)**2\n",
    "        #fs.append(state_fidelity(state1, state2))\n",
    "    state_all = np.sqrt(state_all / shots)\n",
    "    #return np.mean(fs), \n",
    "    return state_fidelity(state_all, np.abs(state1))"
   ]
  },
  {
   "cell_type": "code",
   "execution_count": 33,
   "id": "623cb892",
   "metadata": {
    "scrolled": true
   },
   "outputs": [],
   "source": [
    "data = []\n",
    "\n",
    "def sorting_key(qc):\n",
    "    return (qc[0].num_qubits, len(qc[0]))\n",
    "\n",
    "data_circuits_sorted = sorted(data_circuits, key=sorting_key)\n",
    "shots = 10\n",
    "for circuit, d in datacircuits_sorted:\n",
    "    print('\\\\')\n",
    "    print(circuit.name)\n",
    "    shots = 10\n",
    "    eps = 1\n",
    "    fid1 = fidelity_density_matrix(round_angles(circuit), measure=True)\n",
    "    while shots < 2000:\n",
    "        epses = []\n",
    "        k = 0\n",
    "        while (k < 3):\n",
    "            fid2 = fidelity_measuring(circuit, shots=shots)\n",
    "            data.append({'circuit' : circuit.name, \n",
    "                   'orig_fidelity' : fid1, \n",
    "                   'clifford_fidelity' : fid2, \n",
    "                    'shots': shots})\n",
    "            eps = np.abs(fid2 - fid1) / fid1\n",
    "            epses.append(eps)\n",
    "            #print(shots, circuit.name, fid1, fid2, eps)\n",
    "            print(shots, end= ',')\n",
    "            k += 1\n",
    "        eps = np.max(epses) if len(epses) else eps\n",
    "        shots = int(shots * 1.3)"
   ]
  },
  {
   "cell_type": "code",
   "execution_count": 802,
   "id": "c5606bc1",
   "metadata": {},
   "outputs": [],
   "source": [
    "def fidelity_measuring2(circuit : QuantumCircuit, shots=1000):\n",
    "    c, d = make_native_circuit(round_angles(circuit), opt_level=0)\n",
    "    noiseless = c.copy()\n",
    "    noiseless.measure_all()\n",
    "    #clifford1 = make_cliffor\n",
    "    #noiseless_circ.save_density_matrix()\n",
    "    g = AerSimulator(method='density_matrix')\n",
    "    result1 = dict(g.run(noiseless, noise_model=None, shots=shots, optimization_level=0).result().data())['counts']   \n",
    "    noisies = []\n",
    "    result2 = defaultdict(int)\n",
    "    #for _ in tqdm(range(shots)):\n",
    "    for _ in range(shots):\n",
    "        noisy = noisy_circuit(c, d)\n",
    "        noisy.measure_all()\n",
    "        noisies.append(noisy)\n",
    "    results = g.run(noisies, noise_model=None, shots=1, optimization_level=0).result()\n",
    "    for i in range(shots):\n",
    "        res = list(results.data(i)['counts'])[0]\n",
    "        result2[res] += results.data(i)['counts'][res]\n",
    "    df = pd.DataFrame([result1, result2]).T\n",
    "    df = df.fillna(0).astype(int)\n",
    "    state1 = np.array(np.sqrt(df[0] / shots))\n",
    "    state2 = np.array(np.sqrt(df[1] / shots))\n",
    "    return state_fidelity(state1, state2)\n",
    "    #return (np.sum(np.sqrt(df[0] * df[1])) / shots) ** 2"
   ]
  },
  {
   "cell_type": "code",
   "execution_count": 458,
   "id": "f68b7b5f",
   "metadata": {},
   "outputs": [],
   "source": [
    "def error_log_prob(circuit : QuantumCircuit):\n",
    "    c, d = make_native_circuit(circuit, opt_level=0)\n",
    "    res = 0\n",
    "    for prob in d:\n",
    "        if not prob is None:\n",
    "            res += np.log(prob)\n",
    "    return res"
   ]
  },
  {
   "cell_type": "code",
   "execution_count": 57,
   "id": "1e832bfc",
   "metadata": {},
   "outputs": [
    {
     "data": {
      "text/html": [
       "<div>\n",
       "<style scoped>\n",
       "    .dataframe tbody tr th:only-of-type {\n",
       "        vertical-align: middle;\n",
       "    }\n",
       "\n",
       "    .dataframe tbody tr th {\n",
       "        vertical-align: top;\n",
       "    }\n",
       "\n",
       "    .dataframe thead th {\n",
       "        text-align: right;\n",
       "    }\n",
       "</style>\n",
       "<table border=\"1\" class=\"dataframe\">\n",
       "  <thead>\n",
       "    <tr style=\"text-align: right;\">\n",
       "      <th></th>\n",
       "      <th>circuit</th>\n",
       "      <th>orig_fidelity</th>\n",
       "      <th>clifford_fidelity</th>\n",
       "      <th>shots</th>\n",
       "      <th>qubit_count</th>\n",
       "      <th>eps</th>\n",
       "      <th>len</th>\n",
       "      <th>peaks</th>\n",
       "    </tr>\n",
       "  </thead>\n",
       "  <tbody>\n",
       "    <tr>\n",
       "      <th>0</th>\n",
       "      <td>deutsch_n2</td>\n",
       "      <td>0.861497</td>\n",
       "      <td>0.827047</td>\n",
       "      <td>100</td>\n",
       "      <td>2</td>\n",
       "      <td>0.039988</td>\n",
       "      <td>13</td>\n",
       "      <td>2</td>\n",
       "    </tr>\n",
       "    <tr>\n",
       "      <th>1</th>\n",
       "      <td>deutsch_n2</td>\n",
       "      <td>0.861497</td>\n",
       "      <td>0.869959</td>\n",
       "      <td>100</td>\n",
       "      <td>2</td>\n",
       "      <td>0.009822</td>\n",
       "      <td>13</td>\n",
       "      <td>2</td>\n",
       "    </tr>\n",
       "    <tr>\n",
       "      <th>2</th>\n",
       "      <td>deutsch_n2</td>\n",
       "      <td>0.861497</td>\n",
       "      <td>0.813100</td>\n",
       "      <td>100</td>\n",
       "      <td>2</td>\n",
       "      <td>0.056178</td>\n",
       "      <td>13</td>\n",
       "      <td>2</td>\n",
       "    </tr>\n",
       "    <tr>\n",
       "      <th>3</th>\n",
       "      <td>deutsch_n2</td>\n",
       "      <td>0.861497</td>\n",
       "      <td>0.838295</td>\n",
       "      <td>130</td>\n",
       "      <td>2</td>\n",
       "      <td>0.026932</td>\n",
       "      <td>13</td>\n",
       "      <td>2</td>\n",
       "    </tr>\n",
       "    <tr>\n",
       "      <th>4</th>\n",
       "      <td>deutsch_n2</td>\n",
       "      <td>0.861497</td>\n",
       "      <td>0.828231</td>\n",
       "      <td>130</td>\n",
       "      <td>2</td>\n",
       "      <td>0.038615</td>\n",
       "      <td>13</td>\n",
       "      <td>2</td>\n",
       "    </tr>\n",
       "    <tr>\n",
       "      <th>...</th>\n",
       "      <td>...</td>\n",
       "      <td>...</td>\n",
       "      <td>...</td>\n",
       "      <td>...</td>\n",
       "      <td>...</td>\n",
       "      <td>...</td>\n",
       "      <td>...</td>\n",
       "      <td>...</td>\n",
       "    </tr>\n",
       "    <tr>\n",
       "      <th>2569</th>\n",
       "      <td>hhl_n7</td>\n",
       "      <td>0.500000</td>\n",
       "      <td>0.110079</td>\n",
       "      <td>62</td>\n",
       "      <td>7</td>\n",
       "      <td>0.779842</td>\n",
       "      <td>814</td>\n",
       "      <td>5</td>\n",
       "    </tr>\n",
       "    <tr>\n",
       "      <th>2570</th>\n",
       "      <td>hhl_n7</td>\n",
       "      <td>0.500000</td>\n",
       "      <td>0.096073</td>\n",
       "      <td>62</td>\n",
       "      <td>7</td>\n",
       "      <td>0.807853</td>\n",
       "      <td>814</td>\n",
       "      <td>5</td>\n",
       "    </tr>\n",
       "    <tr>\n",
       "      <th>2571</th>\n",
       "      <td>hhl_n7</td>\n",
       "      <td>0.500000</td>\n",
       "      <td>0.109808</td>\n",
       "      <td>80</td>\n",
       "      <td>7</td>\n",
       "      <td>0.780384</td>\n",
       "      <td>814</td>\n",
       "      <td>5</td>\n",
       "    </tr>\n",
       "    <tr>\n",
       "      <th>2572</th>\n",
       "      <td>hhl_n7</td>\n",
       "      <td>0.500000</td>\n",
       "      <td>0.142431</td>\n",
       "      <td>80</td>\n",
       "      <td>7</td>\n",
       "      <td>0.715138</td>\n",
       "      <td>814</td>\n",
       "      <td>5</td>\n",
       "    </tr>\n",
       "    <tr>\n",
       "      <th>2573</th>\n",
       "      <td>hhl_n7</td>\n",
       "      <td>0.500000</td>\n",
       "      <td>0.128088</td>\n",
       "      <td>80</td>\n",
       "      <td>7</td>\n",
       "      <td>0.743823</td>\n",
       "      <td>814</td>\n",
       "      <td>5</td>\n",
       "    </tr>\n",
       "  </tbody>\n",
       "</table>\n",
       "<p>2574 rows × 8 columns</p>\n",
       "</div>"
      ],
      "text/plain": [
       "         circuit  orig_fidelity  clifford_fidelity  shots  qubit_count  \\\n",
       "0     deutsch_n2       0.861497           0.827047    100            2   \n",
       "1     deutsch_n2       0.861497           0.869959    100            2   \n",
       "2     deutsch_n2       0.861497           0.813100    100            2   \n",
       "3     deutsch_n2       0.861497           0.838295    130            2   \n",
       "4     deutsch_n2       0.861497           0.828231    130            2   \n",
       "...          ...            ...                ...    ...          ...   \n",
       "2569      hhl_n7       0.500000           0.110079     62            7   \n",
       "2570      hhl_n7       0.500000           0.096073     62            7   \n",
       "2571      hhl_n7       0.500000           0.109808     80            7   \n",
       "2572      hhl_n7       0.500000           0.142431     80            7   \n",
       "2573      hhl_n7       0.500000           0.128088     80            7   \n",
       "\n",
       "           eps  len  peaks  \n",
       "0     0.039988   13      2  \n",
       "1     0.009822   13      2  \n",
       "2     0.056178   13      2  \n",
       "3     0.026932   13      2  \n",
       "4     0.038615   13      2  \n",
       "...        ...  ...    ...  \n",
       "2569  0.779842  814      5  \n",
       "2570  0.807853  814      5  \n",
       "2571  0.780384  814      5  \n",
       "2572  0.715138  814      5  \n",
       "2573  0.743823  814      5  \n",
       "\n",
       "[2574 rows x 8 columns]"
      ]
     },
     "execution_count": 57,
     "metadata": {},
     "output_type": "execute_result"
    }
   ],
   "source": [
    "df = pd.DataFrame(data)\n",
    "df['qubit_count'] = df['circuit'].apply(lambda c: int(c[-1]))\n",
    "df['eps'] = np.abs(df['orig_fidelity'] - df['clifford_fidelity']) / df['orig_fidelity']\n",
    "lens = {c.name : len(c) for c, t in circuits_sorted}\n",
    "circs = {c.name : c for c, t in circuits_sorted}\n",
    "def peaks(c1 : QuantumCircuit):\n",
    "    c = c1.copy()\n",
    "    g = AerSimulator()\n",
    "    c.measure_all()\n",
    "    return len(g.run(c, shots=2000).result().data()['counts'])\n",
    "peakss = {c.name: peaks(c) for c, t in circuits_sorted}\n",
    "df['len'] = df['circuit'].apply(lambda c: lens[c])\n",
    "df['peaks'] = df['circuit'].apply(lambda c: peakss[c])"
   ]
  },
  {
   "cell_type": "code",
   "execution_count": 56,
   "id": "7a1df2cd",
   "metadata": {},
   "outputs": [],
   "source": [
    "data = data + data2"
   ]
  },
  {
   "cell_type": "code",
   "execution_count": 464,
   "id": "894f8508",
   "metadata": {},
   "outputs": [
    {
     "ename": "NameError",
     "evalue": "name 'df' is not defined",
     "output_type": "error",
     "traceback": [
      "\u001b[0;31m---------------------------------------------------------------------------\u001b[0m",
      "\u001b[0;31mNameError\u001b[0m                                 Traceback (most recent call last)",
      "Cell \u001b[0;32mIn[464], line 2\u001b[0m\n\u001b[1;32m      1\u001b[0m plt\u001b[38;5;241m.\u001b[39mfigure(figsize\u001b[38;5;241m=\u001b[39m(\u001b[38;5;241m30\u001b[39m, \u001b[38;5;241m10\u001b[39m))\n\u001b[0;32m----> 2\u001b[0m df[\u001b[38;5;124m'\u001b[39m\u001b[38;5;124mshots_on_peak\u001b[39m\u001b[38;5;124m'\u001b[39m] \u001b[38;5;241m=\u001b[39m \u001b[43mdf\u001b[49m[\u001b[38;5;124m'\u001b[39m\u001b[38;5;124mshots\u001b[39m\u001b[38;5;124m'\u001b[39m] \u001b[38;5;241m/\u001b[39m df[\u001b[38;5;124m'\u001b[39m\u001b[38;5;124mpeaks\u001b[39m\u001b[38;5;124m'\u001b[39m]\n\u001b[1;32m      3\u001b[0m g \u001b[38;5;241m=\u001b[39m sns\u001b[38;5;241m.\u001b[39mrelplot(x\u001b[38;5;241m=\u001b[39m\u001b[38;5;124m'\u001b[39m\u001b[38;5;124mshots\u001b[39m\u001b[38;5;124m'\u001b[39m, y\u001b[38;5;241m=\u001b[39m\u001b[38;5;124m'\u001b[39m\u001b[38;5;124meps\u001b[39m\u001b[38;5;124m'\u001b[39m, hue\u001b[38;5;241m=\u001b[39m\u001b[38;5;124m'\u001b[39m\u001b[38;5;124mcircuit\u001b[39m\u001b[38;5;124m'\u001b[39m, kind\u001b[38;5;241m=\u001b[39m\u001b[38;5;124m'\u001b[39m\u001b[38;5;124mline\u001b[39m\u001b[38;5;124m'\u001b[39m, data\u001b[38;5;241m=\u001b[39mdf, palette\u001b[38;5;241m=\u001b[39m\u001b[38;5;124m'\u001b[39m\u001b[38;5;124mdark\u001b[39m\u001b[38;5;124m'\u001b[39m, alpha\u001b[38;5;241m=\u001b[39m\u001b[38;5;241m0.5\u001b[39m)\n\u001b[1;32m      5\u001b[0m g\u001b[38;5;241m.\u001b[39mset_axis_labels(\u001b[38;5;124m'\u001b[39m\u001b[38;5;124mshots\u001b[39m\u001b[38;5;124m'\u001b[39m, \u001b[38;5;124m'\u001b[39m\u001b[38;5;124meps\u001b[39m\u001b[38;5;124m'\u001b[39m)\n",
      "\u001b[0;31mNameError\u001b[0m: name 'df' is not defined"
     ]
    },
    {
     "data": {
      "text/plain": [
       "<Figure size 2160x720 with 0 Axes>"
      ]
     },
     "metadata": {},
     "output_type": "display_data"
    }
   ],
   "source": [
    "plt.figure(figsize=(30, 10))\n",
    "df['shots_on_peak'] = df['shots'] / df['peaks']\n",
    "g = sns.relplot(x='shots', y='eps', hue='circuit', kind='line', data=df, palette='dark', alpha=0.5)\n",
    "\n",
    "g.set_axis_labels('shots', 'eps')\n",
    "g.set_titles(col_template='{col_name}')\n",
    "plt.hlines(y=0.1, xmin=100, xmax=2000, color='black')\n",
    "plt.xscale('log')\n",
    "plt.show()"
   ]
  },
  {
   "cell_type": "code",
   "execution_count": 34,
   "id": "6a602490",
   "metadata": {},
   "outputs": [],
   "source": [
    "def my_circuit() -> QuantumCircuit:\n",
    "    c = QuantumCircuit(3)\n",
    "    c.cz(0, 1)\n",
    "    c.cz(0, 1)\n",
    "    c.cz(0, 1)\n",
    "    c.rz(np.pi, 2)\n",
    "    c.cz(1, 0)\n",
    "    c.cz(0, 1)\n",
    "    c.rz(np.pi, 2)\n",
    "    c.rz(np.pi, 2)\n",
    "    c.rx(np.pi, 1)\n",
    "    c.cz(1, 2)\n",
    "    c.rz(np.pi, 0)\n",
    "    c.cz(0, 1)\n",
    "    c.cz(2, 1)\n",
    "    c.rx(np.pi, 1)\n",
    "    c.cz(0, 1)\n",
    "    c.rz(np.pi, 2)\n",
    "    c.rx(np.pi, 1)\n",
    "    c.cz(0, 1)\n",
    "    c.rz(np.pi, 1)\n",
    "    c.rx(np.pi, 2)\n",
    "    c.cz(0, 1)\n",
    "    c.cz(1, 2)\n",
    "    c.cz(2, 1)\n",
    "    c.cz(1, 2)\n",
    "    c.cz(0, 1)\n",
    "    c.cz(0, 1)\n",
    "    return c"
   ]
  },
  {
   "cell_type": "code",
   "execution_count": 66,
   "id": "2b3160f1",
   "metadata": {},
   "outputs": [
    {
     "name": "stderr",
     "output_type": "stream",
     "text": [
      "100%|██████████████████████████████████████████████████████████████████████████████████████████████████████| 5000/5000 [01:21<00:00, 61.56it/s]\n"
     ]
    },
    {
     "data": {
      "text/plain": [
       "0.5142000000000008"
      ]
     },
     "execution_count": 66,
     "metadata": {},
     "output_type": "execute_result"
    }
   ],
   "source": [
    "fidelity_long_shots_2(round_angles(circuits[12][0]), shots=5000)"
   ]
  },
  {
   "cell_type": "code",
   "execution_count": 67,
   "id": "11e9a423",
   "metadata": {},
   "outputs": [
    {
     "name": "stderr",
     "output_type": "stream",
     "text": [
      "100%|██████████████████████████████████████████████████████████████████████████████████████████████████████| 5000/5000 [08:04<00:00, 10.32it/s]\n"
     ]
    },
    {
     "data": {
      "text/plain": [
       "0.4997999999999998"
      ]
     },
     "execution_count": 67,
     "metadata": {},
     "output_type": "execute_result"
    }
   ],
   "source": [
    "fidelity(round_angles(circuits[12][0]), shots=5000)"
   ]
  },
  {
   "cell_type": "code",
   "execution_count": 175,
   "id": "0125b3e2",
   "metadata": {},
   "outputs": [],
   "source": [
    "c = QuantumCircuit(1)\n",
    "c.x(0)\n",
    "c.z(0)\n",
    "d1 = Operator(c).to_matrix()\n",
    "\n",
    "c = QuantumCircuit(1)\n",
    "c.z(0)\n",
    "c.x(0)\n",
    "d2 = Operator(c).to_matrix()"
   ]
  },
  {
   "cell_type": "code",
   "execution_count": 176,
   "id": "b5564f8f",
   "metadata": {},
   "outputs": [
    {
     "name": "stdout",
     "output_type": "stream",
     "text": [
      "0.9999999999999996\n",
      "[[ True  True]\n",
      " [ True  True]]\n",
      "[[False  True]\n",
      " [ True False]]\n"
     ]
    }
   ],
   "source": [
    "i_state = np.ones(2**1) / np.sqrt(2**1)\n",
    "print(state_fidelity(d1 @ i_state.T, d2 @ i_state.T))\n",
    "print(d1@d2 - d2@d1 == np.zeros_like(d2))\n",
    "print(d1@d2 + d2@d1 == np.zeros_like(d2))"
   ]
  },
  {
   "cell_type": "code",
   "execution_count": 169,
   "id": "2238d124",
   "metadata": {},
   "outputs": [
    {
     "data": {
      "text/plain": [
       "array([0.25622563-0.65905116j, 0.70357419+0.07059289j])"
      ]
     },
     "execution_count": 169,
     "metadata": {},
     "output_type": "execute_result"
    }
   ],
   "source": [
    "d1 @ i_state.T"
   ]
  },
  {
   "cell_type": "code",
   "execution_count": 170,
   "id": "63eb3e89",
   "metadata": {},
   "outputs": [
    {
     "data": {
      "text/plain": [
       "array([0.60282587-0.48199139j, 0.51738216+0.36959568j])"
      ]
     },
     "execution_count": 170,
     "metadata": {},
     "output_type": "execute_result"
    }
   ],
   "source": [
    "d2 @ i_state.T"
   ]
  },
  {
   "cell_type": "code",
   "execution_count": 139,
   "id": "1ac7cf37",
   "metadata": {},
   "outputs": [
    {
     "data": {
      "text/plain": [
       "0.9907464631443117"
      ]
     },
     "execution_count": 139,
     "metadata": {},
     "output_type": "execute_result"
    }
   ],
   "source": [
    "print(d1@d2)"
   ]
  },
  {
   "cell_type": "code",
   "execution_count": 35,
   "id": "233b8896",
   "metadata": {},
   "outputs": [
    {
     "data": {
      "text/html": [
       "<pre style=\"word-wrap: normal;white-space: pre;background: #fff0;line-height: 1.1;font-family: &quot;Courier New&quot;,Courier,monospace\">                                      ┌───────┐                                                                  \n",
       "q_0: ────■────────■────────■─────■──■─┤ Rz(π) ├────■─────────────────■──────────────■───────────■───────────■──■─\n",
       "         │        │        │     │  │ ├───────┤    │    ┌───────┐    │    ┌───────┐ │ ┌───────┐ │           │  │ \n",
       "q_1: ────■────────■────────■─────■──■─┤ Rx(π) ├─■──■──■─┤ Rx(π) ├────■────┤ Rx(π) ├─■─┤ Rz(π) ├─■──■──■──■──■──■─\n",
       "     ┌───────┐┌───────┐┌───────┐      └───────┘ │     │ ├───────┤┌───────┐└───────┘   └───────┘    │  │  │       \n",
       "q_2: ┤ Rz(π) ├┤ Rz(π) ├┤ Rz(π) ├────────────────■─────■─┤ Rz(π) ├┤ Rx(π) ├─────────────────────────■──■──■───────\n",
       "     └───────┘└───────┘└───────┘                        └───────┘└───────┘                                       </pre>"
      ],
      "text/plain": [
       "                                      ┌───────┐                                                                  \n",
       "q_0: ────■────────■────────■─────■──■─┤ Rz(π) ├────■─────────────────■──────────────■───────────■───────────■──■─\n",
       "         │        │        │     │  │ ├───────┤    │    ┌───────┐    │    ┌───────┐ │ ┌───────┐ │           │  │ \n",
       "q_1: ────■────────■────────■─────■──■─┤ Rx(π) ├─■──■──■─┤ Rx(π) ├────■────┤ Rx(π) ├─■─┤ Rz(π) ├─■──■──■──■──■──■─\n",
       "     ┌───────┐┌───────┐┌───────┐      └───────┘ │     │ ├───────┤┌───────┐└───────┘   └───────┘    │  │  │       \n",
       "q_2: ┤ Rz(π) ├┤ Rz(π) ├┤ Rz(π) ├────────────────■─────■─┤ Rz(π) ├┤ Rx(π) ├─────────────────────────■──■──■───────\n",
       "     └───────┘└───────┘└───────┘                        └───────┘└───────┘                                       "
      ]
     },
     "execution_count": 35,
     "metadata": {},
     "output_type": "execute_result"
    }
   ],
   "source": [
    "c = my_circuit()\n",
    "c.draw(fold=500)"
   ]
  },
  {
   "cell_type": "code",
   "execution_count": 149,
   "id": "777d4a5f",
   "metadata": {},
   "outputs": [],
   "source": [
    "from abc import ABC, abstractmethod\n",
    "class Transformer(ABC):\n",
    "    @abstractmethod\n",
    "    def find(self, qc : QuantumCircuit) -> list:\n",
    "        pass\n",
    "\n",
    "    @abstractmethod\n",
    "    def transform(self, qc : QuantumCircuit, indexes : tuple, inplace=False) ->QuantumCircuit:\n",
    "        pass"
   ]
  },
  {
   "cell_type": "code",
   "execution_count": 150,
   "id": "80bbcf13",
   "metadata": {},
   "outputs": [],
   "source": [
    "def merge_cz(qc : QuantumCircuit, inplace=False)->QuantumCircuit:\n",
    "    \"\"\"\n",
    "    ───@──@──   ───\n",
    "       |  |   ≡               \n",
    "    ───@──@──   ───\n",
    "    \"\"\"\n",
    "    circuit = qc\n",
    "    if not inplace:\n",
    "        circuit = qc.copy()\n",
    "    for i, instr1 in enumerate(circuit):\n",
    "        remove_index = None\n",
    "        if (instr1.operation.name == 'cz'):\n",
    "            q1, q2 = instr1.qubits\n",
    "            for j, instr2 in enumerate(circuit[i + 1:]):\n",
    "                if (instr2.operation.name == 'cz'):\n",
    "                    g1, g2 = instr2.qubits\n",
    "                    if (q1, q2) == (g1, g2) or (q2, q1) == (g1, g2): \n",
    "                        remove_index = i + j + 1\n",
    "                        break\n",
    "                if q1 in list(instr2.qubits) or q2 in list(instr2.qubits):\n",
    "                    break\n",
    "        if remove_index is not None:\n",
    "            circuit.data.pop(i)\n",
    "            circuit.data.pop(i + j)\n",
    "    return circuit"
   ]
  },
  {
   "cell_type": "code",
   "execution_count": 151,
   "id": "c4984b7e",
   "metadata": {},
   "outputs": [],
   "source": [
    "class X_CZ_to_CZ_X_Z(Transformer):\n",
    "    \"\"\"\n",
    "    ───X───@───      ───@──X────\n",
    "           |     ≡      |       \n",
    "    ───────@───      ───@────Z──\n",
    "    \"\"\"\n",
    "    def find(self, qc : QuantumCircuit) -> list:\n",
    "        circuit = qc\n",
    "        result = []\n",
    "        for i, instr1 in enumerate(circuit):\n",
    "            indexes = None\n",
    "            if (instr1.operation.name == 'rx' and np.abs(instr1.operation.params[0] - np.pi) < 1e-6):\n",
    "                q_x = instr1.qubits[0]\n",
    "                for j, instr2 in enumerate(circuit[i + 1:]):\n",
    "                    if q_x in list(instr2.qubits):\n",
    "                        if (instr2.operation.name == 'cz'):\n",
    "                            indexes = i, i + j + 1\n",
    "                        break\n",
    "            if indexes is not None:\n",
    "                result.append(indexes)\n",
    "        return result\n",
    "\n",
    "    def transform(self, qc : QuantumCircuit, indexes : tuple, inplace=False) -> QuantumCircuit:\n",
    "        circuit = qc\n",
    "        if not inplace:\n",
    "            circuit = qc.copy()\n",
    "        index_x, index_cz = indexes\n",
    "        assert(circuit[index_x].operation.name == 'rx')\n",
    "        assert(circuit[index_cz].operation.name == 'cz')\n",
    "        q_x = circuit[index_x].qubits[0]\n",
    "        qs = circuit[index_cz].qubits\n",
    "        assert (q_x in list(qs))\n",
    "        q_z = qs[1] if qs[0] == q_x else qs[0]\n",
    "        circuit.rx(np.pi, q_x)\n",
    "        circuit.rz(np.pi, q_z)\n",
    "        circuit.data.insert(index_cz + 1, circuit[-2])\n",
    "        circuit.data.insert(index_cz + 1, circuit[-1])\n",
    "        circuit.data.pop(index_x)\n",
    "        circuit.data = circuit.data[:-2]\n",
    "        return circuit\n",
    "\n",
    "class CZ_X_to_X_Z_CZ(X_CZ_to_CZ_X_Z):\n",
    "    \"\"\"\n",
    "    ────@─────X─      ───X───@───────\n",
    "        |         ≡          |       \n",
    "    ────@───────      ─────Z─@──────\n",
    "    \"\"\"\n",
    "    def find_cz_x(self, qc : QuantumCircuit) -> list:\n",
    "        circuit = qc.copy()\n",
    "        circuit.data = circuit.data[::-1]\n",
    "        result = super().find(circuit)\n",
    "        d = len(qc)\n",
    "        for i in range(len(result)):\n",
    "            index_x, index_cz = result[i]\n",
    "            result[i] = d - 1 - index_x, d - 1 - index_cz\n",
    "        return result\n",
    "\n",
    "    def change_cz_x_to_x_z_cz(self, qc : QuantumCircuit, indexes : tuple, inplace=False) ->QuantumCircuit:\n",
    "        circuit = qc\n",
    "        if not inplace:\n",
    "            circuit = qc.copy()\n",
    "        index_x, index_cz = indexes\n",
    "        circuit2 = qc.copy()\n",
    "        circuit2.data = circuit2.data[::-1]\n",
    "        d = len(circuit2)\n",
    "        circuit2 = super().transform(circuit2, (d - 1 - index_x, d - 1 - index_cz), inplace=True)\n",
    "        circuit.data = circuit2.data[::-1]\n",
    "        return circuit\n",
    "    \n",
    "class CZ_X_Z_to_X_CZ(Transformer):\n",
    "    \"\"\"\n",
    "    ───@──X────   ───X────@────\n",
    "       |        ≡         |\n",
    "    ───@────Z──   ────────@────\n",
    "    \"\"\"\n",
    "    def find(self, qc : QuantumCircuit) -> list:\n",
    "        circuit = qc\n",
    "        result = []\n",
    "        for i, instr1 in enumerate(circuit):\n",
    "            indexes = None\n",
    "            if (instr1.operation.name == 'cz'):\n",
    "                q1, q2 = instr1.qubits\n",
    "                for j, instr2 in enumerate(circuit[i + 1:]):\n",
    "                    if (instr2.operation.name == 'rx'\n",
    "                        and np.abs(instr2.operation.params[0] - np.pi) < 1e-6\n",
    "                        and instr2.qubits[0] in [q1, q2]):\n",
    "\n",
    "                        q_x = instr2.qubits[0]\n",
    "                        q_z = q2 if q_x == q1 else q1\n",
    "\n",
    "                        for k, instr3 in enumerate(circuit[i + 1:]):\n",
    "                            if q_z in list(instr3.qubits):\n",
    "                                if (instr3.operation.name == 'rz'\n",
    "                                    and np.abs(instr3.operation.params[0] - np.pi) < 1e-6):\n",
    "                                    q_z = instr3.qubits[0]\n",
    "                                    indexes = i, i + j + 1, i + k + 1\n",
    "                                break\n",
    "                        break\n",
    "                    if (instr2.operation.name != 'rz' and (q1 in list(instr2.qubits) or q2 in list(instr2.qubits))):\n",
    "                        break\n",
    "            if indexes is not None:\n",
    "                result.append(indexes)\n",
    "        return result\n",
    "\n",
    "    def transform(self, qc : QuantumCircuit, indexes : tuple, inplace=False) -> QuantumCircuit:\n",
    "        circuit = qc\n",
    "        if not inplace:\n",
    "            circuit = qc.copy()\n",
    "        index_cz, index_x, index_z = indexes\n",
    "        assert(circuit[index_x].operation.name == 'rx')\n",
    "        assert(circuit[index_z].operation.name == 'rz')\n",
    "        assert(circuit[index_cz].operation.name == 'cz')\n",
    "        qs = circuit[index_cz].qubits\n",
    "        assert (circuit[index_x].qubits[0] in list(qs) and circuit[index_z].qubits[0] in list(qs))\n",
    "\n",
    "        q_x = circuit[index_x].qubits[0]\n",
    "        circuit.rx(np.pi, q_x)\n",
    "        if index_x < index_z:\n",
    "            circuit.data.pop(index_z)\n",
    "            circuit.data.pop(index_x)\n",
    "        else:\n",
    "            circuit.data.pop(index_x)\n",
    "            circuit.data.pop(index_z)\n",
    "        circuit.data.insert(index_cz, circuit[-1])\n",
    "        circuit.data = circuit.data[:-1]\n",
    "        return circuit\n",
    "\n",
    "class X_Z_CZ_to_CZ_X(CZ_X_Z_to_X_CZ):\n",
    "    \"\"\"\n",
    "    ─X──@──────   ───────@───X─\n",
    "        |        ≡       |\n",
    "    ──Z─@──────   ───────@────\n",
    "    \"\"\"\n",
    "    def find(self, qc : QuantumCircuit) -> list:\n",
    "        circuit = qc.copy()\n",
    "        circuit.data = circuit.data[::-1]\n",
    "        result = super().find(circuit)\n",
    "        d = len(qc)\n",
    "        for i in range(len(result)):\n",
    "            index_cz, index_x, index_z = result[i]\n",
    "            result[i] = d - 1 - index_cz, d - 1 - index_x, d - 1 - index_z\n",
    "        return result\n",
    "\n",
    "    def transform(self, qc : QuantumCircuit, indexes : tuple, inplace=False) ->QuantumCircuit:\n",
    "        circuit = qc\n",
    "        if not inplace:\n",
    "            circuit = qc.copy()\n",
    "        index_cz, index_x, index_z = indexes\n",
    "        circuit2 = qc.copy()\n",
    "        circuit2.data = circuit2.data[::-1]\n",
    "        d = len(circuit2)\n",
    "        circuit2 = super().transform(circuit2, (d - 1 - index_cz, d - 1 - index_x, d - 1 - index_z), inplace=True)\n",
    "        circuit.data = circuit2.data[::-1]\n",
    "        return circuit\n",
    "    \n",
    "class Z_CZ_to_CZ_Z(Transformer):\n",
    "    \"\"\"\n",
    "    ───Z───@───      ───@───Z───\n",
    "           |     ≡      |       \n",
    "    ───────@───      ───@──────\n",
    "    \"\"\"\n",
    "    def find(self, qc : QuantumCircuit) -> list:\n",
    "        circuit = qc\n",
    "        result = []\n",
    "        for i, instr1 in enumerate(circuit):\n",
    "            indexes = None\n",
    "            if (instr1.operation.name == 'rz' and np.abs(instr1.operation.params[0] - np.pi) < 1e-6):\n",
    "                q_z = instr1.qubits[0]\n",
    "                for j, instr2 in enumerate(circuit[i + 1:]):\n",
    "                    if q_z in list(instr2.qubits):\n",
    "                        if (instr2.operation.name == 'cz'):\n",
    "                            indexes = i, i + j + 1\n",
    "                        break\n",
    "            if indexes is not None:\n",
    "                result.append(indexes)\n",
    "        return result\n",
    "\n",
    "    def transform(self, qc : QuantumCircuit, indexes : tuple, inplace=False) -> QuantumCircuit:\n",
    "        circuit = qc\n",
    "        if not inplace:\n",
    "            circuit = qc.copy()\n",
    "        index_z, index_cz = indexes\n",
    "        assert(circuit[index_z].operation.name == 'rz')\n",
    "        assert(circuit[index_cz].operation.name == 'cz')\n",
    "        q_z = circuit[index_z].qubits[0]\n",
    "        qs = circuit[index_cz].qubits\n",
    "        assert (q_z in list(qs))\n",
    "        circuit.rz(np.pi, q_z)\n",
    "        circuit.data.insert(index_cz + 1, circuit[-1])\n",
    "        circuit.data.pop(index_z)\n",
    "        circuit.data = circuit.data[:-1]\n",
    "        return circuit\n",
    "\n",
    "class CZ_Z_to_Z_CZ(Z_CZ_to_CZ_Z):\n",
    "    \"\"\"\n",
    "    ────@─────Z─      ───Z───@───────\n",
    "        |         ≡          |       \n",
    "    ────@───────      ───────@──────\n",
    "    \"\"\"\n",
    "    def find(self, qc : QuantumCircuit) -> list:\n",
    "        circuit = qc.copy()\n",
    "        circuit.data = circuit.data[::-1]\n",
    "        result = super().find(circuit)\n",
    "        d = len(qc)\n",
    "        for i in range(len(result)):\n",
    "            index_z, index_cz = result[i]\n",
    "            result[i] = d - 1 - index_z, d - 1 - index_cz\n",
    "        return result\n",
    "\n",
    "    def transform(self, qc : QuantumCircuit, indexes : tuple, inplace=False) ->QuantumCircuit:\n",
    "        circuit = qc\n",
    "        if not inplace:\n",
    "            circuit = qc.copy()\n",
    "        index_z, index_cz = indexes\n",
    "        circuit2 = qc.copy()\n",
    "        circuit2.data = circuit2.data[::-1]\n",
    "        d = len(circuit2)\n",
    "        circuit2 = super().transform(circuit2, (d - 1 - index_z, d - 1 - index_cz), inplace=True)\n",
    "        circuit.data = circuit2.data[::-1]\n",
    "        return circuit   "
   ]
  },
  {
   "cell_type": "code",
   "execution_count": 152,
   "id": "7350cd5e",
   "metadata": {},
   "outputs": [],
   "source": [
    "def merge_unitary(qc : QuantumCircuit, inplace=False)->QuantumCircuit:\n",
    "    \"\"\"\n",
    "    ───RX(a)──RX(b)── ≡ ─RX(a + b)──\n",
    "    \n",
    "    ───RX(2pi)──      ≡ ────────────\n",
    "    \"\"\"\n",
    "    circuit = qc\n",
    "    if not inplace:\n",
    "        circuit = qc.copy()\n",
    "    ops = {q: [] for q in list(circuit.qubits)}\n",
    "    for i, instr in enumerate(circuit):\n",
    "        for q in list(instr.qubits):\n",
    "            ops[q].append(i)\n",
    "    drops = []\n",
    "    swaps = [] #swap\n",
    "    for q in ops:\n",
    "        buf_i = None\n",
    "        buf_name = None\n",
    "        buf_angle = 0\n",
    "        for k, i in enumerate(ops[q]):\n",
    "            op = circuit[i]\n",
    "            if ((not (buf_i is None)) and buf_name == op.operation.name):\n",
    "                op.operation.params = [op.operation.params[0] + 0.0]\n",
    "                angle = op.operation.params[0]\n",
    "                drops.append(i)\n",
    "                buf_angle += angle\n",
    "            else:\n",
    "                if not (buf_i is None):\n",
    "                    buf_angle = normalize_angle(buf_angle)\n",
    "                    if buf_name == 'rx':\n",
    "                        circuit.rx(buf_angle, q)\n",
    "                    else:\n",
    "                        circuit.rz(buf_angle, q)\n",
    "                    swaps.append((buf_i, len(circuit) - 1))\n",
    "                    if (np.abs(buf_angle) < 1e-6 or np.abs(buf_angle - 2 * np.pi) < 1e-6):\n",
    "                        drops.append(buf_i)\n",
    "                buf_i, buf_angle, buf_name = (i, op.operation.params[0], op.operation.name) if (\n",
    "                    op.operation.name in ['rx', 'rz']) else (None, 0, None)\n",
    "            if (k == len(ops[q]) - 1):\n",
    "                if not (buf_i is None):\n",
    "                    buf_angle = normalize_angle(buf_angle)\n",
    "                    if buf_name == 'rx':\n",
    "                        circuit.rx(buf_angle, q)\n",
    "                    else:\n",
    "                        circuit.rz(buf_angle, q)\n",
    "                    swaps.append((buf_i, len(circuit) - 1))\n",
    "                    if (np.abs(buf_angle) < 1e-6 or np.abs(buf_angle - 2 * np.pi) < 1e-6):\n",
    "                        drops.append(buf_i)\n",
    "    for a, b in swaps:\n",
    "        circuit.data[a], circuit.data[b] = circuit.data[b], circuit.data[a]\n",
    "        drops.append(b)\n",
    "    drops = sorted(drops)[::-1]\n",
    "    for d in drops:\n",
    "        circuit.data.pop(d)\n",
    "    return circuit"
   ]
  },
  {
   "cell_type": "code",
   "execution_count": null,
   "id": "ad836e34",
   "metadata": {},
   "outputs": [],
   "source": []
  },
  {
   "cell_type": "code",
   "execution_count": 154,
   "id": "0affd148",
   "metadata": {},
   "outputs": [],
   "source": [
    "def merge_unitary_hard(qc : QuantumCircuit, inplace=False)->QuantumCircuit:\n",
    "    \"\"\"\n",
    "    ───RX(a)──RX(b)── ≡ ─RX(a + b)──\n",
    "    \n",
    "    ───RX(2pi)──      ≡ ────────────\n",
    "    \"\"\"\n",
    "    circuit = qc\n",
    "    if not inplace:\n",
    "        circuit = qc.copy()\n",
    "    ops = {q: [] for q in list(circuit.qubits)}\n",
    "    for i, instr in enumerate(circuit):\n",
    "        for q in list(instr.qubits):\n",
    "            ops[q].append(i)\n",
    "    new_circuit = QuantumCircuit(*circuit.qregs, *circuit.cregs)\n",
    "    buf = {q: np.eye(2) for q in list(circuit.qubits)}\n",
    "    for i, (instr, qargs, cargs) in enumerate(circuit.data):\n",
    "        if instr.name in ['rx', 'rz']:\n",
    "            buf[qargs[0]] = Operator(instr).to_matrix() @ buf[qargs[0]]\n",
    "        else:\n",
    "            u = {qarg: [] for qarg in qargs}\n",
    "            for qarg in qargs:\n",
    "                c = QuantumCircuit(1)\n",
    "                c.unitary(buf[qarg], 0)\n",
    "                c = transpile(c, basis_gates=['rz', 'rx'])\n",
    "                for instr1, qargs1, cargs1 in c:\n",
    "                    u[qarg].append((instr1.name, instr1.params[0]))\n",
    "                buf[qarg] = np.eye(2)\n",
    "            if instr.name == 'cz':\n",
    "                for qarg in qargs:\n",
    "                    if len(u[qarg]) > 0 and u[qarg][-1][0] == 'rz':\n",
    "                        buf[qarg] = RZGate(u[qarg][-1][1]).to_matrix()\n",
    "                        u[qarg].pop()\n",
    "            for qarg in qargs:\n",
    "                for op in u[qarg]:\n",
    "                    if op[0] == 'rx':\n",
    "                        new_circuit.rx(op[1], qarg)\n",
    "                    else:\n",
    "                        new_circuit.rz(op[1], qarg)\n",
    "            new_circuit.append(instr, qargs, cargs)\n",
    "    for qarg in list(circuit.qubits):\n",
    "        c = QuantumCircuit(1)\n",
    "        c.unitary(buf[qarg], 0)\n",
    "        c = transpile(c, basis_gates=['rz', 'rx'])\n",
    "        for instr1, qargs1, cargs1 in c:\n",
    "            if instr1.name == 'rx':\n",
    "                new_circuit.rx(instr1.params[0], qarg)\n",
    "            else:\n",
    "                new_circuit.rz(instr1.params[0], qarg)\n",
    "        buf[qarg] = np.eye(2) \n",
    "    return new_circuit"
   ]
  },
  {
   "cell_type": "code",
   "execution_count": 156,
   "id": "eb67f417",
   "metadata": {},
   "outputs": [],
   "source": [
    "def circ():\n",
    "    c = QuantumCircuit(3)\n",
    "    c.rx(np.pi, 0)\n",
    "    c.rz(np.pi / 2, 0)\n",
    "    c.cz(0, 1)\n",
    "    c.rx(np.pi / 4, 0)\n",
    "    c.draw(fold=700)\n",
    "    return c"
   ]
  },
  {
   "cell_type": "code",
   "execution_count": 171,
   "id": "15dbd030",
   "metadata": {},
   "outputs": [],
   "source": [
    "class X_RZ_to_RZ_X(Transformer):\n",
    "    \"\"\"\n",
    "    ────X─────RZ(a)─   ≡   ───RZ(-a)───X───\n",
    "    \"\"\"\n",
    "    def find(self, qc : QuantumCircuit) -> list:\n",
    "        circuit = qc\n",
    "        result = []\n",
    "        for i, instr1 in enumerate(circuit):\n",
    "            indexes = None\n",
    "            if (instr1.operation.name == 'rx' and np.abs(instr1.operation.params[0] - np.pi) < 1e-6):\n",
    "                q_x = instr1.qubits[0]\n",
    "                for j, instr2 in enumerate(circuit[i + 1:]):\n",
    "                    if q_x in list(instr2.qubits):\n",
    "                        if (instr2.operation.name == 'rz'):\n",
    "                            indexes = i, i + j + 1\n",
    "                        break\n",
    "            if indexes is not None:\n",
    "                result.append(indexes)\n",
    "        return result\n",
    "\n",
    "    def transform(self, qc : QuantumCircuit, indexes : tuple, inplace=False) -> QuantumCircuit:\n",
    "        circuit = qc\n",
    "        if not inplace:\n",
    "            circuit = qc.copy()\n",
    "        index_x, index_rz = indexes\n",
    "        assert(circuit[index_x].operation.name == 'rx')\n",
    "        assert(circuit[index_rz].operation.name == 'rz')\n",
    "        q_x = circuit[index_x].qubits[0]\n",
    "        qs = circuit[index_rz].qubits\n",
    "        assert (q_x in list(qs))\n",
    "        circuit.rz(normalize_angle(-circuit[index_rz].operation.params[0]), q_x)\n",
    "        circuit.data.pop(index_rz)\n",
    "        circuit.data.insert(index_x, circuit[-1])\n",
    "        circuit.data.pop()\n",
    "        return circuit"
   ]
  },
  {
   "cell_type": "code",
   "execution_count": null,
   "id": "ea58cadb",
   "metadata": {},
   "outputs": [],
   "source": [
    "class split_pi_and_transform(Transformer)->QuantumCircuit:\n",
    "    \"\"\"\n",
    "    ───RX(a + pi)── ≡ ─RX(a)──RX(pi)───\n",
    "\n",
    "    \"\"\"\n",
    "    circuit = qc\n",
    "    if not inplace:\n",
    "        circuit = qc.copy()\n",
    "    ops = {q: [] for q in list(circuit.qubits)}\n",
    "    for i, instr in enumerate(circuit):\n",
    "        for q in list(instr.qubits):\n",
    "            ops[q].append(i)\n",
    "    for ops in "
   ]
  },
  {
   "cell_type": "code",
   "execution_count": 185,
   "id": "5a1682d0",
   "metadata": {},
   "outputs": [],
   "source": [
    "class RX_CZ_to_RX_CZ_X_Z(Transformer):\n",
    "    \"\"\"\n",
    "    ───RX(a + pi)───@───      ─RX(a)──@──X────\n",
    "                    |     ≡           |       \n",
    "    ────────────────@───      ────────@────Z──\n",
    "    \"\"\"\n",
    "    def find(self, qc : QuantumCircuit) -> list:\n",
    "        circuit = qc\n",
    "        result = []\n",
    "        for i, instr1 in enumerate(circuit):\n",
    "            indexes = None\n",
    "            if (instr1.operation.name == 'rx'):\n",
    "                q_x = instr1.qubits[0]\n",
    "                for j, instr2 in enumerate(circuit[i + 1:]):\n",
    "                    if q_x in list(instr2.qubits):\n",
    "                        if (instr2.operation.name == 'cz'):\n",
    "                            indexes = i, i + j + 1\n",
    "                        break\n",
    "            if indexes is not None:\n",
    "                result.append(indexes)\n",
    "        return result\n",
    "\n",
    "    def transform(self, qc : QuantumCircuit, indexes : tuple, inplace=False) -> QuantumCircuit:\n",
    "        circuit = qc\n",
    "        if not inplace:\n",
    "            circuit = qc.copy()\n",
    "        index_x, index_cz = indexes\n",
    "        assert(circuit[index_x].operation.name == 'rx')\n",
    "        assert(circuit[index_cz].operation.name == 'cz')\n",
    "        q_x = circuit[index_x].qubits[0]\n",
    "        qs = circuit[index_cz].qubits\n",
    "        assert (q_x in list(qs))\n",
    "        q_z = qs[1] if qs[0] == q_x else qs[0]\n",
    "        a = normalize_angle(circuit[index_x].operation.params[0] - np.pi)\n",
    "        if np.abs(a) > 1e-6 and  np.abs(a - 2 * np.pi) > 1e-6:\n",
    "            circuit.rx(a, q_x)\n",
    "        circuit.rx(np.pi, q_x)\n",
    "        circuit.rz(np.pi, q_z)\n",
    "        circuit.data.insert(index_cz + 1, circuit[-2])\n",
    "        circuit.data.insert(index_cz + 1, circuit[-1])\n",
    "        if np.abs(a) > 1e-6 and  np.abs(a - 2 * np.pi) > 1e-6:\n",
    "            circuit.data[index_x] = circuit.data[-3]\n",
    "        else:\n",
    "            circuit.data.pop(index_x)\n",
    "        circuit.data = circuit.data[:-3]\n",
    "        return circuit"
   ]
  },
  {
   "cell_type": "code",
   "execution_count": 186,
   "id": "a9cfd017",
   "metadata": {},
   "outputs": [
    {
     "data": {
      "text/html": [
       "<pre style=\"word-wrap: normal;white-space: pre;background: #fff0;line-height: 1.1;font-family: &quot;Courier New&quot;,Courier,monospace\">     ┌───────┐┌─────────┐   ┌─────────┐\n",
       "q_0: ┤ Rx(π) ├┤ Rz(π/2) ├─■─┤ Rx(π/4) ├\n",
       "     └───────┘└─────────┘ │ └─────────┘\n",
       "q_1: ─────────────────────■────────────\n",
       "                                       \n",
       "q_2: ──────────────────────────────────\n",
       "                                       </pre>"
      ],
      "text/plain": [
       "     ┌───────┐┌─────────┐   ┌─────────┐\n",
       "q_0: ┤ Rx(π) ├┤ Rz(π/2) ├─■─┤ Rx(π/4) ├\n",
       "     └───────┘└─────────┘ │ └─────────┘\n",
       "q_1: ─────────────────────■────────────\n",
       "                                       \n",
       "q_2: ──────────────────────────────────\n",
       "                                       "
      ]
     },
     "execution_count": 186,
     "metadata": {},
     "output_type": "execute_result"
    }
   ],
   "source": [
    "c = circ()\n",
    "c.draw(fold=7000)"
   ]
  },
  {
   "cell_type": "code",
   "execution_count": 187,
   "id": "e6e86f23",
   "metadata": {},
   "outputs": [
    {
     "data": {
      "text/html": [
       "<pre style=\"word-wrap: normal;white-space: pre;background: #fff0;line-height: 1.1;font-family: &quot;Courier New&quot;,Courier,monospace\">     ┌──────────┐┌───────┐   ┌─────────┐\n",
       "q_0: ┤ Rz(-π/2) ├┤ Rx(π) ├─■─┤ Rx(π/4) ├\n",
       "     └──────────┘└───────┘ │ └─────────┘\n",
       "q_1: ──────────────────────■────────────\n",
       "                                        \n",
       "q_2: ───────────────────────────────────\n",
       "                                        </pre>"
      ],
      "text/plain": [
       "     ┌──────────┐┌───────┐   ┌─────────┐\n",
       "q_0: ┤ Rz(-π/2) ├┤ Rx(π) ├─■─┤ Rx(π/4) ├\n",
       "     └──────────┘└───────┘ │ └─────────┘\n",
       "q_1: ──────────────────────■────────────\n",
       "                                        \n",
       "q_2: ───────────────────────────────────\n",
       "                                        "
      ]
     },
     "execution_count": 187,
     "metadata": {},
     "output_type": "execute_result"
    }
   ],
   "source": [
    "c1 = merge_unitary_hard(c)\n",
    "c1.draw()"
   ]
  },
  {
   "cell_type": "code",
   "execution_count": 195,
   "id": "01936cb9",
   "metadata": {},
   "outputs": [
    {
     "data": {
      "text/html": [
       "<pre style=\"word-wrap: normal;white-space: pre;background: #fff0;line-height: 1.1;font-family: &quot;Courier New&quot;,Courier,monospace\">     ┌──────────┐   ┌───────┐\n",
       "q_0: ┤ Rz(-π/2) ├─■─┤ Rx(π) ├\n",
       "     └──────────┘ │ ├───────┤\n",
       "q_1: ─────────────■─┤ Rz(π) ├\n",
       "                    └───────┘\n",
       "q_2: ────────────────────────\n",
       "                             </pre>"
      ],
      "text/plain": [
       "     ┌──────────┐   ┌───────┐\n",
       "q_0: ┤ Rz(-π/2) ├─■─┤ Rx(π) ├\n",
       "     └──────────┘ │ ├───────┤\n",
       "q_1: ─────────────■─┤ Rz(π) ├\n",
       "                    └───────┘\n",
       "q_2: ────────────────────────\n",
       "                             "
      ]
     },
     "execution_count": 195,
     "metadata": {},
     "output_type": "execute_result"
    }
   ],
   "source": [
    "res = RX_CZ_to_RX_CZ_X_Z().find(c1)\n",
    "c2 = RX_CZ_to_RX_CZ_X_Z().transform(c1, res[0])\n",
    "c2.draw()"
   ]
  },
  {
   "cell_type": "code",
   "execution_count": 196,
   "id": "00925f24",
   "metadata": {},
   "outputs": [
    {
     "data": {
      "text/html": [
       "<pre style=\"word-wrap: normal;white-space: pre;background: #fff0;line-height: 1.1;font-family: &quot;Courier New&quot;,Courier,monospace\">        ┌──────────┐┌───────┐\n",
       "q_0: ─■─┤ Rz(-π/2) ├┤ Rx(π) ├\n",
       "      │ └┬────────┬┘└───────┘\n",
       "q_1: ─■──┤ Rz(-π) ├──────────\n",
       "         └────────┘          \n",
       "q_2: ────────────────────────\n",
       "                             </pre>"
      ],
      "text/plain": [
       "        ┌──────────┐┌───────┐\n",
       "q_0: ─■─┤ Rz(-π/2) ├┤ Rx(π) ├\n",
       "      │ └┬────────┬┘└───────┘\n",
       "q_1: ─■──┤ Rz(-π) ├──────────\n",
       "         └────────┘          \n",
       "q_2: ────────────────────────\n",
       "                             "
      ]
     },
     "execution_count": 196,
     "metadata": {},
     "output_type": "execute_result"
    }
   ],
   "source": [
    "merge_unitary_hard(c2).draw()"
   ]
  },
  {
   "cell_type": "code",
   "execution_count": 174,
   "id": "a1e367d9",
   "metadata": {},
   "outputs": [
    {
     "data": {
      "text/html": [
       "<pre style=\"word-wrap: normal;white-space: pre;background: #fff0;line-height: 1.1;font-family: &quot;Courier New&quot;,Courier,monospace\">     ┌──────────┐┌───────┐   ┌─────────┐\n",
       "q_0: ┤ Rz(3π/2) ├┤ Rx(π) ├─■─┤ Rx(π/4) ├\n",
       "     └──────────┘└───────┘ │ └─────────┘\n",
       "q_1: ──────────────────────■────────────\n",
       "                                        \n",
       "q_2: ───────────────────────────────────\n",
       "                                        </pre>"
      ],
      "text/plain": [
       "     ┌──────────┐┌───────┐   ┌─────────┐\n",
       "q_0: ┤ Rz(3π/2) ├┤ Rx(π) ├─■─┤ Rx(π/4) ├\n",
       "     └──────────┘└───────┘ │ └─────────┘\n",
       "q_1: ──────────────────────■────────────\n",
       "                                        \n",
       "q_2: ───────────────────────────────────\n",
       "                                        "
      ]
     },
     "execution_count": 174,
     "metadata": {},
     "output_type": "execute_result"
    }
   ],
   "source": [
    "X_RZ_to_RZ_X().transform(c, (0, 1)).draw()"
   ]
  },
  {
   "cell_type": "code",
   "execution_count": 127,
   "id": "27a13209",
   "metadata": {},
   "outputs": [
    {
     "data": {
      "text/html": [
       "<pre style=\"word-wrap: normal;white-space: pre;background: #fff0;line-height: 1.1;font-family: &quot;Courier New&quot;,Courier,monospace\">     ┌────────────┐┌────────────┐   ┌────────────┐┌────────────┐   ┌────────────┐┌────────────┐┌─────────────┐\n",
       "q_0: ┤ Rz(1.4843) ├┤ Rx(2.2189) ├─■─┤ Rz(2.6139) ├┤ Rx(1.2167) ├─■─┤ Rz(2.6139) ├┤ Rx(2.2189) ├┤ Rz(-3.0272) ├\n",
       "     └┬─────────┬─┘└────────────┘ │ └┬─────────┬─┘└┬─────────┬─┘ │ └┬─────────┬─┘└────────────┘└─────────────┘\n",
       "q_1: ─┤ Rx(1.1) ├─────────────────■──┤ Rz(1.1) ├───┤ Rx(1.1) ├───┼──┤ Rz(1.1) ├───────────────────────────────\n",
       "      ├─────────┤                    └─────────┘   └─────────┘   │  ├─────────┤   ┌─────────┐    ┌─────────┐  \n",
       "q_2: ─┤ Rx(1.1) ├────────────────────────────────────────────────■──┤ Rz(1.1) ├───┤ Rx(1.1) ├────┤ Rz(1.1) ├──\n",
       "      └─────────┘                                                   └─────────┘   └─────────┘    └─────────┘  </pre>"
      ],
      "text/plain": [
       "     ┌────────────┐┌────────────┐   ┌────────────┐┌────────────┐   ┌────────────┐┌────────────┐┌─────────────┐\n",
       "q_0: ┤ Rz(1.4843) ├┤ Rx(2.2189) ├─■─┤ Rz(2.6139) ├┤ Rx(1.2167) ├─■─┤ Rz(2.6139) ├┤ Rx(2.2189) ├┤ Rz(-3.0272) ├\n",
       "     └┬─────────┬─┘└────────────┘ │ └┬─────────┬─┘└┬─────────┬─┘ │ └┬─────────┬─┘└────────────┘└─────────────┘\n",
       "q_1: ─┤ Rx(1.1) ├─────────────────■──┤ Rz(1.1) ├───┤ Rx(1.1) ├───┼──┤ Rz(1.1) ├───────────────────────────────\n",
       "      ├─────────┤                    └─────────┘   └─────────┘   │  ├─────────┤   ┌─────────┐    ┌─────────┐  \n",
       "q_2: ─┤ Rx(1.1) ├────────────────────────────────────────────────■──┤ Rz(1.1) ├───┤ Rx(1.1) ├────┤ Rz(1.1) ├──\n",
       "      └─────────┘                                                   └─────────┘   └─────────┘    └─────────┘  "
      ]
     },
     "execution_count": 127,
     "metadata": {},
     "output_type": "execute_result"
    }
   ],
   "source": [
    "c1 = merge_unitary_hard(c)\n",
    "c1.draw(fold=7000)"
   ]
  },
  {
   "cell_type": "code",
   "execution_count": 143,
   "id": "8ede21d4",
   "metadata": {},
   "outputs": [
    {
     "data": {
      "text/plain": [
       "0.9999999999999993"
      ]
     },
     "execution_count": 143,
     "metadata": {},
     "output_type": "execute_result"
    }
   ],
   "source": [
    "u = Operator(c).to_matrix()\n",
    "v = Operator(c1).to_matrix()\n",
    "np.abs((u @ v.conj().T).trace() / u.shape[0])"
   ]
  },
  {
   "cell_type": "code",
   "execution_count": 140,
   "id": "b3d955f7",
   "metadata": {},
   "outputs": [],
   "source": [
    "for _ in range(10000):\n",
    "    i_state = np.random.rand(8) + 1j * np.random.rand(8)\n",
    "    i_state /= np.linalg.norm(i_state)\n",
    "    assert np.allclose(state_fidelity(u @ i_state.T, v @ i_state.T), 1)"
   ]
  },
  {
   "cell_type": "code",
   "execution_count": 462,
   "id": "04a4b57c",
   "metadata": {},
   "outputs": [],
   "source": [
    "def transpiler(qc : QuantumCircuit, shots = 1000, n_iter=1000, inplace=False) -> QuantumCircuit:\n",
    "    circuit = qc\n",
    "    if not inplace:\n",
    "        circuit = qc.copy()\n",
    "    fidelity = fidelity_measuring(circuit, shots)\n",
    "    print(fidelity, error_log_prob(circuit))\n",
    "    circuit = merge_cz(circuit)\n",
    "    circuit = merge_unitary(circuit)\n",
    "    fidelity = fidelity_measuring(circuit, shots)\n",
    "    print(fidelity, error_log_prob(circuit))\n",
    "    transformers = [CZ_X_to_X_Z_CZ(), CZ_X_Z_to_X_CZ(), CZ_Z_to_Z_CZ(), X_CZ_to_CZ_X_Z(), X_Z_CZ_to_CZ_X(), Z_CZ_to_CZ_Z()]\n",
    "    for _ in range(n_iter):\n",
    "        tr = transformers.copy()\n",
    "        random_transformer = random.choice(tr)\n",
    "        indexes = None\n",
    "        while len(tr) > 0:\n",
    "            random_transformer = random.choice(tr)\n",
    "            res = random_transformer.find(circuit)\n",
    "            if len(res) == 0:\n",
    "                i = tr.index(random_transformer)\n",
    "                tr.pop(i)\n",
    "            else:\n",
    "                indexes = random.choice(res)\n",
    "                break\n",
    "        if len(tr) == 0:\n",
    "            return circuit\n",
    "        circuit2 = random_transformer.transform(circuit, indexes)\n",
    "        circuit2 = merge_cz(circuit2)\n",
    "        circuit2 = merge_unitary(circuit2)\n",
    "        fidelity2 = fidelity_measuring(circuit, shots)\n",
    "        print(fidelity, error_log_prob(circuit2))\n",
    "        if fidelity2 > fidelity:\n",
    "            fidelity = fidelity2\n",
    "            circuit = circuit2\n",
    "    return circuit"
   ]
  },
  {
   "cell_type": "code",
   "execution_count": 463,
   "id": "9c7e523c",
   "metadata": {
    "scrolled": false
   },
   "outputs": [
    {
     "name": "stdout",
     "output_type": "stream",
     "text": [
      "0.240683060449605 -10970.296904864732\n",
      "0.25398259716638766 -8094.461194792441\n"
     ]
    }
   ],
   "source": [
    "res_c = transpiler(circuits[12], shots=1000)"
   ]
  },
  {
   "cell_type": "code",
   "execution_count": 449,
   "id": "ab0e0974",
   "metadata": {},
   "outputs": [
    {
     "data": {
      "text/html": [
       "<pre style=\"word-wrap: normal;white-space: pre;background: #fff0;line-height: 1.1;font-family: &quot;Courier New&quot;,Courier,monospace\">global phase: π/8\n",
       "     ┌───────┐                                                                                                         ┌─────────┐                                                                                                                                                                                                                                                                                                                                                                       \n",
       "q_0: ┤ Rx(π) ├───────────────────────────────────────────────────────────────────────────────────────────────────────■─┤ Rz(π/4) ├───────────────────────────────────────────────────────────────────────────────────────────────────────────────────■───────────────────────────────────────■────────────────────────────────────────────────────■──────────────────────────────────────────────────────────────────────────────────────────────────────────────────────────────────────────────────────\n",
       "     ├───────┤┌─────────┐┌─────────┐┌─────────┐   ┌─────────┐┌─────────┐┌─────────┐┌─────────┐┌─────────┐┌─────────┐ │ ├─────────┤┌─────────┐┌─────────┐┌──────────┐┌─────────┐┌─────────┐┌─────────┐   ┌─────────┐┌─────────┐┌─────────┐┌─────────┐ │ ┌─────────┐┌─────────┐┌─────────┐     │      ┌─────────┐┌─────────┐┌─────────┐┌──────────┐ │ ┌─────────┐┌─────────┐┌─────────┐   ┌─────────┐┌─────────┐┌─────────┐┌─────────┐┌─────────┐┌─────────┐┌─────────┐   ┌─────────┐┌─────────┐┌─────────┐\n",
       "q_1: ┤ Rx(π) ├┤ Rz(π/2) ├┤ Rx(π/2) ├┤ Rz(π/2) ├─■─┤ Rz(π/2) ├┤ Rx(π/2) ├┤ Rz(π/2) ├┤ Rz(π/2) ├┤ Rx(π/2) ├┤ Rz(π/2) ├─■─┤ Rz(π/2) ├┤ Rx(π/2) ├┤ Rz(π/2) ├┤ Rz(-π/4) ├┤ Rz(π/2) ├┤ Rx(π/2) ├┤ Rz(π/2) ├─■─┤ Rz(π/2) ├┤ Rx(π/2) ├┤ Rz(π/2) ├┤ Rz(π/4) ├─┼─┤ Rz(π/2) ├┤ Rx(π/2) ├┤ Rz(π/2) ├─────■──────┤ Rz(π/2) ├┤ Rx(π/2) ├┤ Rz(π/2) ├┤ Rz(-π/4) ├─┼─┤ Rz(π/2) ├┤ Rx(π/2) ├┤ Rz(π/2) ├─■─┤ Rz(π/2) ├┤ Rx(π/2) ├┤ Rz(π/2) ├┤ Rz(π/4) ├┤ Rz(π/2) ├┤ Rx(π/2) ├┤ Rz(π/2) ├─■─┤ Rz(π/2) ├┤ Rx(π/2) ├┤ Rz(π/2) ├\n",
       "     └───────┘└─────────┘└─────────┘└─────────┘ │ ├─────────┤├─────────┤├─────────┤├─────────┤└─────────┘└─────────┘   └─────────┘└─────────┘└─────────┘└──────────┘└─────────┘└─────────┘└─────────┘ │ ├─────────┤├─────────┤├─────────┤└─────────┘ │ ├─────────┤├─────────┤├─────────┤┌──────────┐├─────────┤├─────────┤├─────────┤└──────────┘ │ ├─────────┤├─────────┤├─────────┤ │ ├─────────┤├─────────┤├─────────┤└─────────┘└─────────┘└─────────┘└─────────┘ │ └─────────┘└─────────┘└─────────┘\n",
       "q_2: ───────────────────────────────────────────■─┤ Rz(π/2) ├┤ Rx(π/2) ├┤ Rz(π/2) ├┤ Rz(π/4) ├────────────────────────────────────────────────────────────────────────────────────────────────────────■─┤ Rz(π/2) ├┤ Rx(π/2) ├┤ Rz(π/2) ├────────────■─┤ Rz(π/2) ├┤ Rx(π/2) ├┤ Rz(π/2) ├┤ Rz(-π/4) ├┤ Rz(π/2) ├┤ Rx(π/2) ├┤ Rz(π/2) ├─────────────■─┤ Rz(π/2) ├┤ Rx(π/2) ├┤ Rz(π/2) ├─■─┤ Rz(π/2) ├┤ Rx(π/2) ├┤ Rz(π/2) ├─────────────────────────────────────────────■──────────────────────────────────\n",
       "                                                  └─────────┘└─────────┘└─────────┘└─────────┘                                                                                                          └─────────┘└─────────┘└─────────┘              └─────────┘└─────────┘└─────────┘└──────────┘└─────────┘└─────────┘└─────────┘               └─────────┘└─────────┘└─────────┘   └─────────┘└─────────┘└─────────┘                                                                                </pre>"
      ],
      "text/plain": [
       "global phase: π/8\n",
       "     ┌───────┐                                                                                                         ┌─────────┐                                                                                                                                                                                                                                                                                                                                                                       \n",
       "q_0: ┤ Rx(π) ├───────────────────────────────────────────────────────────────────────────────────────────────────────■─┤ Rz(π/4) ├───────────────────────────────────────────────────────────────────────────────────────────────────────────────────■───────────────────────────────────────■────────────────────────────────────────────────────■──────────────────────────────────────────────────────────────────────────────────────────────────────────────────────────────────────────────────────\n",
       "     ├───────┤┌─────────┐┌─────────┐┌─────────┐   ┌─────────┐┌─────────┐┌─────────┐┌─────────┐┌─────────┐┌─────────┐ │ ├─────────┤┌─────────┐┌─────────┐┌──────────┐┌─────────┐┌─────────┐┌─────────┐   ┌─────────┐┌─────────┐┌─────────┐┌─────────┐ │ ┌─────────┐┌─────────┐┌─────────┐     │      ┌─────────┐┌─────────┐┌─────────┐┌──────────┐ │ ┌─────────┐┌─────────┐┌─────────┐   ┌─────────┐┌─────────┐┌─────────┐┌─────────┐┌─────────┐┌─────────┐┌─────────┐   ┌─────────┐┌─────────┐┌─────────┐\n",
       "q_1: ┤ Rx(π) ├┤ Rz(π/2) ├┤ Rx(π/2) ├┤ Rz(π/2) ├─■─┤ Rz(π/2) ├┤ Rx(π/2) ├┤ Rz(π/2) ├┤ Rz(π/2) ├┤ Rx(π/2) ├┤ Rz(π/2) ├─■─┤ Rz(π/2) ├┤ Rx(π/2) ├┤ Rz(π/2) ├┤ Rz(-π/4) ├┤ Rz(π/2) ├┤ Rx(π/2) ├┤ Rz(π/2) ├─■─┤ Rz(π/2) ├┤ Rx(π/2) ├┤ Rz(π/2) ├┤ Rz(π/4) ├─┼─┤ Rz(π/2) ├┤ Rx(π/2) ├┤ Rz(π/2) ├─────■──────┤ Rz(π/2) ├┤ Rx(π/2) ├┤ Rz(π/2) ├┤ Rz(-π/4) ├─┼─┤ Rz(π/2) ├┤ Rx(π/2) ├┤ Rz(π/2) ├─■─┤ Rz(π/2) ├┤ Rx(π/2) ├┤ Rz(π/2) ├┤ Rz(π/4) ├┤ Rz(π/2) ├┤ Rx(π/2) ├┤ Rz(π/2) ├─■─┤ Rz(π/2) ├┤ Rx(π/2) ├┤ Rz(π/2) ├\n",
       "     └───────┘└─────────┘└─────────┘└─────────┘ │ ├─────────┤├─────────┤├─────────┤├─────────┤└─────────┘└─────────┘   └─────────┘└─────────┘└─────────┘└──────────┘└─────────┘└─────────┘└─────────┘ │ ├─────────┤├─────────┤├─────────┤└─────────┘ │ ├─────────┤├─────────┤├─────────┤┌──────────┐├─────────┤├─────────┤├─────────┤└──────────┘ │ ├─────────┤├─────────┤├─────────┤ │ ├─────────┤├─────────┤├─────────┤└─────────┘└─────────┘└─────────┘└─────────┘ │ └─────────┘└─────────┘└─────────┘\n",
       "q_2: ───────────────────────────────────────────■─┤ Rz(π/2) ├┤ Rx(π/2) ├┤ Rz(π/2) ├┤ Rz(π/4) ├────────────────────────────────────────────────────────────────────────────────────────────────────────■─┤ Rz(π/2) ├┤ Rx(π/2) ├┤ Rz(π/2) ├────────────■─┤ Rz(π/2) ├┤ Rx(π/2) ├┤ Rz(π/2) ├┤ Rz(-π/4) ├┤ Rz(π/2) ├┤ Rx(π/2) ├┤ Rz(π/2) ├─────────────■─┤ Rz(π/2) ├┤ Rx(π/2) ├┤ Rz(π/2) ├─■─┤ Rz(π/2) ├┤ Rx(π/2) ├┤ Rz(π/2) ├─────────────────────────────────────────────■──────────────────────────────────\n",
       "                                                  └─────────┘└─────────┘└─────────┘└─────────┘                                                                                                          └─────────┘└─────────┘└─────────┘              └─────────┘└─────────┘└─────────┘└──────────┘└─────────┘└─────────┘└─────────┘               └─────────┘└─────────┘└─────────┘   └─────────┘└─────────┘└─────────┘                                                                                "
      ]
     },
     "execution_count": 449,
     "metadata": {},
     "output_type": "execute_result"
    }
   ],
   "source": [
    "circuits[1].draw(fold=700)"
   ]
  },
  {
   "cell_type": "code",
   "execution_count": 450,
   "id": "35b6be20",
   "metadata": {},
   "outputs": [
    {
     "data": {
      "text/plain": [
       "(71, 59)"
      ]
     },
     "execution_count": 450,
     "metadata": {},
     "output_type": "execute_result"
    }
   ],
   "source": [
    "len(circuits[1]), len(res_c)"
   ]
  },
  {
   "cell_type": "code",
   "execution_count": 451,
   "id": "b733756c",
   "metadata": {},
   "outputs": [
    {
     "data": {
      "text/html": [
       "<pre style=\"word-wrap: normal;white-space: pre;background: #fff0;line-height: 1.1;font-family: &quot;Courier New&quot;,Courier,monospace\">global phase: π/8\n",
       "                                                                                                              ┌───────┐  ┌─────────┐                                                                                                                                                                                                                                                                                            \n",
       "q_0: ──────────────────────────────────────────────────────────────────────────────────────────────────────■──┤ Rx(π) ├──┤ Rz(π/4) ├───────────────────────────────────────────────────────────────────────────────────■─────────────────■────────────────────────────────────────────────────■─────────────────────────────────────────────────────────────────────────────────────────────────────────────────────────────────\n",
       "     ┌───────┐┌─────────┐┌─────────┐┌─────────┐   ┌─────────┐┌─────────┐ ┌───────┐  ┌─────────┐┌─────────┐ │ ┌┴───────┴─┐├─────────┤┌──────────┐┌─────────┐┌─────────┐   ┌─────────┐┌─────────┐┌──────────┐┌─────────┐ │ ┌─────────┐     │     ┌─────────┐ ┌─────────┐┌──────────┐┌─────────┐ │ ┌─────────┐                         ┌─────────┐┌─────────┐┌──────────┐┌─────────┐┌─────────┐   ┌─────────┐┌─────────┐┌─────────┐\n",
       "q_1: ┤ Rx(π) ├┤ Rz(π/2) ├┤ Rx(π/2) ├┤ Rz(π/2) ├─■─┤ Rz(π/2) ├┤ Rx(π/2) ├─┤ Rz(π) ├──┤ Rx(π/2) ├┤ Rz(π/2) ├─■─┤ Rz(3π/2) ├┤ Rx(π/2) ├┤ Rz(3π/4) ├┤ Rx(π/2) ├┤ Rz(π/2) ├─■─┤ Rz(π/2) ├┤ Rx(π/2) ├┤ Rz(5π/4) ├┤ Rx(π/2) ├─┼─┤ Rz(π/2) ├─────■─────┤ Rz(π/2) ├─┤ Rx(π/2) ├┤ Rz(3π/4) ├┤ Rx(π/2) ├─┼─┤ Rz(π/2) ├───────────────────────■─┤ Rz(π/2) ├┤ Rx(π/2) ├┤ Rz(5π/4) ├┤ Rx(π/2) ├┤ Rz(π/2) ├─■─┤ Rz(π/2) ├┤ Rx(π/2) ├┤ Rz(π/2) ├\n",
       "     └───────┘└─────────┘└─────────┘└─────────┘ │ ├─────────┤├─────────┤┌┴───────┴─┐└─────────┘└─────────┘   └──────────┘└─────────┘└──────────┘└─────────┘└─────────┘ │ ├─────────┤├─────────┤├─────────┬┘└─────────┘ │ ├─────────┤┌─────────┐├─────────┴┐├─────────┤├─────────┬┘└─────────┘ │ ├─────────┤┌─────────┐┌─────────┐ │ ├─────────┤├─────────┤├─────────┬┘└─────────┘└─────────┘ │ └─────────┘└─────────┘└─────────┘\n",
       "q_2: ───────────────────────────────────────────■─┤ Rz(π/2) ├┤ Rx(π/2) ├┤ Rz(3π/4) ├───────────────────────────────────────────────────────────────────────────────────■─┤ Rz(π/2) ├┤ Rx(π/2) ├┤ Rz(π/2) ├─────────────■─┤ Rz(π/2) ├┤ Rx(π/2) ├┤ Rz(3π/4) ├┤ Rx(π/2) ├┤ Rz(π/2) ├─────────────■─┤ Rz(π/2) ├┤ Rx(π/2) ├┤ Rz(π/2) ├─■─┤ Rz(π/2) ├┤ Rx(π/2) ├┤ Rz(π/2) ├────────────────────────■──────────────────────────────────\n",
       "                                                  └─────────┘└─────────┘└──────────┘                                                                                     └─────────┘└─────────┘└─────────┘               └─────────┘└─────────┘└──────────┘└─────────┘└─────────┘               └─────────┘└─────────┘└─────────┘   └─────────┘└─────────┘└─────────┘                                                           </pre>"
      ],
      "text/plain": [
       "global phase: π/8\n",
       "                                                                                                              ┌───────┐  ┌─────────┐                                                                                                                                                                                                                                                                                            \n",
       "q_0: ──────────────────────────────────────────────────────────────────────────────────────────────────────■──┤ Rx(π) ├──┤ Rz(π/4) ├───────────────────────────────────────────────────────────────────────────────────■─────────────────■────────────────────────────────────────────────────■─────────────────────────────────────────────────────────────────────────────────────────────────────────────────────────────────\n",
       "     ┌───────┐┌─────────┐┌─────────┐┌─────────┐   ┌─────────┐┌─────────┐ ┌───────┐  ┌─────────┐┌─────────┐ │ ┌┴───────┴─┐├─────────┤┌──────────┐┌─────────┐┌─────────┐   ┌─────────┐┌─────────┐┌──────────┐┌─────────┐ │ ┌─────────┐     │     ┌─────────┐ ┌─────────┐┌──────────┐┌─────────┐ │ ┌─────────┐                         ┌─────────┐┌─────────┐┌──────────┐┌─────────┐┌─────────┐   ┌─────────┐┌─────────┐┌─────────┐\n",
       "q_1: ┤ Rx(π) ├┤ Rz(π/2) ├┤ Rx(π/2) ├┤ Rz(π/2) ├─■─┤ Rz(π/2) ├┤ Rx(π/2) ├─┤ Rz(π) ├──┤ Rx(π/2) ├┤ Rz(π/2) ├─■─┤ Rz(3π/2) ├┤ Rx(π/2) ├┤ Rz(3π/4) ├┤ Rx(π/2) ├┤ Rz(π/2) ├─■─┤ Rz(π/2) ├┤ Rx(π/2) ├┤ Rz(5π/4) ├┤ Rx(π/2) ├─┼─┤ Rz(π/2) ├─────■─────┤ Rz(π/2) ├─┤ Rx(π/2) ├┤ Rz(3π/4) ├┤ Rx(π/2) ├─┼─┤ Rz(π/2) ├───────────────────────■─┤ Rz(π/2) ├┤ Rx(π/2) ├┤ Rz(5π/4) ├┤ Rx(π/2) ├┤ Rz(π/2) ├─■─┤ Rz(π/2) ├┤ Rx(π/2) ├┤ Rz(π/2) ├\n",
       "     └───────┘└─────────┘└─────────┘└─────────┘ │ ├─────────┤├─────────┤┌┴───────┴─┐└─────────┘└─────────┘   └──────────┘└─────────┘└──────────┘└─────────┘└─────────┘ │ ├─────────┤├─────────┤├─────────┬┘└─────────┘ │ ├─────────┤┌─────────┐├─────────┴┐├─────────┤├─────────┬┘└─────────┘ │ ├─────────┤┌─────────┐┌─────────┐ │ ├─────────┤├─────────┤├─────────┬┘└─────────┘└─────────┘ │ └─────────┘└─────────┘└─────────┘\n",
       "q_2: ───────────────────────────────────────────■─┤ Rz(π/2) ├┤ Rx(π/2) ├┤ Rz(3π/4) ├───────────────────────────────────────────────────────────────────────────────────■─┤ Rz(π/2) ├┤ Rx(π/2) ├┤ Rz(π/2) ├─────────────■─┤ Rz(π/2) ├┤ Rx(π/2) ├┤ Rz(3π/4) ├┤ Rx(π/2) ├┤ Rz(π/2) ├─────────────■─┤ Rz(π/2) ├┤ Rx(π/2) ├┤ Rz(π/2) ├─■─┤ Rz(π/2) ├┤ Rx(π/2) ├┤ Rz(π/2) ├────────────────────────■──────────────────────────────────\n",
       "                                                  └─────────┘└─────────┘└──────────┘                                                                                     └─────────┘└─────────┘└─────────┘               └─────────┘└─────────┘└──────────┘└─────────┘└─────────┘               └─────────┘└─────────┘└─────────┘   └─────────┘└─────────┘└─────────┘                                                           "
      ]
     },
     "execution_count": 451,
     "metadata": {},
     "output_type": "execute_result"
    }
   ],
   "source": [
    "res_c.draw(fold=700)"
   ]
  },
  {
   "cell_type": "code",
   "execution_count": 443,
   "id": "07c6864f",
   "metadata": {},
   "outputs": [
    {
     "data": {
      "text/html": [
       "<pre style=\"word-wrap: normal;white-space: pre;background: #fff0;line-height: 1.1;font-family: &quot;Courier New&quot;,Courier,monospace\">global phase: π/8\n",
       "     ┌───────┐                                                                                               ┌─────────┐                                                                                                                                                                                                                                                                                                       \n",
       "q_0: ┤ Rx(π) ├─────────────────────────────────────────────────────────────────────────────────────────────■─┤ Rz(π/4) ├──────────────────────────────────────────────────────────────────────────────────────────────■─────────────────■────────────────────────────────────────────────────■─────────────────────────────────────────────────────────────────────────────────────────────────────────────────────────────────\n",
       "     ├───────┤┌─────────┐┌─────────┐┌─────────┐   ┌─────────┐┌─────────┐ ┌───────┐  ┌─────────┐┌─────────┐ │ ├─────────┤┌─────────┐┌──────────┐┌─────────┐┌─────────┐   ┌─────────┐┌─────────┐┌──────────┐┌─────────┐ │ ┌─────────┐     │     ┌─────────┐ ┌─────────┐┌──────────┐┌─────────┐ │ ┌─────────┐                         ┌─────────┐┌─────────┐┌──────────┐┌─────────┐┌─────────┐   ┌─────────┐┌─────────┐┌─────────┐\n",
       "q_1: ┤ Rx(π) ├┤ Rz(π/2) ├┤ Rx(π/2) ├┤ Rz(π/2) ├─■─┤ Rz(π/2) ├┤ Rx(π/2) ├─┤ Rz(π) ├──┤ Rx(π/2) ├┤ Rz(π/2) ├─■─┤ Rz(π/2) ├┤ Rx(π/2) ├┤ Rz(3π/4) ├┤ Rx(π/2) ├┤ Rz(π/2) ├─■─┤ Rz(π/2) ├┤ Rx(π/2) ├┤ Rz(5π/4) ├┤ Rx(π/2) ├─┼─┤ Rz(π/2) ├─────■─────┤ Rz(π/2) ├─┤ Rx(π/2) ├┤ Rz(3π/4) ├┤ Rx(π/2) ├─┼─┤ Rz(π/2) ├───────────────────────■─┤ Rz(π/2) ├┤ Rx(π/2) ├┤ Rz(5π/4) ├┤ Rx(π/2) ├┤ Rz(π/2) ├─■─┤ Rz(π/2) ├┤ Rx(π/2) ├┤ Rz(π/2) ├\n",
       "     └───────┘└─────────┘└─────────┘└─────────┘ │ ├─────────┤├─────────┤┌┴───────┴─┐└─────────┘└─────────┘   └─────────┘└─────────┘└──────────┘└─────────┘└─────────┘ │ ├─────────┤├─────────┤├─────────┬┘└─────────┘ │ ├─────────┤┌─────────┐├─────────┴┐├─────────┤├─────────┬┘└─────────┘ │ ├─────────┤┌─────────┐┌─────────┐ │ ├─────────┤├─────────┤├─────────┬┘└─────────┘└─────────┘ │ └─────────┘└─────────┘└─────────┘\n",
       "q_2: ───────────────────────────────────────────■─┤ Rz(π/2) ├┤ Rx(π/2) ├┤ Rz(3π/4) ├──────────────────────────────────────────────────────────────────────────────────■─┤ Rz(π/2) ├┤ Rx(π/2) ├┤ Rz(π/2) ├─────────────■─┤ Rz(π/2) ├┤ Rx(π/2) ├┤ Rz(3π/4) ├┤ Rx(π/2) ├┤ Rz(π/2) ├─────────────■─┤ Rz(π/2) ├┤ Rx(π/2) ├┤ Rz(π/2) ├─■─┤ Rz(π/2) ├┤ Rx(π/2) ├┤ Rz(π/2) ├────────────────────────■──────────────────────────────────\n",
       "                                                  └─────────┘└─────────┘└──────────┘                                                                                    └─────────┘└─────────┘└─────────┘               └─────────┘└─────────┘└──────────┘└─────────┘└─────────┘               └─────────┘└─────────┘└─────────┘   └─────────┘└─────────┘└─────────┘                                                           </pre>"
      ],
      "text/plain": [
       "global phase: π/8\n",
       "     ┌───────┐                                                                                               ┌─────────┐                                                                                                                                                                                                                                                                                                       \n",
       "q_0: ┤ Rx(π) ├─────────────────────────────────────────────────────────────────────────────────────────────■─┤ Rz(π/4) ├──────────────────────────────────────────────────────────────────────────────────────────────■─────────────────■────────────────────────────────────────────────────■─────────────────────────────────────────────────────────────────────────────────────────────────────────────────────────────────\n",
       "     ├───────┤┌─────────┐┌─────────┐┌─────────┐   ┌─────────┐┌─────────┐ ┌───────┐  ┌─────────┐┌─────────┐ │ ├─────────┤┌─────────┐┌──────────┐┌─────────┐┌─────────┐   ┌─────────┐┌─────────┐┌──────────┐┌─────────┐ │ ┌─────────┐     │     ┌─────────┐ ┌─────────┐┌──────────┐┌─────────┐ │ ┌─────────┐                         ┌─────────┐┌─────────┐┌──────────┐┌─────────┐┌─────────┐   ┌─────────┐┌─────────┐┌─────────┐\n",
       "q_1: ┤ Rx(π) ├┤ Rz(π/2) ├┤ Rx(π/2) ├┤ Rz(π/2) ├─■─┤ Rz(π/2) ├┤ Rx(π/2) ├─┤ Rz(π) ├──┤ Rx(π/2) ├┤ Rz(π/2) ├─■─┤ Rz(π/2) ├┤ Rx(π/2) ├┤ Rz(3π/4) ├┤ Rx(π/2) ├┤ Rz(π/2) ├─■─┤ Rz(π/2) ├┤ Rx(π/2) ├┤ Rz(5π/4) ├┤ Rx(π/2) ├─┼─┤ Rz(π/2) ├─────■─────┤ Rz(π/2) ├─┤ Rx(π/2) ├┤ Rz(3π/4) ├┤ Rx(π/2) ├─┼─┤ Rz(π/2) ├───────────────────────■─┤ Rz(π/2) ├┤ Rx(π/2) ├┤ Rz(5π/4) ├┤ Rx(π/2) ├┤ Rz(π/2) ├─■─┤ Rz(π/2) ├┤ Rx(π/2) ├┤ Rz(π/2) ├\n",
       "     └───────┘└─────────┘└─────────┘└─────────┘ │ ├─────────┤├─────────┤┌┴───────┴─┐└─────────┘└─────────┘   └─────────┘└─────────┘└──────────┘└─────────┘└─────────┘ │ ├─────────┤├─────────┤├─────────┬┘└─────────┘ │ ├─────────┤┌─────────┐├─────────┴┐├─────────┤├─────────┬┘└─────────┘ │ ├─────────┤┌─────────┐┌─────────┐ │ ├─────────┤├─────────┤├─────────┬┘└─────────┘└─────────┘ │ └─────────┘└─────────┘└─────────┘\n",
       "q_2: ───────────────────────────────────────────■─┤ Rz(π/2) ├┤ Rx(π/2) ├┤ Rz(3π/4) ├──────────────────────────────────────────────────────────────────────────────────■─┤ Rz(π/2) ├┤ Rx(π/2) ├┤ Rz(π/2) ├─────────────■─┤ Rz(π/2) ├┤ Rx(π/2) ├┤ Rz(3π/4) ├┤ Rx(π/2) ├┤ Rz(π/2) ├─────────────■─┤ Rz(π/2) ├┤ Rx(π/2) ├┤ Rz(π/2) ├─■─┤ Rz(π/2) ├┤ Rx(π/2) ├┤ Rz(π/2) ├────────────────────────■──────────────────────────────────\n",
       "                                                  └─────────┘└─────────┘└──────────┘                                                                                    └─────────┘└─────────┘└─────────┘               └─────────┘└─────────┘└──────────┘└─────────┘└─────────┘               └─────────┘└─────────┘└─────────┘   └─────────┘└─────────┘└─────────┘                                                           "
      ]
     },
     "execution_count": 443,
     "metadata": {},
     "output_type": "execute_result"
    }
   ],
   "source": [
    "drop_c = merge_cz(circuits[1])\n",
    "drop_c = merge_unitary(drop_c)\n",
    "#drop_c = merge_unitary(circuits[1])\n",
    "drop_c.draw(fold=700)"
   ]
  },
  {
   "cell_type": "code",
   "execution_count": 444,
   "id": "5e26a752",
   "metadata": {
    "scrolled": false
   },
   "outputs": [
    {
     "data": {
      "text/plain": [
       "0.9999999999999964"
      ]
     },
     "execution_count": 444,
     "metadata": {},
     "output_type": "execute_result"
    }
   ],
   "source": [
    "d_res = Operator(res_c).to_matrix()\n",
    "d_drop = Operator(drop_c).to_matrix()\n",
    "d = Operator(circuits[1]).to_matrix()\n",
    "i_state = np.ones(2**3) / np.sqrt(2**3)\n",
    "#i_state = np.zeros(2 ** 3)\n",
    "#i_state[0] = 1 \n",
    "state_fidelity(d @ i_state.T, d_res @ i_state.T)"
   ]
  },
  {
   "cell_type": "code",
   "execution_count": 430,
   "id": "4c5e4e07",
   "metadata": {},
   "outputs": [
    {
     "data": {
      "text/plain": [
       "(51, 71, 59)"
      ]
     },
     "execution_count": 430,
     "metadata": {},
     "output_type": "execute_result"
    }
   ],
   "source": [
    "len(res_c), len(circuits[1]), len(drop_c)"
   ]
  },
  {
   "cell_type": "code",
   "execution_count": null,
   "id": "4e44cd21",
   "metadata": {},
   "outputs": [],
   "source": []
  },
  {
   "cell_type": "code",
   "execution_count": 447,
   "id": "0d9e8fa5",
   "metadata": {},
   "outputs": [
    {
     "data": {
      "text/plain": [
       "(0.3297181349133187, 0.3476758524121031)"
      ]
     },
     "execution_count": 447,
     "metadata": {},
     "output_type": "execute_result"
    }
   ],
   "source": [
    "fidelity_density_matrix_clifford(circuits[1]), fidelity_density_matrix_clifford(res_c)"
   ]
  },
  {
   "cell_type": "code",
   "execution_count": 454,
   "id": "a32abaab",
   "metadata": {},
   "outputs": [
    {
     "data": {
      "text/plain": [
       "(0.03540461214445693, 0.03540494414760009)"
      ]
     },
     "execution_count": 454,
     "metadata": {},
     "output_type": "execute_result"
    }
   ],
   "source": [
    "fidelity_density_matrix_orig(circuits[12]), fidelity_density_matrix_orig(res_c)"
   ]
  },
  {
   "cell_type": "code",
   "execution_count": 65,
   "id": "505468ca",
   "metadata": {},
   "outputs": [
    {
     "data": {
      "text/html": [
       "<pre style=\"word-wrap: normal;white-space: pre;background: #fff0;line-height: 1.1;font-family: &quot;Courier New&quot;,Courier,monospace\">global phase: π/8\n",
       "     ┌───────┐                                                                                                         ┌─────────┐                                                                                                                                                                                                                                                                                                                                                                       \n",
       "q_0: ┤ Rx(π) ├───────────────────────────────────────────────────────────────────────────────────────────────────────■─┤ Rz(π/4) ├───────────────────────────────────────────────────────────────────────────────────────────────────────────────────■───────────────────────────────────────■────────────────────────────────────────────────────■──────────────────────────────────────────────────────────────────────────────────────────────────────────────────────────────────────────────────────\n",
       "     ├───────┤┌─────────┐┌─────────┐┌─────────┐   ┌─────────┐┌─────────┐┌─────────┐┌─────────┐┌─────────┐┌─────────┐ │ ├─────────┤┌─────────┐┌─────────┐┌──────────┐┌─────────┐┌─────────┐┌─────────┐   ┌─────────┐┌─────────┐┌─────────┐┌─────────┐ │ ┌─────────┐┌─────────┐┌─────────┐     │      ┌─────────┐┌─────────┐┌─────────┐┌──────────┐ │ ┌─────────┐┌─────────┐┌─────────┐   ┌─────────┐┌─────────┐┌─────────┐┌─────────┐┌─────────┐┌─────────┐┌─────────┐   ┌─────────┐┌─────────┐┌─────────┐\n",
       "q_1: ┤ Rx(π) ├┤ Rz(π/2) ├┤ Rx(π/2) ├┤ Rz(π/2) ├─■─┤ Rz(π/2) ├┤ Rx(π/2) ├┤ Rz(π/2) ├┤ Rz(π/2) ├┤ Rx(π/2) ├┤ Rz(π/2) ├─■─┤ Rz(π/2) ├┤ Rx(π/2) ├┤ Rz(π/2) ├┤ Rz(-π/4) ├┤ Rz(π/2) ├┤ Rx(π/2) ├┤ Rz(π/2) ├─■─┤ Rz(π/2) ├┤ Rx(π/2) ├┤ Rz(π/2) ├┤ Rz(π/4) ├─┼─┤ Rz(π/2) ├┤ Rx(π/2) ├┤ Rz(π/2) ├─────■──────┤ Rz(π/2) ├┤ Rx(π/2) ├┤ Rz(π/2) ├┤ Rz(-π/4) ├─┼─┤ Rz(π/2) ├┤ Rx(π/2) ├┤ Rz(π/2) ├─■─┤ Rz(π/2) ├┤ Rx(π/2) ├┤ Rz(π/2) ├┤ Rz(π/4) ├┤ Rz(π/2) ├┤ Rx(π/2) ├┤ Rz(π/2) ├─■─┤ Rz(π/2) ├┤ Rx(π/2) ├┤ Rz(π/2) ├\n",
       "     └───────┘└─────────┘└─────────┘└─────────┘ │ ├─────────┤├─────────┤├─────────┤├─────────┤└─────────┘└─────────┘   └─────────┘└─────────┘└─────────┘└──────────┘└─────────┘└─────────┘└─────────┘ │ ├─────────┤├─────────┤├─────────┤└─────────┘ │ ├─────────┤├─────────┤├─────────┤┌──────────┐├─────────┤├─────────┤├─────────┤└──────────┘ │ ├─────────┤├─────────┤├─────────┤ │ ├─────────┤├─────────┤├─────────┤└─────────┘└─────────┘└─────────┘└─────────┘ │ └─────────┘└─────────┘└─────────┘\n",
       "q_2: ───────────────────────────────────────────■─┤ Rz(π/2) ├┤ Rx(π/2) ├┤ Rz(π/2) ├┤ Rz(π/4) ├────────────────────────────────────────────────────────────────────────────────────────────────────────■─┤ Rz(π/2) ├┤ Rx(π/2) ├┤ Rz(π/2) ├────────────■─┤ Rz(π/2) ├┤ Rx(π/2) ├┤ Rz(π/2) ├┤ Rz(-π/4) ├┤ Rz(π/2) ├┤ Rx(π/2) ├┤ Rz(π/2) ├─────────────■─┤ Rz(π/2) ├┤ Rx(π/2) ├┤ Rz(π/2) ├─■─┤ Rz(π/2) ├┤ Rx(π/2) ├┤ Rz(π/2) ├─────────────────────────────────────────────■──────────────────────────────────\n",
       "                                                  └─────────┘└─────────┘└─────────┘└─────────┘                                                                                                          └─────────┘└─────────┘└─────────┘              └─────────┘└─────────┘└─────────┘└──────────┘└─────────┘└─────────┘└─────────┘               └─────────┘└─────────┘└─────────┘   └─────────┘└─────────┘└─────────┘                                                                                </pre>"
      ],
      "text/plain": [
       "global phase: π/8\n",
       "     ┌───────┐                                                                                                         ┌─────────┐                                                                                                                                                                                                                                                                                                                                                                       \n",
       "q_0: ┤ Rx(π) ├───────────────────────────────────────────────────────────────────────────────────────────────────────■─┤ Rz(π/4) ├───────────────────────────────────────────────────────────────────────────────────────────────────────────────────■───────────────────────────────────────■────────────────────────────────────────────────────■──────────────────────────────────────────────────────────────────────────────────────────────────────────────────────────────────────────────────────\n",
       "     ├───────┤┌─────────┐┌─────────┐┌─────────┐   ┌─────────┐┌─────────┐┌─────────┐┌─────────┐┌─────────┐┌─────────┐ │ ├─────────┤┌─────────┐┌─────────┐┌──────────┐┌─────────┐┌─────────┐┌─────────┐   ┌─────────┐┌─────────┐┌─────────┐┌─────────┐ │ ┌─────────┐┌─────────┐┌─────────┐     │      ┌─────────┐┌─────────┐┌─────────┐┌──────────┐ │ ┌─────────┐┌─────────┐┌─────────┐   ┌─────────┐┌─────────┐┌─────────┐┌─────────┐┌─────────┐┌─────────┐┌─────────┐   ┌─────────┐┌─────────┐┌─────────┐\n",
       "q_1: ┤ Rx(π) ├┤ Rz(π/2) ├┤ Rx(π/2) ├┤ Rz(π/2) ├─■─┤ Rz(π/2) ├┤ Rx(π/2) ├┤ Rz(π/2) ├┤ Rz(π/2) ├┤ Rx(π/2) ├┤ Rz(π/2) ├─■─┤ Rz(π/2) ├┤ Rx(π/2) ├┤ Rz(π/2) ├┤ Rz(-π/4) ├┤ Rz(π/2) ├┤ Rx(π/2) ├┤ Rz(π/2) ├─■─┤ Rz(π/2) ├┤ Rx(π/2) ├┤ Rz(π/2) ├┤ Rz(π/4) ├─┼─┤ Rz(π/2) ├┤ Rx(π/2) ├┤ Rz(π/2) ├─────■──────┤ Rz(π/2) ├┤ Rx(π/2) ├┤ Rz(π/2) ├┤ Rz(-π/4) ├─┼─┤ Rz(π/2) ├┤ Rx(π/2) ├┤ Rz(π/2) ├─■─┤ Rz(π/2) ├┤ Rx(π/2) ├┤ Rz(π/2) ├┤ Rz(π/4) ├┤ Rz(π/2) ├┤ Rx(π/2) ├┤ Rz(π/2) ├─■─┤ Rz(π/2) ├┤ Rx(π/2) ├┤ Rz(π/2) ├\n",
       "     └───────┘└─────────┘└─────────┘└─────────┘ │ ├─────────┤├─────────┤├─────────┤├─────────┤└─────────┘└─────────┘   └─────────┘└─────────┘└─────────┘└──────────┘└─────────┘└─────────┘└─────────┘ │ ├─────────┤├─────────┤├─────────┤└─────────┘ │ ├─────────┤├─────────┤├─────────┤┌──────────┐├─────────┤├─────────┤├─────────┤└──────────┘ │ ├─────────┤├─────────┤├─────────┤ │ ├─────────┤├─────────┤├─────────┤└─────────┘└─────────┘└─────────┘└─────────┘ │ └─────────┘└─────────┘└─────────┘\n",
       "q_2: ───────────────────────────────────────────■─┤ Rz(π/2) ├┤ Rx(π/2) ├┤ Rz(π/2) ├┤ Rz(π/4) ├────────────────────────────────────────────────────────────────────────────────────────────────────────■─┤ Rz(π/2) ├┤ Rx(π/2) ├┤ Rz(π/2) ├────────────■─┤ Rz(π/2) ├┤ Rx(π/2) ├┤ Rz(π/2) ├┤ Rz(-π/4) ├┤ Rz(π/2) ├┤ Rx(π/2) ├┤ Rz(π/2) ├─────────────■─┤ Rz(π/2) ├┤ Rx(π/2) ├┤ Rz(π/2) ├─■─┤ Rz(π/2) ├┤ Rx(π/2) ├┤ Rz(π/2) ├─────────────────────────────────────────────■──────────────────────────────────\n",
       "                                                  └─────────┘└─────────┘└─────────┘└─────────┘                                                                                                          └─────────┘└─────────┘└─────────┘              └─────────┘└─────────┘└─────────┘└──────────┘└─────────┘└─────────┘└─────────┘               └─────────┘└─────────┘└─────────┘   └─────────┘└─────────┘└─────────┘                                                                                "
      ]
     },
     "execution_count": 65,
     "metadata": {},
     "output_type": "execute_result"
    }
   ],
   "source": [
    "circuits[1].draw(fold=500)"
   ]
  },
  {
   "cell_type": "code",
   "execution_count": 62,
   "id": "84c8510f",
   "metadata": {},
   "outputs": [
    {
     "data": {
      "text/plain": [
       "['qft_n4',\n",
       " 'fredkin_n3',\n",
       " 'dnn_n2',\n",
       " 'qec_sm_n5',\n",
       " 'deutsch_n2',\n",
       " 'bell_n4',\n",
       " 'teleportation_n3',\n",
       " 'shor_n5',\n",
       " 'wstate_n3',\n",
       " 'vqe_uccsd_n4',\n",
       " 'lpn_n5',\n",
       " 'sat_n7',\n",
       " 'hhl_n7',\n",
       " 'qrng_n4',\n",
       " 'qaoa_n6',\n",
       " 'pea_n5',\n",
       " 'toffoli_n3',\n",
       " 'inverseqft_n4',\n",
       " 'variational_n4',\n",
       " 'linearsolver_n3',\n",
       " 'grover_n2',\n",
       " 'basis_change_n3',\n",
       " 'adder_n4',\n",
       " 'vqe_n4',\n",
       " 'basis_trotter_n4',\n",
       " 'simon_n6',\n",
       " 'quantumwalks_n2',\n",
       " 'vqe_uccsd_n6',\n",
       " 'cat_state_n4',\n",
       " 'qaoa_n3',\n",
       " 'iswap_n2',\n",
       " 'qec_en_n5',\n",
       " 'ipea_n2']"
      ]
     },
     "execution_count": 62,
     "metadata": {},
     "output_type": "execute_result"
    }
   ],
   "source": [
    "[c.name for c in circuits]"
   ]
  },
  {
   "cell_type": "code",
   "execution_count": 465,
   "id": "d24643e3",
   "metadata": {},
   "outputs": [
    {
     "data": {
      "text/plain": [
       "<function __main__.fidelity_measuring(circuit: qiskit.circuit.quantumcircuit.QuantumCircuit, shots=1000)>"
      ]
     },
     "execution_count": 465,
     "metadata": {},
     "output_type": "execute_result"
    }
   ],
   "source": [
    "fidelity_measuring()"
   ]
  },
  {
   "cell_type": "code",
   "execution_count": null,
   "id": "62f956be",
   "metadata": {},
   "outputs": [],
   "source": []
  },
  {
   "cell_type": "code",
   "execution_count": 765,
   "id": "d7b09c95",
   "metadata": {},
   "outputs": [
    {
     "data": {
      "text/html": [
       "<pre style=\"word-wrap: normal;white-space: pre;background: #fff0;line-height: 1.1;font-family: &quot;Courier New&quot;,Courier,monospace\">              ┌───────┐      ┌───────┐   ┌───────┐                                             \n",
       "q_0: ────■────┤ Rz(π) ├────■─┤ Rz(π) ├─■─┤ Rz(π) ├─■────────────────────■──────────────────────\n",
       "         │    ├───────┤    │ └───────┘ │ ├───────┤ │ ┌───────┐┌───────┐ │    ┌───────┐         \n",
       "q_1: ────■────┤ Rx(π) ├─■──■─────■─────■─┤ Rx(π) ├─■─┤ Rx(π) ├┤ Rz(π) ├─■──■─┤ Rz(π) ├─────────\n",
       "     ┌───────┐└───────┘ │        │       └───────┘   └───────┘└───────┘    │ ├───────┤┌───────┐\n",
       "q_2: ┤ Rz(π) ├──────────■────────■─────────────────────────────────────────■─┤ Rz(π) ├┤ Rx(π) ├\n",
       "     └───────┘                                                               └───────┘└───────┘</pre>"
      ],
      "text/plain": [
       "              ┌───────┐      ┌───────┐   ┌───────┐                                             \n",
       "q_0: ────■────┤ Rz(π) ├────■─┤ Rz(π) ├─■─┤ Rz(π) ├─■────────────────────■──────────────────────\n",
       "         │    ├───────┤    │ └───────┘ │ ├───────┤ │ ┌───────┐┌───────┐ │    ┌───────┐         \n",
       "q_1: ────■────┤ Rx(π) ├─■──■─────■─────■─┤ Rx(π) ├─■─┤ Rx(π) ├┤ Rz(π) ├─■──■─┤ Rz(π) ├─────────\n",
       "     ┌───────┐└───────┘ │        │       └───────┘   └───────┘└───────┘    │ ├───────┤┌───────┐\n",
       "q_2: ┤ Rz(π) ├──────────■────────■─────────────────────────────────────────■─┤ Rz(π) ├┤ Rx(π) ├\n",
       "     └───────┘                                                               └───────┘└───────┘"
      ]
     },
     "execution_count": 765,
     "metadata": {},
     "output_type": "execute_result"
    }
   ],
   "source": [
    "o = merge_unitary(f)\n",
    "o.draw(fold=500)"
   ]
  }
 ],
 "metadata": {
  "hide_input": false,
  "kernelspec": {
   "display_name": "Python 3 (ipykernel)",
   "language": "python",
   "name": "python3"
  },
  "language_info": {
   "codemirror_mode": {
    "name": "ipython",
    "version": 3
   },
   "file_extension": ".py",
   "mimetype": "text/x-python",
   "name": "python",
   "nbconvert_exporter": "python",
   "pygments_lexer": "ipython3",
   "version": "3.9.6"
  }
 },
 "nbformat": 4,
 "nbformat_minor": 5
}
