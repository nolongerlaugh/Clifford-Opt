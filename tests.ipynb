{
 "cells": [
  {
   "cell_type": "code",
   "execution_count": 1,
   "id": "91353260",
   "metadata": {},
   "outputs": [],
   "source": [
    "from clifford_opt import *"
   ]
  },
  {
   "cell_type": "code",
   "execution_count": 2,
   "id": "9d96305d",
   "metadata": {},
   "outputs": [],
   "source": [
    "import os\n",
    "import sys\n",
    "from qiskit import QuantumCircuit, transpile\n",
    "from qiskit.providers.aer import AerSimulator\n",
    "import numpy as np\n",
    "import pandas as pd"
   ]
  },
  {
   "cell_type": "code",
   "execution_count": 3,
   "id": "58d98fc2",
   "metadata": {},
   "outputs": [],
   "source": [
    "directory_path='QASMBench/'"
   ]
  },
  {
   "cell_type": "code",
   "execution_count": 4,
   "id": "57385458",
   "metadata": {},
   "outputs": [],
   "source": [
    "def remove_conditions(circuit : QuantumCircuit):\n",
    "    circ = QuantumCircuit(*circuit.cregs, *circuit.qregs)\n",
    "    circ.name = circuit.name\n",
    "    for instr, qargs, cargs in circuit.data:\n",
    "        if (instr.condition is None):\n",
    "            circ.append(instr, qargs, cargs)\n",
    "    return circ"
   ]
  },
  {
   "cell_type": "code",
   "execution_count": 5,
   "id": "95de9712",
   "metadata": {},
   "outputs": [],
   "source": [
    "paths = []\n",
    "for root, dirs, files in os.walk(directory_path):\n",
    "    for dir_name in dirs:\n",
    "        qasm_file_path = os.path.join(directory_path, dir_name, f\"{dir_name}.qasm\")\n",
    "        number_at_end = int(''.join(filter(str.isdigit, dir_name)))\n",
    "        if os.path.exists(qasm_file_path) and number_at_end <= 7:\n",
    "            paths.append(qasm_file_path)"
   ]
  },
  {
   "cell_type": "code",
   "execution_count": 6,
   "id": "ea5a8f79",
   "metadata": {},
   "outputs": [],
   "source": [
    "circuits = []\n",
    "for i, path in enumerate(paths):    \n",
    "    filename = path.split('/')[-1]\n",
    "    sys.stdout.flush()\n",
    "    circuit = QuantumCircuit.from_qasm_file(path)\n",
    "    circuit.name = filename[:-5]\n",
    "    circuit = remove_conditions(circuit)\n",
    "    circuit.remove_final_measurements()\n",
    "    circuit2 = transpile(circuit, optimization_level=0, basis_gates=native_gates)\n",
    "    circuit2.name = circuit.name\n",
    "    circuits.append(circuit2)"
   ]
  },
  {
   "cell_type": "code",
   "execution_count": 7,
   "id": "b349cdf5",
   "metadata": {},
   "outputs": [],
   "source": [
    "def sorting_key(qc):\n",
    "    return (qc.num_qubits, len(qc))\n",
    "\n",
    "circuits_sorted = sorted(circuits, key=sorting_key)"
   ]
  },
  {
   "cell_type": "code",
   "execution_count": 24,
   "id": "4b3b3a4b",
   "metadata": {
    "scrolled": true
   },
   "outputs": [
    {
     "name": "stdout",
     "output_type": "stream",
     "text": [
      "\\\n",
      "deutsch_n2\n",
      "10,10,13,13,16,16,20,20,26,26,33,33,42,42,54,54,70,70,91,91,118,118,153,153,198,198,257,257,334,334,434,434,564,564,733,733,952,952,1237,1237,1608,1608,\\\n",
      "iswap_n2\n",
      "10,10,13,13,16,16,20,20,26,26,33,33,42,42,54,54,70,70,91,91,118,118,153,153,198,198,257,257,334,334,434,434,564,564,733,733,952,952,1237,1237,1608,1608,\\\n",
      "grover_n2\n",
      "10,10,13,13,16,16,20,20,26,26,33,33,42,42,54,54,70,70,91,91,118,118,153,153,198,198,257,257,334,334,434,434,564,564,733,733,952,952,1237,1237,1608,1608,\\\n",
      "quantumwalks_n2\n",
      "10,10,13,13,16,16,20,20,26,26,33,33,42,42,54,54,70,70,91,91,118,118,153,153,198,198,257,257,334,334,434,434,564,564,733,733,952,952,1237,1237,1608,1608,\\\n",
      "ipea_n2\n",
      "10,10,13,13,16,16,20,20,26,26,33,33,42,42,54,54,70,70,91,91,118,118,153,153,198,198,257,257,334,334,434,434,564,564,733,733,952,952,1237,1237,1608,1608,\\\n",
      "dnn_n2\n",
      "10,10,13,13,16,16,20,20,26,26,33,33,42,42,54,54,70,70,91,91,118,118,153,153,198,198,257,257,334,334,434,434,564,564,733,733,952,952,1237,1237,1608,1608,\\\n",
      "teleportation_n3\n",
      "10,10,13,13,16,16,20,20,26,26,33,33,42,42,54,54,70,70,91,91,118,118,153,153,198,198,257,257,334,334,434,434,564,564,733,733,952,952,1237,1237,1608,1608,\\\n",
      "qaoa_n3\n",
      "10,10,13,13,16,16,20,20,26,26,33,33,42,42,54,54,70,70,91,91,118,118,153,153,198,198,257,257,334,334,434,434,564,564,733,733,952,952,1237,1237,1608,1608,\\\n",
      "toffoli_n3\n",
      "10,10,13,13,16,16,20,20,26,26,33,33,42,42,54,54,70,70,91,91,118,118,153,153,198,198,257,257,334,334,434,434,564,564,733,733,952,952,1237,1237,1608,1608,\\\n",
      "fredkin_n3\n",
      "10,10,13,13,16,16,20,20,26,26,33,33,42,42,54,54,70,70,91,91,118,118,153,153,198,198,257,257,334,334,434,434,564,564,733,733,952,952,1237,1237,1608,1608,\\\n",
      "linearsolver_n3\n",
      "10,10,13,13,16,16,20,20,26,26,33,33,42,42,54,54,70,70,91,91,118,118,153,153,198,198,257,257,334,334,434,434,564,564,733,733,952,952,1237,1237,1608,1608,\\\n",
      "wstate_n3\n",
      "10,10,13,13,16,16,20,20,26,26,33,33,42,42,54,54,70,70,91,91,118,118,153,153,198,198,257,257,334,334,434,434,564,564,733,733,952,952,1237,1237,1608,1608,\\\n",
      "basis_change_n3\n",
      "10,10,13,13,16,16,20,20,26,26,33,33,42,42,54,54,70,70,91,91,118,118,153,153,198,198,257,257,334,334,434,434,564,564,733,733,952,952,1237,1237,1608,1608,\\\n",
      "qrng_n4\n",
      "10,10,13,13,16,16,20,20,26,26,33,33,42,42,54,54,70,70,91,91,118,118,153,153,198,198,257,257,334,334,434,434,564,564,733,733,952,952,1237,1237,1608,1608,\\\n",
      "cat_state_n4\n",
      "10,10,13,13,16,16,20,20,26,26,33,33,42,42,54,54,70,70,91,91,118,118,153,153,198,198,257,257,334,334,434,434,564,564,733,733,952,952,1237,1237,1608,1608,\\\n",
      "inverseqft_n4\n",
      "10,10,13,13,16,16,20,20,26,26,33,33,42,42,54,54,70,70,91,91,118,118,153,153,198,198,257,257,334,334,434,434,564,564,733,733,952,952,1237,1237,1608,1608,\\\n",
      "adder_n4\n",
      "10,10,13,13,16,16,20,20,26,26,33,33,42,42,54,54,70,70,91,91,118,118,153,153,198,198,257,257,334,334,434,434,564,564,733,733,952,952,1237,1237,1608,1608,\\\n",
      "qft_n4\n",
      "10,10,13,13,16,16,20,20,26,26,33,33,42,42,54,54,70,70,91,91,118,118,153,153,198,198,257,257,334,334,434,434,564,564,733,733,952,952,1237,1237,1608,1608,\\\n",
      "bell_n4\n",
      "10,10,13,13,16,16,20,20,26,26,33,33,42,42,54,54,70,70,91,91,118,118,153,153,198,198,257,257,334,334,434,434,564,564,733,733,952,952,1237,1237,1608,1608,\\\n",
      "vqe_n4\n",
      "10,10,13,13,16,16,20,20,26,26,33,33,42,42,54,54,70,70,91,91,118,118,153,153,198,198,257,257,334,334,434,434,564,564,733,733,952,952,1237,1237,1608,1608,\\\n",
      "variational_n4\n",
      "10,10,13,13,16,16,20,20,26,26,33,33,42,42,54,54,70,70,91,91,118,118,153,153,198,198,257,257,334,334,434,434,564,564,733,733,952,952,1237,1237,1608,1608,\\\n",
      "vqe_uccsd_n4\n",
      "10,10,13,13,16,16,20,20,26,26,33,33,42,42,54,54,70,70,91,91,118,118,153,153,198,198,257,257,334,334,434,434,564,564,733,733,952,952,1237,1237,1608,1608,\\\n",
      "basis_trotter_n4\n",
      "10,10,13,13,16,16,20,20,26,26,33,33,42,42,54,54,70,70,91,91,118,118,153,153,198,198,257,257,334,334,434,434,564,564,733,733,952,952,1237,1237,1608,1608,\\\n",
      "qec_sm_n5\n",
      "10,10,13,13,16,16,20,20,26,26,33,33,42,42,54,54,70,70,91,91,118,118,153,153,198,198,257,257,334,334,434,434,564,564,733,733,952,952,1237,1237,1608,1608,\\\n",
      "lpn_n5\n",
      "10,10,13,13,16,16,20,20,26,26,33,33,42,42,54,54,70,70,91,91,118,118,153,153,198,198,257,257,334,334,434,434,564,564,733,733,952,952,1237,1237,1608,1608,\\\n",
      "qec_en_n5\n",
      "10,10,13,13,16,16,20,20,26,26,33,33,42,42,54,54,70,70,91,91,118,118,153,153,198,198,257,257,334,334,434,434,564,564,733,733,952,952,1237,1237,1608,1608,\\\n",
      "shor_n5\n",
      "10,10,13,13,16,16,20,20,26,26,33,33,42,42,54,54,70,70,91,91,118,118,153,153,198,198,257,257,334,334,434,434,564,564,733,733,952,952,1237,1237,1608,1608,\\\n",
      "pea_n5\n",
      "10,10,13,13,16,16,20,20,26,26,33,33,42,42,54,54,70,70,91,91,118,118,153,153,198,198,257,257,334,334,434,434,564,564,733,733,952,952,1237,1237,1608,1608,\\\n",
      "simon_n6\n",
      "10,10,13,13,16,16,20,20,26,26,33,33,42,42,54,54,70,70,91,91,118,118,153,153,198,198,257,257,334,334,434,434,564,564,733,733,952,952,1237,1237,1608,1608,\\\n",
      "qaoa_n6\n",
      "10,10,13,13,16,16,20,20,26,26,33,33,42,42,54,54,70,70,91,91,118,118,153,153,198,198,257,257,334,334,434,434,564,564,733,733,952,952,1237,1237,1608,1608,\\\n",
      "vqe_uccsd_n6\n",
      "10,10,13,13,16,16,20,20,26,26,33,33,42,42,54,54,70,70,91,91,118,118,153,153,198,198,257,257,334,334,434,434,564,564,733,733,952,952,1237,1237,1608,1608,\\\n",
      "sat_n7\n",
      "10,10,13,13,16,16,20,20,26,26,33,33,42,42,54,54,70,70,91,91,118,118,153,153,198,198,257,257,334,334,434,434,564,564,733,733,952,952,1237,1237,1608,1608,\\\n",
      "hhl_n7\n",
      "10,10,13,13,16,16,20,20,26,26,33,33,42,42,54,54,70,70,91,91,118,118,153,153,198,198,257,257,334,334,434,434,564,564,733,733,952,952,1237,1237,1608,1608,"
     ]
    }
   ],
   "source": [
    "data = []\n",
    "shots = 10\n",
    "for circuit in circuits_sorted:\n",
    "    print('\\\\')\n",
    "    print(circuit.name)\n",
    "    shots = 10\n",
    "    eps = 1\n",
    "    fid1 = fidelity_density_matrix_orig(circuit, measure=True)\n",
    "    while shots < 2000:\n",
    "        epses = []\n",
    "        k = 0\n",
    "        while (k < 2):\n",
    "            fid2 = fidelity_clifford_measuring(circuit, shots=shots, use_tqdm=False)\n",
    "            data.append({'circuit' : circuit.name, \n",
    "                   'orig_fidelity' : fid1, \n",
    "                   'clifford_fidelity' : fid2, \n",
    "                    'shots': shots})\n",
    "            eps = np.abs(fid2 - fid1) / fid1\n",
    "            epses.append(eps)\n",
    "            #print(shots, circuit.name, fid1, fid2, eps)\n",
    "            print(shots, end= ',')\n",
    "            k += 1\n",
    "        eps = np.max(epses) if len(epses) else eps\n",
    "        shots = int(shots * 1.3)"
   ]
  },
  {
   "cell_type": "code",
   "execution_count": 30,
   "id": "b836fdaa",
   "metadata": {},
   "outputs": [],
   "source": [
    "df = pd.DataFrame(data)\n",
    "df['qubit_count'] = df['circuit'].apply(lambda c: int(c[-1]))\n",
    "df['eps'] = np.abs(df['orig_fidelity'] - df['clifford_fidelity']) / df['orig_fidelity']\n",
    "lens = {c.name : len(c) for c in circuits_sorted}\n",
    "circs = {c.name : c for c in circuits_sorted}\n",
    "def peaks(c1 : QuantumCircuit):\n",
    "    c = c1.copy()\n",
    "    g = AerSimulator()\n",
    "    c.measure_all()\n",
    "    return len(g.run(c, shots=2000).result().data()['counts'])\n",
    "peakss = {c.name: peaks(c) for c in circuits_sorted}\n",
    "df['len'] = df['circuit'].apply(lambda c: lens[c])\n",
    "df['peaks'] = df['circuit'].apply(lambda c: peakss[c])"
   ]
  },
  {
   "cell_type": "code",
   "execution_count": 9,
   "id": "e7458849",
   "metadata": {},
   "outputs": [
    {
     "name": "stderr",
     "output_type": "stream",
     "text": [
      "100%|██████████████████████████████████████████████████████████████████████████████████████████████████████| 1000/1000 [00:38<00:00, 25.75it/s]\n"
     ]
    },
    {
     "name": "stdout",
     "output_type": "stream",
     "text": [
      "0.22690966778584437 -71.47482094546099\n"
     ]
    },
    {
     "name": "stderr",
     "output_type": "stream",
     "text": [
      "100%|██████████████████████████████████████████████████████████████████████████████████████████████████████| 1000/1000 [00:28<00:00, 35.49it/s]\n"
     ]
    },
    {
     "name": "stdout",
     "output_type": "stream",
     "text": [
      "0.22703246817788864 -52.03782094546188\n"
     ]
    },
    {
     "data": {
      "text/plain": [
       "<qiskit.circuit.quantumcircuit.QuantumCircuit at 0x166d211f0>"
      ]
     },
     "execution_count": 9,
     "metadata": {},
     "output_type": "execute_result"
    }
   ],
   "source": [
    "transpiler(circuits_sorted[-1], use_tqdm=True, shots=1000)"
   ]
  },
  {
   "cell_type": "code",
   "execution_count": null,
   "id": "d8cf7144",
   "metadata": {},
   "outputs": [],
   "source": []
  }
 ],
 "metadata": {
  "hide_input": false,
  "kernelspec": {
   "display_name": "Python 3 (ipykernel)",
   "language": "python",
   "name": "python3"
  },
  "language_info": {
   "codemirror_mode": {
    "name": "ipython",
    "version": 3
   },
   "file_extension": ".py",
   "mimetype": "text/x-python",
   "name": "python",
   "nbconvert_exporter": "python",
   "pygments_lexer": "ipython3",
   "version": "3.9.6"
  }
 },
 "nbformat": 4,
 "nbformat_minor": 5
}
