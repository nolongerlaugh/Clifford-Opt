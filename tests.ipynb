{
 "cells": [
  {
   "cell_type": "code",
   "execution_count": 1,
   "id": "5fa67d1f",
   "metadata": {},
   "outputs": [],
   "source": [
    "import clifford_opt as opt"
   ]
  },
  {
   "cell_type": "code",
   "execution_count": 2,
   "id": "f681bc50",
   "metadata": {},
   "outputs": [],
   "source": [
    "import os\n",
    "import sys\n",
    "from qiskit import QuantumCircuit, transpile\n",
    "from qiskit.providers.aer import AerSimulator\n",
    "import numpy as np\n",
    "import pandas as pd\n",
    "from qiskit.quantum_info import Operator\n",
    "from tqdm import tqdm"
   ]
  },
  {
   "cell_type": "code",
   "execution_count": 3,
   "id": "670bd084",
   "metadata": {},
   "outputs": [],
   "source": [
    "directory_path='QASMBench/small/'"
   ]
  },
  {
   "cell_type": "code",
   "execution_count": 4,
   "id": "fb6ac876",
   "metadata": {},
   "outputs": [],
   "source": [
    "def remove_conditions(circuit : QuantumCircuit):\n",
    "    circ = QuantumCircuit(*circuit.cregs, *circuit.qregs)\n",
    "    circ.name = circuit.name\n",
    "    for instr, qargs, cargs in circuit.data:\n",
    "        if (instr.condition is None and instr.name != 'measure' and instr.name != 'reset' and instr.name != 'barrier'):\n",
    "            circ.append(instr, qargs, cargs)\n",
    "    return circ"
   ]
  },
  {
   "cell_type": "code",
   "execution_count": 5,
   "id": "e6924330",
   "metadata": {},
   "outputs": [
    {
     "data": {
      "text/plain": [
       "['QASMBench/small/qft_n4/qft_n4.qasm',\n",
       " 'QASMBench/small/fredkin_n3/fredkin_n3.qasm',\n",
       " 'QASMBench/small/dnn_n2/dnn_n2.qasm',\n",
       " 'QASMBench/small/qec_sm_n5/qec_sm_n5.qasm',\n",
       " 'QASMBench/small/deutsch_n2/deutsch_n2.qasm',\n",
       " 'QASMBench/small/bell_n4/bell_n4.qasm',\n",
       " 'QASMBench/small/teleportation_n3/teleportation_n3.qasm',\n",
       " 'QASMBench/small/shor_n5/shor_n5.qasm',\n",
       " 'QASMBench/small/qpe_n9/qpe_n9.qasm',\n",
       " 'QASMBench/small/wstate_n3/wstate_n3.qasm',\n",
       " 'QASMBench/small/vqe_uccsd_n4/vqe_uccsd_n4.qasm',\n",
       " 'QASMBench/small/lpn_n5/lpn_n5.qasm',\n",
       " 'QASMBench/small/hhl_n10/hhl_n10.qasm',\n",
       " 'QASMBench/small/sat_n7/sat_n7.qasm',\n",
       " 'QASMBench/small/hhl_n7/hhl_n7.qasm',\n",
       " 'QASMBench/small/qrng_n4/qrng_n4.qasm',\n",
       " 'QASMBench/small/qaoa_n6/qaoa_n6.qasm',\n",
       " 'QASMBench/small/pea_n5/pea_n5.qasm',\n",
       " 'QASMBench/small/toffoli_n3/toffoli_n3.qasm',\n",
       " 'QASMBench/small/dnn_n8/dnn_n8.qasm',\n",
       " 'QASMBench/small/adder_n10/adder_n10.qasm',\n",
       " 'QASMBench/small/inverseqft_n4/inverseqft_n4.qasm',\n",
       " 'QASMBench/small/variational_n4/variational_n4.qasm',\n",
       " 'QASMBench/small/linearsolver_n3/linearsolver_n3.qasm',\n",
       " 'QASMBench/small/grover_n2/grover_n2.qasm',\n",
       " 'QASMBench/small/basis_change_n3/basis_change_n3.qasm',\n",
       " 'QASMBench/small/adder_n4/adder_n4.qasm',\n",
       " 'QASMBench/small/vqe_n4/vqe_n4.qasm',\n",
       " 'QASMBench/small/basis_trotter_n4/basis_trotter_n4.qasm',\n",
       " 'QASMBench/small/ising_n10/ising_n10.qasm',\n",
       " 'QASMBench/small/vqe_uccsd_n8/vqe_uccsd_n8.qasm',\n",
       " 'QASMBench/small/simon_n6/simon_n6.qasm',\n",
       " 'QASMBench/small/quantumwalks_n2/quantumwalks_n2.qasm',\n",
       " 'QASMBench/small/vqe_uccsd_n6/vqe_uccsd_n6.qasm',\n",
       " 'QASMBench/small/cat_state_n4/cat_state_n4.qasm',\n",
       " 'QASMBench/small/qaoa_n3/qaoa_n3.qasm',\n",
       " 'QASMBench/small/iswap_n2/iswap_n2.qasm',\n",
       " 'QASMBench/small/qec_en_n5/qec_en_n5.qasm',\n",
       " 'QASMBench/small/ipea_n2/ipea_n2.qasm']"
      ]
     },
     "execution_count": 5,
     "metadata": {},
     "output_type": "execute_result"
    }
   ],
   "source": [
    "paths = []\n",
    "for root, dirs, files in os.walk(directory_path):\n",
    "    for dir_name in dirs:\n",
    "        qasm_file_path = os.path.join(directory_path, dir_name, f\"{dir_name}.qasm\")\n",
    "        number_at_end = int(''.join(filter(str.isdigit, dir_name)))\n",
    "        if os.path.exists(qasm_file_path) and number_at_end <= 20:\n",
    "            paths.append(qasm_file_path)\n",
    "paths"
   ]
  },
  {
   "cell_type": "code",
   "execution_count": 6,
   "id": "27a7198a",
   "metadata": {},
   "outputs": [
    {
     "name": "stderr",
     "output_type": "stream",
     "text": [
      "100%|██████████████████████████████████████████████████████████████████████████████████████████████████████████| 39/39 [00:01<00:00, 33.34it/s]\n"
     ]
    }
   ],
   "source": [
    "circuits = []\n",
    "for path in tqdm(paths):    \n",
    "    filename = path.split('/')[-1]\n",
    "    sys.stdout.flush()\n",
    "    circuit = QuantumCircuit.from_qasm_file(path)\n",
    "    if len(circuit) < 1000:\n",
    "        circuit.name = filename[:-5]\n",
    "        circuit = remove_conditions(circuit)\n",
    "        #print(circuit.name)\n",
    "        #circuit.remove_final_measurements()\n",
    "        circuit2 = transpile(circuit, optimization_level=0, basis_gates=opt.native_gates)\n",
    "        circuit2.name = circuit.name\n",
    "        circuits.append(circuit2)"
   ]
  },
  {
   "cell_type": "code",
   "execution_count": 7,
   "id": "18ddd50a",
   "metadata": {},
   "outputs": [],
   "source": [
    "def sorting_key(qc):\n",
    "    return (qc.num_qubits, len(qc))\n",
    "\n",
    "circuits_sorted = sorted(circuits, key=sorting_key)"
   ]
  },
  {
   "cell_type": "code",
   "execution_count": 8,
   "id": "ee679192",
   "metadata": {
    "scrolled": true
   },
   "outputs": [],
   "source": [
    "# data = []\n",
    "# shots = 10\n",
    "# for circuit in circuits_sorted:\n",
    "#     print('\\\\')\n",
    "#     print(circuit.name)\n",
    "#     shots = 10\n",
    "#     eps = 1\n",
    "#     fid1 = fidelity_density_matrix_orig(circuit, measure=True)\n",
    "#     while shots < 2000:\n",
    "#         epses = []\n",
    "#         k = 0\n",
    "#         while (k < 2):\n",
    "#             fid2 = fidelity_clifford_measuring(circuit, shots=shots, use_tqdm=False)\n",
    "#             data.append({'circuit' : circuit.name, \n",
    "#                    'orig_fidelity' : fid1, \n",
    "#                    'clifford_fidelity' : fid2, \n",
    "#                     'shots': shots})\n",
    "#             eps = np.abs(fid2 - fid1) / fid1\n",
    "#             epses.append(eps)\n",
    "#             #print(shots, circuit.name, fid1, fid2, eps)\n",
    "#             print(shots, end= ',')\n",
    "#             k += 1\n",
    "#         eps = np.max(epses) if len(epses) else eps\n",
    "#         shots = int(shots * 1.3)"
   ]
  },
  {
   "cell_type": "code",
   "execution_count": 9,
   "id": "d7dc20ac",
   "metadata": {},
   "outputs": [],
   "source": [
    "# df = pd.DataFrame(data)\n",
    "# df['qubit_count'] = df['circuit'].apply(lambda c: int(c[-1]))\n",
    "# df['eps'] = np.abs(df['orig_fidelity'] - df['clifford_fidelity']) / df['orig_fidelity']\n",
    "# lens = {c.name : len(c) for c in circuits_sorted}\n",
    "# circs = {c.name : c for c in circuits_sorted}\n",
    "# def peaks(c1 : QuantumCircuit):\n",
    "#     c = c1.copy()\n",
    "#     g = AerSimulator()\n",
    "#     c.measure_all()\n",
    "#     return len(g.run(c, shots=2000).result().data()['counts'])\n",
    "# peakss = {c.name: peaks(c) for c in circuits_sorted}\n",
    "# df['len'] = df['circuit'].apply(lambda c: lens[c])\n",
    "# df['peaks'] = df['circuit'].apply(lambda c: peakss[c])"
   ]
  },
  {
   "cell_type": "code",
   "execution_count": 10,
   "id": "aaa85b23",
   "metadata": {},
   "outputs": [],
   "source": [
    "def AssertCircuit(c, res_c):\n",
    "    u = Operator(res_c).to_matrix()\n",
    "    v = Operator(c).to_matrix()\n",
    "    assert(np.abs(np.abs((u @ v.conj().T).trace() / u.shape[0]) - 1) < 1e-6)"
   ]
  },
  {
   "cell_type": "code",
   "execution_count": 11,
   "id": "7e3cfb3d",
   "metadata": {},
   "outputs": [
    {
     "data": {
      "text/plain": [
       "<module 'clifford_opt' from '/Users/nolongerlaugh/mur/edc/CliffordOpt/clifford_opt/__init__.py'>"
      ]
     },
     "execution_count": 11,
     "metadata": {},
     "output_type": "execute_result"
    }
   ],
   "source": [
    "from time import time\n",
    "import sys\n",
    "from importlib import reload\n",
    "reload(opt)"
   ]
  },
  {
   "cell_type": "code",
   "execution_count": null,
   "id": "6229cfcf",
   "metadata": {},
   "outputs": [
    {
     "name": "stdout",
     "output_type": "stream",
     "text": [
      "-----deutsch_n2-------\n",
      "merge_unitary...\n"
     ]
    },
    {
     "name": "stderr",
     "output_type": "stream",
     "text": [
      "100%|████████████████████████████████████████████████████████████████████████████████████████████████████████| 17/17 [00:00<00:00, 1567.83it/s]\n"
     ]
    },
    {
     "name": "stdout",
     "output_type": "stream",
     "text": [
      "transpile...\n"
     ]
    },
    {
     "name": "stderr",
     "output_type": "stream",
     "text": [
      " 21%|█████████████████████                                                                             | 42887/200000 [06:19<22:35, 115.87it/s]"
     ]
    }
   ],
   "source": [
    "fs_merge = []\n",
    "res_opt = []\n",
    "fs_opt = []\n",
    "for c1 in circuits_sorted:\n",
    "    print(f'-----{c1.name}-------')\n",
    "    print(\"merge_unitary...\")\n",
    "    c = opt.transformer.merge_unitary(c1, u=True)\n",
    "    fs_merge.append(opt.fidelityQ.Qfidelity_density_matrix_orig(c))\n",
    "    print(\"transpile...\")\n",
    "    res_c = opt.transpiler(qc=c, func=opt.fidelityQ.Qfidelity_density_matrix_clifford, \n",
    "                           n_iter=200000, same=100000, use_tqdm=True, output=False)\n",
    "    res_opt.append(res_c)\n",
    "    fs_opt.append(opt.fidelityQ.Qfidelity_density_matrix_orig(res_c))\n",
    "    print(fs_merge[-1], fs_opt[-1])"
   ]
  },
  {
   "cell_type": "code",
   "execution_count": null,
   "id": "64ee445e",
   "metadata": {},
   "outputs": [],
   "source": []
  }
 ],
 "metadata": {
  "hide_input": false,
  "kernelspec": {
   "display_name": "Python 3 (ipykernel)",
   "language": "python",
   "name": "python3"
  },
  "language_info": {
   "codemirror_mode": {
    "name": "ipython",
    "version": 3
   },
   "file_extension": ".py",
   "mimetype": "text/x-python",
   "name": "python",
   "nbconvert_exporter": "python",
   "pygments_lexer": "ipython3",
   "version": "3.9.6"
  }
 },
 "nbformat": 4,
 "nbformat_minor": 5
}
